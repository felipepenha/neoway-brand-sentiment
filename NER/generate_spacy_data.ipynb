{
 "cells": [
  {
   "cell_type": "code",
   "execution_count": 1,
   "metadata": {},
   "outputs": [],
   "source": [
    "import pandas as pd\n",
    "import numpy as np\n",
    "import re\n",
    "import time"
   ]
  },
  {
   "cell_type": "code",
   "execution_count": 2,
   "metadata": {},
   "outputs": [],
   "source": [
    "brandlist = pd.read_csv('../analysis/wordnet_db/wordnet_food_beverages_list.csv', header=None, names=['word'])"
   ]
  },
  {
   "cell_type": "code",
   "execution_count": 3,
   "metadata": {},
   "outputs": [],
   "source": [
    "reviews = pd.read_json('restaurant_reviews_1900k.json', lines=True)"
   ]
  },
  {
   "cell_type": "code",
   "execution_count": 4,
   "metadata": {},
   "outputs": [
    {
     "data": {
      "text/html": [
       "<div>\n",
       "<style scoped>\n",
       "    .dataframe tbody tr th:only-of-type {\n",
       "        vertical-align: middle;\n",
       "    }\n",
       "\n",
       "    .dataframe tbody tr th {\n",
       "        vertical-align: top;\n",
       "    }\n",
       "\n",
       "    .dataframe thead th {\n",
       "        text-align: right;\n",
       "    }\n",
       "</style>\n",
       "<table border=\"1\" class=\"dataframe\">\n",
       "  <thead>\n",
       "    <tr style=\"text-align: right;\">\n",
       "      <th></th>\n",
       "      <th>business_id</th>\n",
       "      <th>cool</th>\n",
       "      <th>date</th>\n",
       "      <th>funny</th>\n",
       "      <th>review_id</th>\n",
       "      <th>stars</th>\n",
       "      <th>text</th>\n",
       "      <th>useful</th>\n",
       "      <th>user_id</th>\n",
       "    </tr>\n",
       "  </thead>\n",
       "  <tbody>\n",
       "    <tr>\n",
       "      <th>0</th>\n",
       "      <td>ikCg8xy5JIg_NGPx-MSIDA</td>\n",
       "      <td>0</td>\n",
       "      <td>2018-01-09 20:56:38</td>\n",
       "      <td>0</td>\n",
       "      <td>yi0R0Ugj_xUx_Nek0-_Qig</td>\n",
       "      <td>5</td>\n",
       "      <td>Went in for a lunch. Steak sandwich was delici...</td>\n",
       "      <td>0</td>\n",
       "      <td>dacAIZ6fTM6mqwW5uxkskg</td>\n",
       "    </tr>\n",
       "    <tr>\n",
       "      <th>1</th>\n",
       "      <td>eU_713ec6fTGNO4BegRaww</td>\n",
       "      <td>0</td>\n",
       "      <td>2013-01-20 13:25:59</td>\n",
       "      <td>0</td>\n",
       "      <td>fdiNeiN_hoCxCMy2wTRW9g</td>\n",
       "      <td>4</td>\n",
       "      <td>I'll be the first to admit that I was not exci...</td>\n",
       "      <td>0</td>\n",
       "      <td>w31MKYsNFMrjhWxxAb5wIw</td>\n",
       "    </tr>\n",
       "    <tr>\n",
       "      <th>2</th>\n",
       "      <td>3fw2X5bZYeW9xCz_zGhOHg</td>\n",
       "      <td>5</td>\n",
       "      <td>2016-05-07 01:21:02</td>\n",
       "      <td>4</td>\n",
       "      <td>G7XHMxG0bx9oBJNECG4IFg</td>\n",
       "      <td>3</td>\n",
       "      <td>Tracy dessert had a big name in Hong Kong and ...</td>\n",
       "      <td>5</td>\n",
       "      <td>jlu4CztcSxrKx56ba1a5AQ</td>\n",
       "    </tr>\n",
       "    <tr>\n",
       "      <th>3</th>\n",
       "      <td>zvO-PJCpNk4fgAVUnExYAA</td>\n",
       "      <td>1</td>\n",
       "      <td>2010-10-05 19:12:35</td>\n",
       "      <td>1</td>\n",
       "      <td>8e9HxxLjjqc9ez5ezzN7iQ</td>\n",
       "      <td>1</td>\n",
       "      <td>This place has gone down hill.  Clearly they h...</td>\n",
       "      <td>3</td>\n",
       "      <td>d6xvYpyzcfbF_AZ8vMB7QA</td>\n",
       "    </tr>\n",
       "    <tr>\n",
       "      <th>4</th>\n",
       "      <td>8mIrX_LrOnAqWsB5JrOojQ</td>\n",
       "      <td>0</td>\n",
       "      <td>2011-11-30 02:11:15</td>\n",
       "      <td>0</td>\n",
       "      <td>kbtscdyz6lvrtGjD1quQTg</td>\n",
       "      <td>4</td>\n",
       "      <td>Like walking back in time, every Saturday morn...</td>\n",
       "      <td>0</td>\n",
       "      <td>FIk4lQQu1eTe2EpzQ4xhBA</td>\n",
       "    </tr>\n",
       "  </tbody>\n",
       "</table>\n",
       "</div>"
      ],
      "text/plain": [
       "              business_id  cool                date  funny  \\\n",
       "0  ikCg8xy5JIg_NGPx-MSIDA     0 2018-01-09 20:56:38      0   \n",
       "1  eU_713ec6fTGNO4BegRaww     0 2013-01-20 13:25:59      0   \n",
       "2  3fw2X5bZYeW9xCz_zGhOHg     5 2016-05-07 01:21:02      4   \n",
       "3  zvO-PJCpNk4fgAVUnExYAA     1 2010-10-05 19:12:35      1   \n",
       "4  8mIrX_LrOnAqWsB5JrOojQ     0 2011-11-30 02:11:15      0   \n",
       "\n",
       "                review_id  stars  \\\n",
       "0  yi0R0Ugj_xUx_Nek0-_Qig      5   \n",
       "1  fdiNeiN_hoCxCMy2wTRW9g      4   \n",
       "2  G7XHMxG0bx9oBJNECG4IFg      3   \n",
       "3  8e9HxxLjjqc9ez5ezzN7iQ      1   \n",
       "4  kbtscdyz6lvrtGjD1quQTg      4   \n",
       "\n",
       "                                                text  useful  \\\n",
       "0  Went in for a lunch. Steak sandwich was delici...       0   \n",
       "1  I'll be the first to admit that I was not exci...       0   \n",
       "2  Tracy dessert had a big name in Hong Kong and ...       5   \n",
       "3  This place has gone down hill.  Clearly they h...       3   \n",
       "4  Like walking back in time, every Saturday morn...       0   \n",
       "\n",
       "                  user_id  \n",
       "0  dacAIZ6fTM6mqwW5uxkskg  \n",
       "1  w31MKYsNFMrjhWxxAb5wIw  \n",
       "2  jlu4CztcSxrKx56ba1a5AQ  \n",
       "3  d6xvYpyzcfbF_AZ8vMB7QA  \n",
       "4  FIk4lQQu1eTe2EpzQ4xhBA  "
      ]
     },
     "execution_count": 4,
     "metadata": {},
     "output_type": "execute_result"
    }
   ],
   "source": [
    "reviews.head()"
   ]
  },
  {
   "cell_type": "code",
   "execution_count": 5,
   "metadata": {
    "scrolled": true
   },
   "outputs": [],
   "source": [
    "# reviews.text = reviews.text.str.lower()\n",
    "brandlist.word = brandlist.word.str.lower()"
   ]
  },
  {
   "cell_type": "code",
   "execution_count": 11,
   "metadata": {},
   "outputs": [],
   "source": [
    "sample = reviews[:10000]"
   ]
  },
  {
   "cell_type": "code",
   "execution_count": 12,
   "metadata": {},
   "outputs": [
    {
     "data": {
      "text/plain": [
       "'\\n%%time\\ntrain_data = []\\nfor r, i in sample.iterrows():\\n    brands = []\\n    for brand in brandlist.word:\\n        for m in re.finditer(r\\'\\x08\\' + brand + r\\'\\x08\\', i.text.lower()):\\n            brands.append((m.start(0), m.end(0), \"PRODUCT\"))\\n    train_data.append((i.review_id, i.text, brands))\\n'"
      ]
     },
     "execution_count": 12,
     "metadata": {},
     "output_type": "execute_result"
    }
   ],
   "source": [
    "# Old implementation (regex) - 6x slower\n",
    "\"\"\"\n",
    "%%time\n",
    "train_data = []\n",
    "for r, i in sample.iterrows():\n",
    "    brands = []\n",
    "    for brand in brandlist.word:\n",
    "        for m in re.finditer(r'\\b' + brand + r'\\b', i.text.lower()):\n",
    "            brands.append((m.start(0), m.end(0), \"PRODUCT\"))\n",
    "    train_data.append((i.review_id, i.text, brands))\n",
    "\"\"\""
   ]
  },
  {
   "cell_type": "code",
   "execution_count": 13,
   "metadata": {
    "scrolled": true
   },
   "outputs": [
    {
     "name": "stdout",
     "output_type": "stream",
     "text": [
      "CPU times: user 7min 36s, sys: 2.14 s, total: 7min 38s\n",
      "Wall time: 7min 41s\n"
     ]
    }
   ],
   "source": [
    "%%time\n",
    "train_data = []\n",
    "for r, i in sample.iterrows():\n",
    "    brands = []\n",
    "    for brand in brandlist.word:\n",
    "        text = i.text.lower()\n",
    "        start_index = 0\n",
    "        while start_index < len(text):\n",
    "            start_index = text.find(brand, start_index)\n",
    "            end_index = start_index + len(brand)\n",
    "            if start_index == -1:\n",
    "                break\n",
    "            if not text[start_index-1].isalpha() and (end_index == len(text) or not text[end_index].isalpha()):\n",
    "                if brand not in ['place', 'restaurant', 'cafe', 'establishment', 'diner']:\n",
    "                    brands.append((start_index, end_index, \"PRODUCT\"))\n",
    "                else:\n",
    "                    brands.append((start_index, end_index, \"ESTABLISHMENT\"))\n",
    "            start_index += len(brand)\n",
    "    train_data.append((i.review_id, i.text, brands))"
   ]
  },
  {
   "cell_type": "code",
   "execution_count": 14,
   "metadata": {},
   "outputs": [],
   "source": [
    "result = pd.DataFrame(train_data, columns=['review_id', 'text', 'entities'])"
   ]
  },
  {
   "cell_type": "code",
   "execution_count": 15,
   "metadata": {},
   "outputs": [],
   "source": [
    "result.to_csv('spacy_train_10k.csv')"
   ]
  }
 ],
 "metadata": {
  "kernelspec": {
   "display_name": "Python 3",
   "language": "python",
   "name": "python3"
  },
  "language_info": {
   "codemirror_mode": {
    "name": "ipython",
    "version": 3
   },
   "file_extension": ".py",
   "mimetype": "text/x-python",
   "name": "python",
   "nbconvert_exporter": "python",
   "pygments_lexer": "ipython3",
   "version": "3.7.1"
  }
 },
 "nbformat": 4,
 "nbformat_minor": 2
}
