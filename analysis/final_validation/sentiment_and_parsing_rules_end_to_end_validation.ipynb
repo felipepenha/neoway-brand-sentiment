{
 "cells": [
  {
   "cell_type": "code",
   "execution_count": 1,
   "metadata": {},
   "outputs": [],
   "source": [
    "# example string to do mini tests on\n",
    "example = \"I just EASILY had the BEST lunch I've ever eaten!  It was THAT good!\\n\\nThe chicken tortilla soup was out of this world...light and delicate...fresh and HOT!!!\\nI had two fish tacos with no tortilla.  One was a regular fish taco and the other was a beer battered fish taco.l\\n\\nThe fire roasted salsa was EASILY the best salsa I have ever had, too!\\n\\nThis place is a serious gem!  I could go there every single day!\\n\\nThanks guys!!\""
   ]
  },
  {
   "cell_type": "markdown",
   "metadata": {},
   "source": [
    "# Import Benepar\n"
   ]
  },
  {
   "cell_type": "code",
   "execution_count": 2,
   "metadata": {},
   "outputs": [
    {
     "name": "stderr",
     "output_type": "stream",
     "text": [
      "D:\\Anaconda3\\lib\\site-packages\\tensorflow\\python\\framework\\dtypes.py:526: FutureWarning: Passing (type, 1) or '1type' as a synonym of type is deprecated; in a future version of numpy, it will be understood as (type, (1,)) / '(1,)type'.\n",
      "  _np_qint8 = np.dtype([(\"qint8\", np.int8, 1)])\n",
      "D:\\Anaconda3\\lib\\site-packages\\tensorflow\\python\\framework\\dtypes.py:527: FutureWarning: Passing (type, 1) or '1type' as a synonym of type is deprecated; in a future version of numpy, it will be understood as (type, (1,)) / '(1,)type'.\n",
      "  _np_quint8 = np.dtype([(\"quint8\", np.uint8, 1)])\n",
      "D:\\Anaconda3\\lib\\site-packages\\tensorflow\\python\\framework\\dtypes.py:528: FutureWarning: Passing (type, 1) or '1type' as a synonym of type is deprecated; in a future version of numpy, it will be understood as (type, (1,)) / '(1,)type'.\n",
      "  _np_qint16 = np.dtype([(\"qint16\", np.int16, 1)])\n",
      "D:\\Anaconda3\\lib\\site-packages\\tensorflow\\python\\framework\\dtypes.py:529: FutureWarning: Passing (type, 1) or '1type' as a synonym of type is deprecated; in a future version of numpy, it will be understood as (type, (1,)) / '(1,)type'.\n",
      "  _np_quint16 = np.dtype([(\"quint16\", np.uint16, 1)])\n",
      "D:\\Anaconda3\\lib\\site-packages\\tensorflow\\python\\framework\\dtypes.py:530: FutureWarning: Passing (type, 1) or '1type' as a synonym of type is deprecated; in a future version of numpy, it will be understood as (type, (1,)) / '(1,)type'.\n",
      "  _np_qint32 = np.dtype([(\"qint32\", np.int32, 1)])\n",
      "D:\\Anaconda3\\lib\\site-packages\\tensorflow\\python\\framework\\dtypes.py:535: FutureWarning: Passing (type, 1) or '1type' as a synonym of type is deprecated; in a future version of numpy, it will be understood as (type, (1,)) / '(1,)type'.\n",
      "  np_resource = np.dtype([(\"resource\", np.ubyte, 1)])\n",
      "[nltk_data] Downloading package benepar_en2 to\n",
      "[nltk_data]     C:\\Users\\jyzho\\AppData\\Roaming\\nltk_data...\n",
      "[nltk_data]   Package benepar_en2 is already up-to-date!\n"
     ]
    }
   ],
   "source": [
    "import benepar\n",
    "benepar.download(\"benepar_en2\")\n",
    "parser = benepar.Parser(\"benepar_en2\")"
   ]
  },
  {
   "cell_type": "markdown",
   "metadata": {},
   "source": [
    "# Import Entity Recognition Model"
   ]
  },
  {
   "cell_type": "code",
   "execution_count": null,
   "metadata": {},
   "outputs": [],
   "source": [
    "import spacy\n",
    "\n",
    "model_dir = \"./models\"\n",
    "nlp = spacy.load(model_dir)s"
   ]
  },
  {
   "cell_type": "code",
   "execution_count": null,
   "metadata": {},
   "outputs": [],
   "source": [
    "def get_entities(nlp_model, text):\n",
    "    \"\"\"\n",
    "    Input nlp_model and text, retrieve a list of unique entities from the text.\n",
    "    \"\"\"\n",
    "    doc = nlp_model(text)\n",
    "    entities = set()\n",
    "    for ent in doc.ents:\n",
    "        if ent.label_ == \"PRODUCT\":\n",
    "            entities.add(ent.text)\n",
    "    return list(entities)"
   ]
  },
  {
   "cell_type": "code",
   "execution_count": null,
   "metadata": {},
   "outputs": [],
   "source": [
    "example_entity_list = get_entities(nlp, example)\n",
    "example_entity_list"
   ]
  },
  {
   "cell_type": "code",
   "execution_count": 7,
   "metadata": {},
   "outputs": [],
   "source": [
    "#quick fix\n",
    "#example_entity_list = ['chicken tortilla soup', 'fish tacos', 'tortilla', 'beer battered fish taco', 'fire roasted salasa', 'place']"
   ]
  },
  {
   "cell_type": "code",
   "execution_count": 8,
   "metadata": {},
   "outputs": [
    {
     "data": {
      "text/plain": [
       "\"I just EASILY had the BEST lunch I've ever eaten!  It was THAT good!\\n\\nThe chicken tortilla soup was out of this world...light and delicate...fresh and HOT!!!\\nI had two fish tacos with no tortilla.  One was a regular fish taco and the other was a beer battered fish taco.l\\n\\nThe fire roasted salsa was EASILY the best salsa I have ever had, too!\\n\\nThis place is a serious gem!  I could go there every single day!\\n\\nThanks guys!!\""
      ]
     },
     "execution_count": 8,
     "metadata": {},
     "output_type": "execute_result"
    }
   ],
   "source": [
    "example"
   ]
  },
  {
   "cell_type": "markdown",
   "metadata": {},
   "source": [
    "# Sentiment Helper Code"
   ]
  },
  {
   "cell_type": "code",
   "execution_count": 9,
   "metadata": {},
   "outputs": [],
   "source": [
    "import collections\n",
    "import re\n",
    "\n",
    "def remove_nestings(lst): \n",
    "    output = []\n",
    "    \n",
    "    def remove_nestings_recursive(l):\n",
    "        for i in l: \n",
    "            if type(i) == list: \n",
    "                remove_nestings_recursive(i) \n",
    "            else: \n",
    "                output.append(i)\n",
    "    \n",
    "    remove_nestings_recursive(lst)\n",
    "    \n",
    "    return output\n",
    "\n",
    "def continue_splitting(review,list_of_dividers):\n",
    "        \n",
    "    temp = list_of_dividers.copy()\n",
    "    l = [review]\n",
    "    while len(temp) > 0:\n",
    "        divider = temp.pop(0)\n",
    "        l_new = []\n",
    "        for i in l:\n",
    "            l_new += i.split(divider)\n",
    "        l = l_new\n",
    "    return l\n",
    "\n",
    "def join_clause(review, list_of_split_clauses, list_of_dividers):\n",
    "    output = []\n",
    "    loc_of_split_clauses = []\n",
    "    for clause in list_of_split_clauses:\n",
    "        loc_of_split_clauses.append(review.find(clause))\n",
    "    for divider in list_of_dividers:\n",
    "        print(divider)\n",
    "        loc_div = review.find(divider)\n",
    "        print(loc_div)\n",
    "        for i in range(len(loc_of_split_clauses)):\n",
    "            if loc_div > loc_of_split_clauses[i]:\n",
    "                print(loc_div,loc_of_split_clauses[i])\n",
    "                \n",
    "def join_partitions(long_review,entity_with_review):\n",
    "    loclist = []\n",
    "    for (_, clause) in entity_with_review:\n",
    "        loclist.append((long_review.find(clause),long_review.find(clause)+len(clause)))\n",
    "    starts = {i for (i,j) in loclist}\n",
    "    ends = {j for (i,j) in loclist}\n",
    "    starts.add(len(long_review))\n",
    "    newends = {}\n",
    "    for i in ends:\n",
    "        newends[i] = min([x for x in starts if x >= i])\n",
    "    for i in newends:\n",
    "        pass\n",
    "    new_entity_with_review = []\n",
    "    for i in range(len(loclist)):\n",
    "        tup = loclist[i]\n",
    "        entity = entity_with_review[i][0]\n",
    "        st = tup[0]\n",
    "        en = newends[tup[1]]\n",
    "        new_entity_with_review.append((entity,long_review[st:en]))\n",
    "    return new_entity_with_review\n",
    "\n",
    "def split_long_string(review):\n",
    "    num = len(review)\n",
    "    split_list = []\n",
    "    start = 0\n",
    "    end = 0\n",
    "    while num != end:\n",
    "        if num - end < 1000:\n",
    "            end = num\n",
    "            split_list.append(review[start:end])\n",
    "        else:\n",
    "            end = review[start:(start+1000)].rfind('.')\n",
    "            if end == -1:\n",
    "                end = review[start:(start+1000)].rfind(' ') #if no '.', space will do\n",
    "                if end == -1:\n",
    "                    end = min(start + 1000,num)\n",
    "            split_list.append(review[start:end])\n",
    "            start = end\n",
    "    print(start,end)\n",
    "    return(split_list)\n",
    "\n",
    "def split_review_naive(review,entities):\n",
    "    clauses = re.split('[.?!]',review)\n",
    "    lenlist = [len(x) for x in clauses]\n",
    "    clauses = [x for _, x in sorted(zip(lenlist,clauses),reverse=False)]\n",
    "    entity_with_clause = []\n",
    "    for entity in entities:\n",
    "        for clause in clauses:\n",
    "            if entity in clause:\n",
    "                entity_with_clause.append((entity,clause))\n",
    "                break\n",
    "    return(join_partitions(review,entity_with_clause))\n",
    "\n",
    "def min_tree(review, entities, parser, output = 'minimum'):\n",
    "    \n",
    "    #review is string, entities is list of strings, parser is parser object\n",
    "    # TODO: How well are each review punctuatd and so forth EDA\n",
    "    if output == 'partition':\n",
    "        full_review = ''\n",
    "        \n",
    "    treelist = []\n",
    "    lenlist = []\n",
    "    temp = review.split('\\n')\n",
    "    \n",
    "    if output == 'no_parse':\n",
    "        return(split_review_naive(review,entities))\n",
    "    \n",
    "    if len(review) > 1000:\n",
    "        split_reviews = split_long_string(review)\n",
    "    else:\n",
    "        split_reviews = [i for i in temp if len(i) > 1 and len(i) <= 1000 ]\n",
    "    \n",
    "    for rev in split_reviews:\n",
    "        if rev and rev.strip():\n",
    "            u = parser.parse(rev) # tree \n",
    "\n",
    "            if type(u) == str:\n",
    "                u = nltk.Tree.fromstring(u)\n",
    "\n",
    "            for s in u.subtrees(): # subtrees \n",
    "                if s.label() == 'S': # if sentence\n",
    "                    treelist += [s]\n",
    "                    lenlist += [len(s.leaves())] # how long clause\n",
    "                        \n",
    "            if output == 'partition':\n",
    "                full_review += ' '.join(u.leaves()) + ' '\n",
    "\n",
    "    treelist = [x for _, x in sorted(zip(lenlist,treelist),reverse=False)] # sort by lenlisit\n",
    "    clauses = [' '.join(tree.leaves()) for tree in treelist]\n",
    "    \n",
    "    #If there is no sentences detected, then the full review is the only clause.\n",
    "    if not clauses:\n",
    "        if output == 'partition':\n",
    "            clauses.append(full_review)\n",
    "        else:\n",
    "            clauses.append(review)\n",
    "    entity_with_clause = []\n",
    "    \n",
    "    if output == 'all':\n",
    "        for entity in entities:\n",
    "            clauselist = []\n",
    "            for clause in clauses:\n",
    "                if entity in clause:\n",
    "                    clauselist.append(clause)\n",
    "            entity_with_clause.append((entity,clauselist))\n",
    "    \n",
    "    #TODO: create rules and test them\n",
    "    elif output == 'minimum':\n",
    "        for entity in entities:\n",
    "            for clause in clauses:\n",
    "                if entity in clause:\n",
    "                    entity_with_clause.append((entity,clause))\n",
    "                    break\n",
    "                    \n",
    "    elif output == 'partition':\n",
    "        #first find minimal clause\n",
    "        for entity in entities:\n",
    "            for clause in clauses:\n",
    "                if entity in clause:\n",
    "                    entity_with_clause.append((entity,clause))\n",
    "                    break\n",
    "        #get location of minimal clause in review\n",
    "        \n",
    "        entity_with_clause = join_partitions(full_review,entity_with_clause)\n",
    "    \n",
    "    return entity_with_clause"
   ]
  },
  {
   "cell_type": "markdown",
   "metadata": {},
   "source": [
    "# Code to Perform Sentiment Analysis"
   ]
  },
  {
   "cell_type": "code",
   "execution_count": 10,
   "metadata": {},
   "outputs": [],
   "source": [
    "#STANFORD NLP\n",
    "import numpy as np\n",
    "from pycorenlp import StanfordCoreNLP\n",
    "def stanford_sentiment_start():\n",
    "    nlp = StanfordCoreNLP('http://localhost:9000')\n",
    "    return nlp\n",
    "\n",
    "def stanford_sentiment(entity_with_clause):\n",
    "    nlp = stanford_sentiment_start()\n",
    "    entity_with_sentiment = []\n",
    "    for entity, clause in entity_with_clause:\n",
    "        result = nlp.annotate(clause,\n",
    "                   properties={\n",
    "                       'annotators': 'sentiment',\n",
    "                       'outputFormat': 'json'\n",
    "                   })\n",
    "        sentiment = np.dot(result['sentences'][0]['sentimentDistribution'], [-2, -1, 0, 1, 2])\n",
    "        entity_with_sentiment.append((entity, sentiment))\n",
    "    return entity_with_sentiment\n",
    "\n",
    "#VADER\n",
    "from vaderSentiment.vaderSentiment import SentimentIntensityAnalyzer\n",
    "def vader_sentiment(entity_with_clause):\n",
    "    analyzer = SentimentIntensityAnalyzer()\n",
    "    entity_with_sentiment = []\n",
    "    for entity, clause in entity_with_clause:\n",
    "        sentiment = analyzer.polarity_scores(clause)['compound']\n",
    "        entity_with_sentiment.append((entity,sentiment))\n",
    "    return(entity_with_sentiment)       "
   ]
  },
  {
   "cell_type": "markdown",
   "metadata": {},
   "source": [
    "# Run sentiment analysis"
   ]
  },
  {
   "cell_type": "code",
   "execution_count": 11,
   "metadata": {},
   "outputs": [],
   "source": [
    "def gen_sentiment(review, entities, parser = [], sentiment_package = 'vader', parse_package = 'benepar', rule = 'rule_1'):\n",
    "    \n",
    "    #print(\"\\nLoading Parser\")\n",
    "    \n",
    "    #first is the parser\n",
    "    if not parser and parse_package == 'benepar':\n",
    "        parser = benepar.Parser(\"benepar_en2\")\n",
    "    elif not parser and parse_package == 'stanford':\n",
    "        #parser = StanfordNLP('http://localhost')\n",
    "        raise Exception('incorrect parse package')\n",
    "    elif parser:\n",
    "        pass\n",
    "    else:\n",
    "        raise Exception('incorrect parse package')\n",
    "    \n",
    "    #print(\"Parser =\", parse_package)\n",
    "\n",
    "        \n",
    "    #second is the rule\n",
    "    \n",
    "    #print(\"\\nLoading Rule\")\n",
    "    \n",
    "    if rule == 'rule_1':\n",
    "        \n",
    "        #print(\"Rule =\",rule)\n",
    "        \n",
    "        entity_with_review = min_tree(review, entities, parser, output = 'minimum')\n",
    "        \n",
    "        #print(\"\\nTree Generated\")\n",
    "        \n",
    "        entity_with_sentiment = sentiment_analysis(entity_with_review, sentiment_package)\n",
    "        \n",
    "        #print(\"\\nSentiment Generated\")\n",
    "\n",
    "        \n",
    "    elif rule == 'rule_2':\n",
    "        \n",
    "        #print(\"Rule =\",rule)\n",
    "        \n",
    "        entity_with_review = min_tree(review, entities, parser, output = 'all')\n",
    "        \n",
    "        #print(\"\\nTree Generated\")\n",
    "        entity_with_sentiment = []\n",
    "        sentiment = 0\n",
    "        for ent, revlist in entity_with_review:\n",
    "            for clause in revlist:\n",
    "                sentiment = sentiment_analysis_indiv(clause,sentiment_package)\n",
    "                if sentiment_package == 'benepar' and abs(sentiment) != 0:\n",
    "                    break\n",
    "                elif sentiment_package == 'stanford' and abs(sentiment) > 0.5:\n",
    "                    break\n",
    "                    #if sentiment is not neutral, stop. If sentiment is neutral, keep going up tree.\n",
    "            entity_with_sentiment.append((ent,sentiment))\n",
    "        #print(\"\\nSentiment Generated\")        \n",
    "        \n",
    "    elif rule == 'rule_3':\n",
    "        \n",
    "        #print(\"Rule =\",rule)\n",
    "        \n",
    "        entity_with_review = min_tree(review, entities, parser, output = 'all')\n",
    "        \n",
    "        #print(\"\\nTree Generated\")\n",
    "        \n",
    "        entity_with_sentiment = []\n",
    "        for ent, revlist in entity_with_review:\n",
    "            sentiment_list = []\n",
    "            for clause in revlist:\n",
    "                sentiment = sentiment_analysis_indiv(clause,sentiment_package)\n",
    "                sentiment_list.append(sentiment)\n",
    "            entity_with_sentiment.append((ent,np.mean(sentiment_list)))\n",
    "            \n",
    "        #print(\"\\nSentiment Generated\") \n",
    "        \n",
    "    elif rule == 'rule_4':\n",
    "        \n",
    "        #print(\"Rule =\",rule)\n",
    "        \n",
    "        entity_with_review = min_tree(review, entities, parser, output = 'partition')\n",
    "        #print(\"\\nTree Generated\")\n",
    "        \n",
    "        entity_with_sentiment = sentiment_analysis(entity_with_review, sentiment_package)\n",
    "        \n",
    "        #print(\"\\nSentiment Generated\")\n",
    "        \n",
    "    elif rule == 'rule_5':\n",
    "        \n",
    "        #print(\"Rule =\",rule)\n",
    "        \n",
    "        entity_with_review = min_tree(review, entities, parser, output = 'minimum')\n",
    "        entity_with_review_p = min_tree(review, entities, parser, output = 'partition')\n",
    "        #print(\"\\nTree Generated\")\n",
    "        \n",
    "        entity_with_sentiment = sentiment_analysis(entity_with_review, sentiment_package)\n",
    "        for i in range(len(entity_with_sentiment)):\n",
    "            sent = entity_with_sentiment[i][1]\n",
    "            if sentiment_package == 'vader' and sent != 0:\n",
    "                entity_with_sentiment[i] = (entity_with_sentiment[i][0],sentiment_analysis_indiv(entity_with_review_p[i][1],sentiment_package))\n",
    "            elif sentiment_package == 'stanford' and abs(sent) > 0.5:\n",
    "                entity_with_sentiment[i] = (entity_with_sentiment[i][0],sentiment_analysis_indiv(entity_with_review_p[i][1],sentiment_package))\n",
    "    \n",
    "    elif rule == 'rule_6':\n",
    "        \n",
    "        entity_with_review = min_tree(review, entities, parser, output = 'no_parse')\n",
    "        entity_with_sentiment = sentiment_analysis(entity_with_review, sentiment_package)\n",
    "        \n",
    "        #print(\"\\nSentiment Generated\")\n",
    "    \n",
    "    else:\n",
    "        raise Exception('incorrect rule')\n",
    "    \n",
    "    return(entity_with_sentiment)\n",
    "    \n",
    "def sentiment_analysis(entity_with_review, sentiment_package = 'stanford'):\n",
    "    #takes in list of tuples\n",
    "    if sentiment_package == 'stanford':\n",
    "        return stanford_sentiment(entity_with_review)\n",
    "    elif sentiment_package == 'vader':\n",
    "        return vader_sentiment(entity_with_review)\n",
    "    else:\n",
    "        raise Exception('incorrect sentiment package')\n",
    "\n",
    "def sentiment_analysis_indiv(clause,sentiment_package = 'stanford'):\n",
    "    #takes in a single review\n",
    "    if sentiment_package == 'stanford':\n",
    "        nlp = stanford_sentiment_start()\n",
    "        result = nlp.annotate(clause,\n",
    "                   properties={\n",
    "                       'annotators': 'sentiment',\n",
    "                       'outputFormat': 'json'\n",
    "                   })\n",
    "        print(result['sentences'][0]['sentimentDistribution'])\n",
    "        return np.dot(result['sentences'][0]['sentimentDistribution'], [-2, -1, 0, 1, 2])\n",
    "    elif sentiment_package == 'vader':\n",
    "        analyzer = SentimentIntensityAnalyzer()\n",
    "        return analyzer.polarity_scores(clause)['compound']\n",
    "    else:\n",
    "        raise Exception('incorrect sentiment package')"
   ]
  },
  {
   "cell_type": "markdown",
   "metadata": {},
   "source": [
    "# Perform End-to-End Validation"
   ]
  },
  {
   "cell_type": "code",
   "execution_count": 12,
   "metadata": {},
   "outputs": [],
   "source": [
    "import pandas as pd\n",
    "import numpy as np\n",
    "import matplotlib.pyplot as plt\n",
    "import ast\n",
    "from tqdm.notebook import tqdm\n",
    "from collections import defaultdict"
   ]
  },
  {
   "cell_type": "code",
   "execution_count": 13,
   "metadata": {},
   "outputs": [
    {
     "name": "stdout",
     "output_type": "stream",
     "text": [
      "Number of businesses in subset:  142\n",
      "Number of businesses with 3.5-4.5 stars:  57\n"
     ]
    }
   ],
   "source": [
    "# GET ALL RESTAURANTS \n",
    "\n",
    "# import data\n",
    "df_raw = pd.read_json(\"restaurant_reviews_1900k.json\", lines=True)\n",
    "\n",
    "# only get restaurants with many reviews\n",
    "many_reviews = df_raw[['business_id','review_id']].groupby(\"business_id\")['review_id'].nunique()\n",
    "many_reviews = many_reviews[many_reviews > 1000].index # more than 100 reviews\n",
    "df = df_raw[df_raw.business_id.isin(set(many_reviews))]\n",
    "print(\"Number of businesses in subset: \", len(df.business_id.unique()))\n",
    "\n",
    "# only grab restaurants with 3-4 stars\n",
    "business_stars = df[['business_id', 'stars']].groupby('business_id').mean()\n",
    "business_ids_similar_stars= business_stars[\n",
    "    (business_stars.stars >= 3.0) \n",
    "    & (business_stars.stars <= 4.0)].index\n",
    "\n",
    "print(\"Number of businesses with 3.5-4.5 stars: \", len(business_ids_similar_stars.unique()))"
   ]
  },
  {
   "cell_type": "code",
   "execution_count": 14,
   "metadata": {},
   "outputs": [],
   "source": [
    "bus = df[df.business_id.isin(set(business_ids_similar_stars[:50]))]"
   ]
  },
  {
   "cell_type": "code",
   "execution_count": 16,
   "metadata": {},
   "outputs": [],
   "source": [
    "bus.to_csv(\"restaurants_with_enough_stars_50.csv\")"
   ]
  },
  {
   "cell_type": "code",
   "execution_count": 17,
   "metadata": {},
   "outputs": [],
   "source": [
    "business_ids_similar_stars = bus.business_id.unique()"
   ]
  },
  {
   "cell_type": "code",
   "execution_count": 20,
   "metadata": {},
   "outputs": [
    {
     "name": "stdout",
     "output_type": "stream",
     "text": [
      "RULE:  rule_2\n"
     ]
    },
    {
     "data": {
      "application/vnd.jupyter.widget-view+json": {
       "model_id": "b37cbb0212094bceb6d66edfaf245968",
       "version_major": 2,
       "version_minor": 0
      },
      "text/plain": [
       "HBox(children=(IntProgress(value=0, max=50), HTML(value='')))"
      ]
     },
     "metadata": {},
     "output_type": "display_data"
    },
    {
     "name": "stdout",
     "output_type": "stream",
     "text": [
      "Running on restaurant  d_L-rfS1vT3JMzgCUGtiow ...\n",
      "Number of Reviews left after subset length:  679\n",
      "Extracting entities from each review...\n"
     ]
    },
    {
     "data": {
      "application/vnd.jupyter.widget-view+json": {
       "model_id": "2d2a3d0511ea4b2ea9a9267fbc8a85b7",
       "version_major": 2,
       "version_minor": 0
      },
      "text/plain": [
       "HBox(children=(IntProgress(value=0, max=679), HTML(value='')))"
      ]
     },
     "metadata": {},
     "output_type": "display_data"
    },
    {
     "name": "stdout",
     "output_type": "stream",
     "text": [
      "\n",
      "Filtering entities to have enough reviews...\n",
      "Calculating Yelp Star Rankings... \n",
      "Calculating Prediction Rankings...\n",
      "Performing sentiment analysis for each review... \n"
     ]
    },
    {
     "data": {
      "application/vnd.jupyter.widget-view+json": {
       "model_id": "1b3162ac95a0472eb0f9e03a0dc361fe",
       "version_major": 2,
       "version_minor": 0
      },
      "text/plain": [
       "HBox(children=(IntProgress(value=0, max=679), HTML(value='')))"
      ]
     },
     "metadata": {},
     "output_type": "display_data"
    },
    {
     "name": "stdout",
     "output_type": "stream",
     "text": [
      "\n",
      "Rankings result: \n",
      "        entity  average_stars  predicted_score\n",
      "0         fish       3.533333         0.467778\n",
      "1        staff       4.046512         0.633719\n",
      "2         food       3.826979         0.562120\n",
      "3      service       3.904552         0.566233\n",
      "4      chicken       3.864151         0.692516\n",
      "5         corn       3.955285         0.741853\n",
      "6   atmosphere       4.108696         0.647784\n",
      "7         menu       4.064815         0.680333\n",
      "8    margarita       3.813559         0.654366\n",
      "9         meal       3.812081         0.617319\n",
      "10       steak       4.108844         0.653063\n",
      "11   guacamole       3.842105         0.694223\n",
      "12       place       3.782772         0.599642\n",
      "13       lunch       4.032864         0.622830\n",
      "14       salsa       3.706849         0.695825\n",
      "15      dinner       3.873874         0.687476\n",
      "16     special       3.912698         0.727147\n",
      "Spearman Correlation Score:  0.22058823529411767\n",
      "Running on restaurant  N0apJkxIem2E8irTBRKnHw ...\n",
      "Number of Reviews left after subset length:  711\n",
      "Extracting entities from each review...\n"
     ]
    },
    {
     "data": {
      "application/vnd.jupyter.widget-view+json": {
       "model_id": "86ba2dce89ec44cfb3b0126afafa6428",
       "version_major": 2,
       "version_minor": 0
      },
      "text/plain": [
       "HBox(children=(IntProgress(value=0, max=711), HTML(value='')))"
      ]
     },
     "metadata": {},
     "output_type": "display_data"
    },
    {
     "name": "stdout",
     "output_type": "stream",
     "text": [
      "\n",
      "Filtering entities to have enough reviews...\n",
      "Calculating Yelp Star Rankings... \n",
      "Calculating Prediction Rankings...\n",
      "Performing sentiment analysis for each review... \n"
     ]
    },
    {
     "data": {
      "application/vnd.jupyter.widget-view+json": {
       "model_id": "42c458bc55a84df9b0f1563b6dd6f17c",
       "version_major": 2,
       "version_minor": 0
      },
      "text/plain": [
       "HBox(children=(IntProgress(value=0, max=711), HTML(value='')))"
      ]
     },
     "metadata": {},
     "output_type": "display_data"
    },
    {
     "name": "stdout",
     "output_type": "stream",
     "text": [
      "\n",
      "Rankings result: \n",
      "         entity  average_stars  predicted_score\n",
      "0       service       3.959103         0.578228\n",
      "1          food       3.888521         0.552700\n",
      "2         place       3.937050         0.634821\n",
      "3          menu       4.026415         0.679868\n",
      "4        dinner       4.055351         0.702276\n",
      "5          crab       3.886957         0.516650\n",
      "6         price       3.785530         0.603861\n",
      "7         pizza       3.904573         0.580403\n",
      "8         staff       4.228571         0.693377\n",
      "9         pasta       3.835979         0.592154\n",
      "10          bit       3.762411         0.647967\n",
      "11        lunch       3.994709         0.678735\n",
      "12       burger       3.974747         0.645167\n",
      "13       potato       4.054902         0.655875\n",
      "14  blue cheese       4.013333         0.663441\n",
      "15   atmosphere       4.061856         0.478476\n",
      "16       prices       3.939850         0.584797\n",
      "17         meal       3.955556         0.637195\n",
      "18      chicken       3.959375         0.628001\n",
      "19        bread       3.808511         0.531867\n",
      "20        steak       4.014085         0.611425\n",
      "21       cheese       4.008451         0.685135\n",
      "22        salad       3.980769         0.601305\n",
      "Spearman Correlation Score:  0.5177865612648221\n",
      "Running on restaurant  IMLrj2klosTFvPRLv56cng ...\n",
      "Number of Reviews left after subset length:  679\n",
      "Extracting entities from each review...\n"
     ]
    },
    {
     "data": {
      "application/vnd.jupyter.widget-view+json": {
       "model_id": "ca530d36164f4d85bc68050be0679078",
       "version_major": 2,
       "version_minor": 0
      },
      "text/plain": [
       "HBox(children=(IntProgress(value=0, max=679), HTML(value='')))"
      ]
     },
     "metadata": {},
     "output_type": "display_data"
    },
    {
     "name": "stdout",
     "output_type": "stream",
     "text": [
      "\n",
      "Filtering entities to have enough reviews...\n",
      "Calculating Yelp Star Rankings... \n",
      "Calculating Prediction Rankings...\n",
      "Performing sentiment analysis for each review... \n"
     ]
    },
    {
     "data": {
      "application/vnd.jupyter.widget-view+json": {
       "model_id": "d12c97f74021482ea8c3cc77426c9b3f",
       "version_major": 2,
       "version_minor": 0
      },
      "text/plain": [
       "HBox(children=(IntProgress(value=0, max=679), HTML(value='')))"
      ]
     },
     "metadata": {},
     "output_type": "display_data"
    },
    {
     "name": "stdout",
     "output_type": "stream",
     "text": [
      "\n",
      "Rankings result: \n",
      "        entity  average_stars  predicted_score\n",
      "0      service       3.901774         0.601628\n",
      "1       cheese       3.900000         0.762764\n",
      "2        place       3.953243         0.743835\n",
      "3        table       3.638191         0.707831\n",
      "4        bread       3.953416         0.661675\n",
      "5         food       3.883984         0.622737\n",
      "6         menu       3.869658         0.618816\n",
      "7      dessert       3.984375         0.652098\n",
      "8     sandwich       3.978541         0.645788\n",
      "9        lunch       3.954064         0.685100\n",
      "10  atmosphere       4.210084         0.626412\n",
      "11     chicken       3.908072         0.683115\n",
      "12       pizza       3.857143         0.734281\n",
      "13       staff       4.008584         0.747724\n",
      "14        meal       3.700389         0.683798\n",
      "15       salad       3.972067         0.753769\n",
      "16      dinner       3.978056         0.771343\n",
      "Spearman Correlation Score:  0.06862745098039216\n",
      "Running on restaurant  ujHiaprwCQ5ewziu0Vi9rw ...\n",
      "Number of Reviews left after subset length:  1698\n",
      "Extracting entities from each review...\n"
     ]
    },
    {
     "data": {
      "application/vnd.jupyter.widget-view+json": {
       "model_id": "c96fc960a5874073befd2f1de2f99a83",
       "version_major": 2,
       "version_minor": 0
      },
      "text/plain": [
       "HBox(children=(IntProgress(value=0, max=1698), HTML(value='')))"
      ]
     },
     "metadata": {},
     "output_type": "display_data"
    },
    {
     "name": "stdout",
     "output_type": "stream",
     "text": [
      "\n",
      "Filtering entities to have enough reviews...\n",
      "Calculating Yelp Star Rankings... \n",
      "Calculating Prediction Rankings...\n",
      "Performing sentiment analysis for each review... \n"
     ]
    },
    {
     "data": {
      "application/vnd.jupyter.widget-view+json": {
       "model_id": "a3367d5cce974968b6df7a8e8f410b5a",
       "version_major": 2,
       "version_minor": 0
      },
      "text/plain": [
       "HBox(children=(IntProgress(value=0, max=1698), HTML(value='')))"
      ]
     },
     "metadata": {},
     "output_type": "display_data"
    },
    {
     "name": "stdout",
     "output_type": "stream",
     "text": [
      "\n",
      "Rankings result: \n",
      "       entity  average_stars  predicted_score\n",
      "0        meat       3.432749         0.372643\n",
      "1     dessert       3.586803         0.455950\n",
      "2       steak       3.537764         0.515530\n",
      "3      dinner       3.526952         0.393924\n",
      "4       sushi       3.466799         0.468228\n",
      "5        crab       3.396911         0.367581\n",
      "6      buffet       3.399582         0.417000\n",
      "7       price       3.330591         0.419884\n",
      "8   breakfast       3.678261         0.534913\n",
      "9        food       3.294837         0.384290\n",
      "10      place       3.265097         0.357977\n",
      "11      taste       2.984314         0.345219\n",
      "12    service       3.393973         0.427818\n",
      "13        rib       3.322917         0.461583\n",
      "14     coffee       3.323864         0.489191\n",
      "15       beef       3.603960         0.387062\n",
      "16    seafood       3.586146         0.468716\n",
      "17       lamb       3.755102         0.444968\n",
      "18       fish       3.304348         0.360169\n",
      "19        bit       3.510909         0.527990\n",
      "20      staff       3.147766         0.459082\n",
      "21  champagne       3.788177         0.576768\n",
      "22      lunch       3.677989         0.432466\n",
      "23       meal       3.264059         0.356766\n",
      "24      salad       3.585455         0.371193\n",
      "25      pizza       3.500000         0.292754\n",
      "26     salmon       3.537530         0.475864\n",
      "27    special       3.231263         0.282950\n",
      "28      pasta       3.484487         0.451974\n",
      "Spearman Correlation Score:  0.5211822660098521\n",
      "Running on restaurant  OVTZNSkSfbl3gVB9XQIJfw ...\n",
      "Number of Reviews left after subset length:  561\n",
      "Extracting entities from each review...\n"
     ]
    },
    {
     "data": {
      "application/vnd.jupyter.widget-view+json": {
       "model_id": "03041e3cb25044daa9ceb0ae645ece11",
       "version_major": 2,
       "version_minor": 0
      },
      "text/plain": [
       "HBox(children=(IntProgress(value=0, max=561), HTML(value='')))"
      ]
     },
     "metadata": {},
     "output_type": "display_data"
    },
    {
     "name": "stdout",
     "output_type": "stream",
     "text": [
      "\n",
      "Filtering entities to have enough reviews...\n",
      "Calculating Yelp Star Rankings... \n",
      "Calculating Prediction Rankings...\n",
      "Performing sentiment analysis for each review... \n"
     ]
    },
    {
     "data": {
      "application/vnd.jupyter.widget-view+json": {
       "model_id": "e4983bb8ac0e4d9493584139fb451f4d",
       "version_major": 2,
       "version_minor": 0
      },
      "text/plain": [
       "HBox(children=(IntProgress(value=0, max=561), HTML(value='')))"
      ]
     },
     "metadata": {},
     "output_type": "display_data"
    },
    {
     "name": "stdout",
     "output_type": "stream",
     "text": [
      "\n",
      "Rankings result: \n",
      "       entity  average_stars  predicted_score\n",
      "0      buffet       3.224237         0.412168\n",
      "1         rib       3.005277         0.447278\n",
      "2       sushi       3.274368         0.378036\n",
      "3        crab       3.254795         0.400640\n",
      "4     service       3.179104         0.495357\n",
      "5        food       3.134766         0.427099\n",
      "6       place       3.154519         0.460699\n",
      "7       price       3.275229         0.494116\n",
      "8       lunch       3.331633         0.439430\n",
      "9   breakfast       3.357759         0.477995\n",
      "10     dinner       3.231343         0.480467\n",
      "11       wine       3.415301         0.534457\n",
      "12       beer       3.394886         0.470424\n",
      "13    dessert       3.211137         0.449806\n",
      "14      staff       3.299213         0.530106\n",
      "Spearman Correlation Score:  0.3571428571428571\n",
      "Running on restaurant  HhVmDybpU7L50Kb5A0jXTg ...\n",
      "Number of Reviews left after subset length:  1600\n",
      "Extracting entities from each review...\n"
     ]
    },
    {
     "data": {
      "application/vnd.jupyter.widget-view+json": {
       "model_id": "84cf5d590ae34bbcbae2f1806d366a02",
       "version_major": 2,
       "version_minor": 0
      },
      "text/plain": [
       "HBox(children=(IntProgress(value=0, max=1600), HTML(value='')))"
      ]
     },
     "metadata": {},
     "output_type": "display_data"
    },
    {
     "name": "stdout",
     "output_type": "stream",
     "text": [
      "\n",
      "Filtering entities to have enough reviews...\n",
      "Calculating Yelp Star Rankings... \n",
      "Calculating Prediction Rankings...\n",
      "Performing sentiment analysis for each review... \n"
     ]
    },
    {
     "data": {
      "application/vnd.jupyter.widget-view+json": {
       "model_id": "ed4eeda864034a2fb50b1118b7ce0bb3",
       "version_major": 2,
       "version_minor": 0
      },
      "text/plain": [
       "HBox(children=(IntProgress(value=0, max=1600), HTML(value='')))"
      ]
     },
     "metadata": {},
     "output_type": "display_data"
    },
    {
     "name": "stdout",
     "output_type": "stream",
     "text": [
      "\n",
      "Rankings result: \n",
      "        entity  average_stars  predicted_score\n",
      "0    appetizer       3.367589         0.509477\n",
      "1        bacon       3.631478         0.536297\n",
      "2        fries       3.464529         0.590646\n",
      "3       burger       3.547432         0.613730\n",
      "4        place       3.325500         0.495848\n",
      "5      service       3.419381         0.447595\n",
      "6       prices       3.549383         0.504995\n",
      "7         food       3.323452         0.477334\n",
      "8        table       2.919732         0.286647\n",
      "9         menu       3.347826         0.460614\n",
      "10      cheese       3.564815         0.587585\n",
      "11       staff       3.508065         0.615649\n",
      "12     special       3.163934         0.379407\n",
      "13         bit       3.387805         0.689771\n",
      "14        meat       2.943231         0.332509\n",
      "15        meal       3.326829         0.495678\n",
      "16        beer       3.432292         0.570860\n",
      "17       sauce       3.374723         0.408923\n",
      "18   breakfast       3.484962         0.533057\n",
      "19      dinner       3.458537         0.578832\n",
      "20       lunch       3.620408         0.599140\n",
      "21  atmosphere       4.126582         0.588280\n",
      "22       taste       2.909639         0.424296\n",
      "23        side       3.357259         0.502526\n",
      "24        pork       3.531532         0.495647\n",
      "25    sandwich       3.502232         0.563264\n",
      "26       price       3.142105         0.479328\n",
      "27       plate       3.040179         0.515053\n",
      "28      turkey       3.692771         0.502603\n",
      "29       salad       3.074627         0.527626\n",
      "30     chicken       3.301818         0.446784\n",
      "31     brisket       3.423077         0.531487\n",
      "32       chili       3.414286         0.449716\n",
      "33       sweet       3.477833         0.774826\n",
      "34     portion       3.786517         0.538168\n",
      "35       steak       3.196581         0.547645\n",
      "36     truffle       3.642857         0.629373\n",
      "Spearman Correlation Score:  0.6377430061640588\n",
      "Running on restaurant  XXW_OFaYQkkGOGniujZFHg ...\n",
      "Number of Reviews left after subset length:  1709\n",
      "Extracting entities from each review...\n"
     ]
    },
    {
     "data": {
      "application/vnd.jupyter.widget-view+json": {
       "model_id": "c2bf70de67f2466ba80e96509a0bc671",
       "version_major": 2,
       "version_minor": 0
      },
      "text/plain": [
       "HBox(children=(IntProgress(value=0, max=1709), HTML(value='')))"
      ]
     },
     "metadata": {},
     "output_type": "display_data"
    },
    {
     "name": "stdout",
     "output_type": "stream",
     "text": [
      "\n",
      "Filtering entities to have enough reviews...\n",
      "Calculating Yelp Star Rankings... \n",
      "Calculating Prediction Rankings...\n",
      "Performing sentiment analysis for each review... \n"
     ]
    },
    {
     "data": {
      "application/vnd.jupyter.widget-view+json": {
       "model_id": "ad738c28bf0148eaba96be7b45f81fb2",
       "version_major": 2,
       "version_minor": 0
      },
      "text/plain": [
       "HBox(children=(IntProgress(value=0, max=1709), HTML(value='')))"
      ]
     },
     "metadata": {},
     "output_type": "display_data"
    },
    {
     "name": "stdout",
     "output_type": "stream",
     "text": [
      "\n",
      "Rankings result: \n",
      "        entity  average_stars  predicted_score\n",
      "0        place       4.010620         0.598513\n",
      "1      service       3.852230         0.570630\n",
      "2         food       3.917914         0.561857\n",
      "3   atmosphere       4.151436         0.628483\n",
      "4    breakfast       4.143617         0.602430\n",
      "5          bit       3.694704         0.593442\n",
      "6        split       4.145985         0.607717\n",
      "7         meal       3.967667         0.629794\n",
      "8        price       3.952672         0.657327\n",
      "9       prices       4.032143         0.528145\n",
      "10        eggs       3.970721         0.676019\n",
      "11       steak       3.882143         0.648489\n",
      "12        menu       4.066667         0.551851\n",
      "13     portion       4.178002         0.617227\n",
      "14     chicken       3.869048         0.635675\n",
      "15       staff       4.138554         0.688039\n",
      "16       taste       3.431159         0.653367\n",
      "17    cocktail       4.091988         0.546540\n",
      "18      omelet       4.050398         0.584161\n",
      "19      coffee       3.776190         0.512795\n",
      "20       lunch       4.245614         0.644960\n",
      "21      dinner       3.958904         0.603896\n",
      "22      burger       3.732143         0.689233\n",
      "23        hash       3.860000         0.597643\n",
      "24       fries       3.857143         0.649326\n",
      "25       table       3.768775         0.539953\n",
      "26        side       3.985915         0.513450\n",
      "27    omelette       4.052632         0.653574\n",
      "28       plate       3.955645         0.659997\n",
      "Spearman Correlation Score:  0.010837438423645318\n",
      "Running on restaurant  Wxxvi3LZbHNIDwJ-ZimtnA ...\n",
      "Number of Reviews left after subset length:  1195\n",
      "Extracting entities from each review...\n"
     ]
    },
    {
     "data": {
      "application/vnd.jupyter.widget-view+json": {
       "model_id": "6c1308c90cd04c55a840c4bff39284a2",
       "version_major": 2,
       "version_minor": 0
      },
      "text/plain": [
       "HBox(children=(IntProgress(value=0, max=1195), HTML(value='')))"
      ]
     },
     "metadata": {},
     "output_type": "display_data"
    },
    {
     "name": "stdout",
     "output_type": "stream",
     "text": [
      "\n",
      "Filtering entities to have enough reviews...\n",
      "Calculating Yelp Star Rankings... \n",
      "Calculating Prediction Rankings...\n",
      "Performing sentiment analysis for each review... \n"
     ]
    },
    {
     "data": {
      "application/vnd.jupyter.widget-view+json": {
       "model_id": "ce619956f8734dc2890160a54ca05b8a",
       "version_major": 2,
       "version_minor": 0
      },
      "text/plain": [
       "HBox(children=(IntProgress(value=0, max=1195), HTML(value='')))"
      ]
     },
     "metadata": {},
     "output_type": "display_data"
    },
    {
     "name": "stdout",
     "output_type": "stream",
     "text": [
      "\n",
      "Rankings result: \n",
      "    entity  average_stars  predicted_score\n",
      "0    price       3.900542         0.409660\n",
      "1     food       4.048000         0.612592\n",
      "2    staff       3.993600         0.622479\n",
      "3  service       3.663208         0.403768\n",
      "4    place       3.962097         0.603129\n",
      "5      bit       3.831522         0.442616\n",
      "6  gondola       4.423077         0.624935\n",
      "Spearman Correlation Score:  0.9285714285714288\n",
      "Running on restaurant  thLX_k20SPJ0KyusGTBIHw ...\n",
      "Number of Reviews left after subset length:  615\n",
      "Extracting entities from each review...\n"
     ]
    },
    {
     "data": {
      "application/vnd.jupyter.widget-view+json": {
       "model_id": "632a3433e8424b0f964aa4295f0cf2de",
       "version_major": 2,
       "version_minor": 0
      },
      "text/plain": [
       "HBox(children=(IntProgress(value=0, max=615), HTML(value='')))"
      ]
     },
     "metadata": {},
     "output_type": "display_data"
    },
    {
     "name": "stdout",
     "output_type": "stream",
     "text": [
      "\n",
      "Filtering entities to have enough reviews...\n",
      "Calculating Yelp Star Rankings... \n",
      "Calculating Prediction Rankings...\n",
      "Performing sentiment analysis for each review... \n"
     ]
    },
    {
     "data": {
      "application/vnd.jupyter.widget-view+json": {
       "model_id": "afcbb253495a4d14b2af8bd0e71ec3b5",
       "version_major": 2,
       "version_minor": 0
      },
      "text/plain": [
       "HBox(children=(IntProgress(value=0, max=615), HTML(value='')))"
      ]
     },
     "metadata": {},
     "output_type": "display_data"
    },
    {
     "name": "stdout",
     "output_type": "stream",
     "text": [
      "\n",
      "Rankings result: \n",
      "        entity  average_stars  predicted_score\n",
      "0        place       3.977427         0.683997\n",
      "1        staff       4.101010         0.675380\n",
      "2      service       3.701422         0.524863\n",
      "3         food       3.838710         0.602496\n",
      "4       sprout       4.153846         0.756607\n",
      "5   atmosphere       4.253333         0.625854\n",
      "6      chicken       4.094595         0.684817\n",
      "7      coconut       4.314607         0.715271\n",
      "8         taco       4.094270         0.594366\n",
      "9         corn       4.092437         0.694728\n",
      "10        menu       4.036765         0.784167\n",
      "11       steak       4.155963         0.572323\n",
      "12   guacamole       4.164557         0.701639\n",
      "13       lunch       3.927711         0.662542\n",
      "14   margarita       4.179039         0.556529\n",
      "15       salsa       3.891720         0.733379\n",
      "16       green       4.250000         0.649883\n",
      "Spearman Correlation Score:  0.03921568627450981\n",
      "Running on restaurant  uuGL8diLlHfeUeFuod3F-w ...\n",
      "Number of Reviews left after subset length:  923\n",
      "Extracting entities from each review...\n"
     ]
    },
    {
     "data": {
      "application/vnd.jupyter.widget-view+json": {
       "model_id": "f797e7451f7c4d8cb4e3dc7fbdd295b3",
       "version_major": 2,
       "version_minor": 0
      },
      "text/plain": [
       "HBox(children=(IntProgress(value=0, max=923), HTML(value='')))"
      ]
     },
     "metadata": {},
     "output_type": "display_data"
    },
    {
     "name": "stdout",
     "output_type": "stream",
     "text": [
      "\n",
      "Filtering entities to have enough reviews...\n",
      "Calculating Yelp Star Rankings... \n",
      "Calculating Prediction Rankings...\n",
      "Performing sentiment analysis for each review... \n"
     ]
    },
    {
     "data": {
      "application/vnd.jupyter.widget-view+json": {
       "model_id": "ead4ac2afdaa43529f15656fdcda3549",
       "version_major": 2,
       "version_minor": 0
      },
      "text/plain": [
       "HBox(children=(IntProgress(value=0, max=923), HTML(value='')))"
      ]
     },
     "metadata": {},
     "output_type": "display_data"
    },
    {
     "name": "stdout",
     "output_type": "stream",
     "text": [
      "\n",
      "Rankings result: \n",
      "        entity  average_stars  predicted_score\n",
      "0      service       3.497347         0.405825\n",
      "1        steak       3.584615         0.539988\n",
      "2         food       3.557978         0.494794\n",
      "3         meal       3.574257         0.708223\n",
      "4    breakfast       3.818841         0.620011\n",
      "5         beer       3.692308         0.613058\n",
      "6   atmosphere       4.320000         0.583565\n",
      "7     sandwich       3.682759         0.661073\n",
      "8        staff       3.900000         0.778225\n",
      "9        place       3.569536         0.538981\n",
      "10        menu       3.626113         0.579674\n",
      "11       fries       3.637209         0.688911\n",
      "12      burger       3.587065         0.582888\n",
      "13       bacon       3.675214         0.474486\n",
      "14        eggs       3.338710         0.617955\n",
      "15       lunch       3.650000         0.757042\n",
      "16     lobster       4.033333         0.619139\n",
      "17      cheese       3.625000         0.522139\n",
      "18     chicken       3.752688         0.601963\n",
      "19      dinner       3.874074         0.657550\n",
      "20       salad       3.414062         0.500545\n",
      "Spearman Correlation Score:  0.487012987012987\n",
      "Running on restaurant  FvVSy2r7_zDEhZWqLgjXNQ ...\n",
      "Number of Reviews left after subset length:  546\n",
      "Extracting entities from each review...\n"
     ]
    },
    {
     "data": {
      "application/vnd.jupyter.widget-view+json": {
       "model_id": "933aac758fd146dda87ee13f15b24181",
       "version_major": 2,
       "version_minor": 0
      },
      "text/plain": [
       "HBox(children=(IntProgress(value=0, max=546), HTML(value='')))"
      ]
     },
     "metadata": {},
     "output_type": "display_data"
    },
    {
     "name": "stdout",
     "output_type": "stream",
     "text": [
      "\n",
      "Filtering entities to have enough reviews...\n",
      "Calculating Yelp Star Rankings... \n",
      "Calculating Prediction Rankings...\n",
      "Performing sentiment analysis for each review... \n"
     ]
    },
    {
     "data": {
      "application/vnd.jupyter.widget-view+json": {
       "model_id": "e234385f4255454bb177046f68cc8739",
       "version_major": 2,
       "version_minor": 0
      },
      "text/plain": [
       "HBox(children=(IntProgress(value=0, max=546), HTML(value='')))"
      ]
     },
     "metadata": {},
     "output_type": "display_data"
    },
    {
     "name": "stdout",
     "output_type": "stream",
     "text": [
      "\n",
      "Rankings result: \n",
      "       entity  average_stars  predicted_score\n",
      "0       lunch       4.163522         0.693967\n",
      "1       place       3.953668         0.590055\n",
      "2        food       3.737527         0.513489\n",
      "3       staff       3.639640         0.673472\n",
      "4   breakfast       4.187919         0.633165\n",
      "5    sandwich       3.850365         0.477500\n",
      "6      cheese       4.138710         0.597128\n",
      "7       bagel       4.070822         0.671041\n",
      "8        soup       4.144385         0.688893\n",
      "9     service       3.675900         0.471231\n",
      "10      cream       4.150000         0.624886\n",
      "Spearman Correlation Score:  0.5090909090909091\n",
      "Running on restaurant  _j2EtQtgLuXGRBfbM5YwZA ...\n",
      "Number of Reviews left after subset length:  522\n",
      "Extracting entities from each review...\n"
     ]
    },
    {
     "data": {
      "application/vnd.jupyter.widget-view+json": {
       "model_id": "e035e01e04d34a9fa0627de3605bef57",
       "version_major": 2,
       "version_minor": 0
      },
      "text/plain": [
       "HBox(children=(IntProgress(value=0, max=522), HTML(value='')))"
      ]
     },
     "metadata": {},
     "output_type": "display_data"
    },
    {
     "name": "stdout",
     "output_type": "stream",
     "text": [
      "\n",
      "Filtering entities to have enough reviews...\n",
      "Calculating Yelp Star Rankings... \n",
      "Calculating Prediction Rankings...\n",
      "Performing sentiment analysis for each review... \n"
     ]
    },
    {
     "data": {
      "application/vnd.jupyter.widget-view+json": {
       "model_id": "1a193b341e5c41eabd4a3883733cd864",
       "version_major": 2,
       "version_minor": 0
      },
      "text/plain": [
       "HBox(children=(IntProgress(value=0, max=522), HTML(value='')))"
      ]
     },
     "metadata": {},
     "output_type": "display_data"
    },
    {
     "name": "stdout",
     "output_type": "stream",
     "text": [
      "\n",
      "Rankings result: \n",
      "     entity  average_stars  predicted_score\n",
      "0      beef       3.577215         0.476348\n",
      "1      rice       3.418440         0.464285\n",
      "2      soup       3.571970         0.491694\n",
      "3    noodle       3.522572         0.450246\n",
      "4   service       3.111111         0.293843\n",
      "5     taste       3.010256         0.364928\n",
      "6      pork       3.506024         0.323164\n",
      "7     place       3.385230         0.471569\n",
      "8      food       3.297222         0.357947\n",
      "9     price       3.406915         0.450993\n",
      "10  chicken       3.149425         0.367736\n",
      "11     duck       3.537736         0.407471\n",
      "12   prices       3.415929         0.421200\n",
      "Spearman Correlation Score:  0.6043956043956044\n",
      "Running on restaurant  TCoBE_BkDRrK0bWrh5VueQ ...\n",
      "Number of Reviews left after subset length:  644\n",
      "Extracting entities from each review...\n"
     ]
    },
    {
     "data": {
      "application/vnd.jupyter.widget-view+json": {
       "model_id": "de6f18495d254e2797f0d29efcd66f8e",
       "version_major": 2,
       "version_minor": 0
      },
      "text/plain": [
       "HBox(children=(IntProgress(value=0, max=644), HTML(value='')))"
      ]
     },
     "metadata": {},
     "output_type": "display_data"
    },
    {
     "name": "stdout",
     "output_type": "stream",
     "text": [
      "\n",
      "Filtering entities to have enough reviews...\n",
      "Calculating Yelp Star Rankings... \n",
      "Calculating Prediction Rankings...\n",
      "Performing sentiment analysis for each review... \n"
     ]
    },
    {
     "data": {
      "application/vnd.jupyter.widget-view+json": {
       "model_id": "e0479d3ce94b475f8cad9088648fa522",
       "version_major": 2,
       "version_minor": 0
      },
      "text/plain": [
       "HBox(children=(IntProgress(value=0, max=644), HTML(value='')))"
      ]
     },
     "metadata": {},
     "output_type": "display_data"
    },
    {
     "name": "stdout",
     "output_type": "stream",
     "text": [
      "\n",
      "Rankings result: \n",
      "       entity  average_stars  predicted_score\n",
      "0       staff       3.943396         0.527187\n",
      "1        food       3.726048         0.501938\n",
      "2       place       3.892913         0.635896\n",
      "3        taco       3.993541         0.538303\n",
      "4        corn       4.123188         0.610894\n",
      "5  atmosphere       4.296296         0.654280\n",
      "6        beer       4.215686         0.668109\n",
      "7       salsa       3.963696         0.615722\n",
      "8     service       3.450216         0.561966\n",
      "9        meat       3.811321         0.350400\n",
      "Spearman Correlation Score:  0.6606060606060605\n",
      "Running on restaurant  n8Zqqhff-2cxzWt_nwhU2Q ...\n",
      "Number of Reviews left after subset length:  619\n",
      "Extracting entities from each review...\n"
     ]
    },
    {
     "data": {
      "application/vnd.jupyter.widget-view+json": {
       "model_id": "776d1b06d73948c4b9fc89540e9e102a",
       "version_major": 2,
       "version_minor": 0
      },
      "text/plain": [
       "HBox(children=(IntProgress(value=0, max=619), HTML(value='')))"
      ]
     },
     "metadata": {},
     "output_type": "display_data"
    },
    {
     "name": "stdout",
     "output_type": "stream",
     "text": [
      "\n",
      "Filtering entities to have enough reviews...\n",
      "Calculating Yelp Star Rankings... \n",
      "Calculating Prediction Rankings...\n",
      "Performing sentiment analysis for each review... \n"
     ]
    },
    {
     "data": {
      "application/vnd.jupyter.widget-view+json": {
       "model_id": "c071f9ab5f464158880515b80c5ba0c1",
       "version_major": 2,
       "version_minor": 0
      },
      "text/plain": [
       "HBox(children=(IntProgress(value=0, max=619), HTML(value='')))"
      ]
     },
     "metadata": {},
     "output_type": "display_data"
    },
    {
     "name": "stdout",
     "output_type": "stream",
     "text": [
      "\n",
      "Rankings result: \n",
      "         entity  average_stars  predicted_score\n",
      "0   cauliflower       4.105528         0.780275\n",
      "1       service       3.612245         0.515730\n",
      "2         place       3.649695         0.608642\n",
      "3          menu       3.789174         0.679038\n",
      "4         staff       3.615942         0.639931\n",
      "5    atmosphere       4.036458         0.625811\n",
      "6          beer       3.953368         0.633033\n",
      "7          food       3.659751         0.567364\n",
      "8       chicken       3.938889         0.754408\n",
      "9        burger       3.771144         0.842302\n",
      "10       cheese       3.917582         0.668717\n",
      "11        pizza       3.786207         0.552206\n",
      "12        salad       3.863946         0.837088\n",
      "13      buffalo       4.123188         0.771054\n",
      "Spearman Correlation Score:  0.4769230769230769\n",
      "Running on restaurant  gx2yPrOJSwF1ApJYdGBWIw ...\n",
      "Number of Reviews left after subset length:  786\n",
      "Extracting entities from each review...\n"
     ]
    },
    {
     "data": {
      "application/vnd.jupyter.widget-view+json": {
       "model_id": "919386ad37d3411d92c62d68c7f53300",
       "version_major": 2,
       "version_minor": 0
      },
      "text/plain": [
       "HBox(children=(IntProgress(value=0, max=786), HTML(value='')))"
      ]
     },
     "metadata": {},
     "output_type": "display_data"
    },
    {
     "name": "stdout",
     "output_type": "stream",
     "text": [
      "\n",
      "Filtering entities to have enough reviews...\n",
      "Calculating Yelp Star Rankings... \n",
      "Calculating Prediction Rankings...\n",
      "Performing sentiment analysis for each review... \n"
     ]
    },
    {
     "data": {
      "application/vnd.jupyter.widget-view+json": {
       "model_id": "b1d8b369068d4329928f27bf26097777",
       "version_major": 2,
       "version_minor": 0
      },
      "text/plain": [
       "HBox(children=(IntProgress(value=0, max=786), HTML(value='')))"
      ]
     },
     "metadata": {},
     "output_type": "display_data"
    },
    {
     "name": "stdout",
     "output_type": "stream",
     "text": [
      "\n",
      "Rankings result: \n",
      "        entity  average_stars  predicted_score\n",
      "0        staff       4.118012         0.715561\n",
      "1        place       4.036709         0.685156\n",
      "2        broth       3.956416         0.664862\n",
      "3          bun       4.161137         0.631682\n",
      "4      service       3.837209         0.543923\n",
      "5         food       3.792722         0.543837\n",
      "6        table       3.663636         0.517956\n",
      "7        taste       3.697095         0.589877\n",
      "8   atmosphere       4.373913         0.707000\n",
      "9      chicken       4.106818         0.618984\n",
      "10       lunch       4.260417         0.677384\n",
      "11        pork       4.193750         0.691686\n",
      "12      garlic       4.168539         0.834522\n",
      "13        soup       3.880952         0.654093\n",
      "14        menu       4.052419         0.689824\n",
      "Spearman Correlation Score:  0.7714285714285712\n",
      "Running on restaurant  YPavuOh2XsnRbLfl0DH2lQ ...\n",
      "Number of Reviews left after subset length:  917\n",
      "Extracting entities from each review...\n"
     ]
    },
    {
     "data": {
      "application/vnd.jupyter.widget-view+json": {
       "model_id": "78cb0bbfe30c4026901cedd44ff988bf",
       "version_major": 2,
       "version_minor": 0
      },
      "text/plain": [
       "HBox(children=(IntProgress(value=0, max=917), HTML(value='')))"
      ]
     },
     "metadata": {},
     "output_type": "display_data"
    },
    {
     "name": "stdout",
     "output_type": "stream",
     "text": [
      "\n",
      "Filtering entities to have enough reviews...\n",
      "Calculating Yelp Star Rankings... \n",
      "Calculating Prediction Rankings...\n",
      "Performing sentiment analysis for each review... \n"
     ]
    },
    {
     "data": {
      "application/vnd.jupyter.widget-view+json": {
       "model_id": "36e6807edae542e5a289e16d9d1abf23",
       "version_major": 2,
       "version_minor": 0
      },
      "text/plain": [
       "HBox(children=(IntProgress(value=0, max=917), HTML(value='')))"
      ]
     },
     "metadata": {},
     "output_type": "display_data"
    },
    {
     "name": "stdout",
     "output_type": "stream",
     "text": [
      "\n",
      "Rankings result: \n",
      "        entity  average_stars  predicted_score\n",
      "0        grits       4.315534         0.566869\n",
      "1      chicken       4.035266         0.631664\n",
      "2         food       3.775000         0.494032\n",
      "3      service       3.640625         0.450563\n",
      "4       cheese       4.184211         0.652937\n",
      "5        staff       3.924901         0.579029\n",
      "6        place       3.981037         0.571775\n",
      "7       waffle       4.070255         0.546594\n",
      "8   atmosphere       4.193103         0.670682\n",
      "9      catfish       3.867925         0.514852\n",
      "10       lunch       3.656934         0.707656\n",
      "11        side       3.951168         0.528735\n",
      "12       sweet       4.262500         0.798169\n",
      "13         bit       3.942222         0.647559\n",
      "14   soul food       4.013158         0.645838\n",
      "15        meal       3.666667         0.410463\n",
      "16      greens       4.148936         0.638841\n",
      "17         tea       4.045802         0.766170\n",
      "18        menu       3.975124         0.745159\n",
      "Spearman Correlation Score:  0.4842105263157894\n",
      "Running on restaurant  JyxHvtj-syke7m9rbza7mA ...\n",
      "Number of Reviews left after subset length:  725\n",
      "Extracting entities from each review...\n"
     ]
    },
    {
     "data": {
      "application/vnd.jupyter.widget-view+json": {
       "model_id": "e284102f474849f7bcb78bebde5679f8",
       "version_major": 2,
       "version_minor": 0
      },
      "text/plain": [
       "HBox(children=(IntProgress(value=0, max=725), HTML(value='')))"
      ]
     },
     "metadata": {},
     "output_type": "display_data"
    },
    {
     "name": "stdout",
     "output_type": "stream",
     "text": [
      "\n",
      "Filtering entities to have enough reviews...\n",
      "Calculating Yelp Star Rankings... \n",
      "Calculating Prediction Rankings...\n",
      "Performing sentiment analysis for each review... \n"
     ]
    },
    {
     "data": {
      "application/vnd.jupyter.widget-view+json": {
       "model_id": "b02b128cb0664ac29c6a8e766331193a",
       "version_major": 2,
       "version_minor": 0
      },
      "text/plain": [
       "HBox(children=(IntProgress(value=0, max=725), HTML(value='')))"
      ]
     },
     "metadata": {},
     "output_type": "display_data"
    },
    {
     "name": "stdout",
     "output_type": "stream",
     "text": [
      "\n",
      "Rankings result: \n",
      "     entity  average_stars  predicted_score\n",
      "0     sushi       3.883817         0.535358\n",
      "1     place       3.776492         0.539484\n",
      "2      food       3.488473         0.462014\n",
      "3      fish       3.872302         0.533455\n",
      "4      menu       4.107981         0.685692\n",
      "5     lunch       3.839286         0.472768\n",
      "6    dinner       3.949008         0.507178\n",
      "7   dessert       4.235751         0.618517\n",
      "8   service       3.457729         0.374275\n",
      "9      tuna       3.990476         0.627502\n",
      "10     rice       3.760766         0.442118\n",
      "11    table       3.302703         0.407368\n",
      "12    price       3.815331         0.435960\n",
      "13     roll       4.020962         0.629870\n",
      "14    staff       3.634286         0.607153\n",
      "15   salmon       4.097792         0.534047\n",
      "Spearman Correlation Score:  0.7411764705882353\n",
      "Running on restaurant  K7lWdNUhCbcnEvI0NhGewg ...\n",
      "Number of Reviews left after subset length:  2374\n",
      "Extracting entities from each review...\n"
     ]
    },
    {
     "data": {
      "application/vnd.jupyter.widget-view+json": {
       "model_id": "a0e8e09813244ffebd18d6a9d3e54991",
       "version_major": 2,
       "version_minor": 0
      },
      "text/plain": [
       "HBox(children=(IntProgress(value=0, max=2374), HTML(value='')))"
      ]
     },
     "metadata": {},
     "output_type": "display_data"
    },
    {
     "name": "stdout",
     "output_type": "stream",
     "text": [
      "\n",
      "Filtering entities to have enough reviews...\n",
      "Calculating Yelp Star Rankings... \n",
      "Calculating Prediction Rankings...\n",
      "Performing sentiment analysis for each review... \n"
     ]
    },
    {
     "data": {
      "application/vnd.jupyter.widget-view+json": {
       "model_id": "91039968e54d48bf9062ad1f70784c12",
       "version_major": 2,
       "version_minor": 0
      },
      "text/plain": [
       "HBox(children=(IntProgress(value=0, max=2374), HTML(value='')))"
      ]
     },
     "metadata": {},
     "output_type": "display_data"
    },
    {
     "name": "stdout",
     "output_type": "stream",
     "text": [
      "\n",
      "Rankings result: \n",
      "         entity  average_stars  predicted_score\n",
      "0        buffet       3.753992         0.461455\n",
      "1          food       3.619450         0.485361\n",
      "2         staff       3.654102         0.551928\n",
      "3     breakfast       3.989410         0.509156\n",
      "4         bacon       3.928571         0.621727\n",
      "5        cheese       3.770804         0.499978\n",
      "6    atmosphere       4.058296         0.656338\n",
      "7       dessert       3.794711         0.516806\n",
      "8         place       3.606145         0.474907\n",
      "9           bit       3.754016         0.499751\n",
      "10        table       3.522546         0.286693\n",
      "11        sushi       3.441718         0.299952\n",
      "12         crab       3.421667         0.358369\n",
      "13      seafood       3.486284         0.296147\n",
      "14        lunch       3.747759         0.398669\n",
      "15       salmon       3.644737         0.271991\n",
      "16      service       3.623086         0.475202\n",
      "17      special       3.642190         0.251738\n",
      "18        water       3.601905         0.488119\n",
      "19        price       3.593868         0.466610\n",
      "20        salad       3.731278         0.499734\n",
      "21       dinner       3.644550         0.434818\n",
      "22      serving       3.788831         0.438659\n",
      "23    chocolate       3.850198         0.519771\n",
      "24        pasta       3.649541         0.581982\n",
      "25  bone marrow       3.783886         0.512657\n",
      "26         meal       3.563158         0.499010\n",
      "27         beef       3.663265         0.506035\n",
      "28         eggs       3.940618         0.646921\n",
      "29          rib       3.439516         0.483139\n",
      "30        taste       3.383345         0.422436\n",
      "31      chicken       3.717213         0.500788\n",
      "32        plate       3.675287         0.526207\n",
      "33    ice cream       3.730000         0.468755\n",
      "34         dish       3.740157         0.646181\n",
      "35         meat       3.588293         0.331787\n",
      "36         menu       3.576419         0.439884\n",
      "37      portion       4.055019         0.678922\n",
      "Spearman Correlation Score:  0.6778640989167305\n",
      "Running on restaurant  WbJ1LRQdOuYYlRLyTkuuxw ...\n",
      "Number of Reviews left after subset length:  798\n",
      "Extracting entities from each review...\n"
     ]
    },
    {
     "data": {
      "application/vnd.jupyter.widget-view+json": {
       "model_id": "c69d63824ccb43a087f5ed5be341c718",
       "version_major": 2,
       "version_minor": 0
      },
      "text/plain": [
       "HBox(children=(IntProgress(value=0, max=798), HTML(value='')))"
      ]
     },
     "metadata": {},
     "output_type": "display_data"
    },
    {
     "name": "stdout",
     "output_type": "stream",
     "text": [
      "\n",
      "Filtering entities to have enough reviews...\n",
      "Calculating Yelp Star Rankings... \n",
      "Calculating Prediction Rankings...\n",
      "Performing sentiment analysis for each review... \n"
     ]
    },
    {
     "data": {
      "application/vnd.jupyter.widget-view+json": {
       "model_id": "0557a7cd316342968c7dfc499bffed12",
       "version_major": 2,
       "version_minor": 0
      },
      "text/plain": [
       "HBox(children=(IntProgress(value=0, max=798), HTML(value='')))"
      ]
     },
     "metadata": {},
     "output_type": "display_data"
    },
    {
     "name": "stdout",
     "output_type": "stream",
     "text": [
      "\n",
      "Rankings result: \n",
      "         entity  average_stars  predicted_score\n",
      "0       service       3.837456         0.595193\n",
      "1         lunch       3.862500         0.761517\n",
      "2         place       3.792308         0.677062\n",
      "3          menu       3.843658         0.686133\n",
      "4          food       3.814852         0.631337\n",
      "5    atmosphere       4.093960         0.612719\n",
      "6     breakfast       3.897143         0.634641\n",
      "7          meal       3.653543         0.698920\n",
      "8         grits       4.075269         0.717073\n",
      "9         green       3.920930         0.776012\n",
      "10          jam       4.071111         0.734742\n",
      "11       dinner       3.874214         0.708107\n",
      "12  goat cheese       4.153846         0.779950\n",
      "13      chicken       4.059278         0.728455\n",
      "14        staff       3.963351         0.717052\n",
      "15       cheese       3.939394         0.648613\n",
      "Spearman Correlation Score:  0.4088235294117647\n",
      "Running on restaurant  rTS8LsUmNIiXsXydE49tPA ...\n",
      "Number of Reviews left after subset length:  721\n",
      "Extracting entities from each review...\n"
     ]
    },
    {
     "data": {
      "application/vnd.jupyter.widget-view+json": {
       "model_id": "3f21ffaa60d94415b73f4fedf6041d60",
       "version_major": 2,
       "version_minor": 0
      },
      "text/plain": [
       "HBox(children=(IntProgress(value=0, max=721), HTML(value='')))"
      ]
     },
     "metadata": {},
     "output_type": "display_data"
    },
    {
     "name": "stdout",
     "output_type": "stream",
     "text": [
      "\n",
      "Filtering entities to have enough reviews...\n",
      "Calculating Yelp Star Rankings... \n",
      "Calculating Prediction Rankings...\n",
      "Performing sentiment analysis for each review... \n"
     ]
    },
    {
     "data": {
      "application/vnd.jupyter.widget-view+json": {
       "model_id": "d3e0f1b4017f467db930d5e7dc281778",
       "version_major": 2,
       "version_minor": 0
      },
      "text/plain": [
       "HBox(children=(IntProgress(value=0, max=721), HTML(value='')))"
      ]
     },
     "metadata": {},
     "output_type": "display_data"
    },
    {
     "name": "stdout",
     "output_type": "stream",
     "text": [
      "\n",
      "Rankings result: \n",
      "        entity  average_stars  predicted_score\n",
      "0    breakfast       3.227848         0.537446\n",
      "1         food       3.351942         0.491915\n",
      "2        table       3.014652         0.301030\n",
      "3        place       3.390909         0.515229\n",
      "4       burger       3.447368         0.622887\n",
      "5      service       3.231481         0.374705\n",
      "6      chicken       3.384615         0.560448\n",
      "7         fish       3.504065         0.596146\n",
      "8        staff       3.514925         0.565102\n",
      "9   atmosphere       3.735294         0.506821\n",
      "10   margarita       3.527704         0.612186\n",
      "11       lunch       3.500000         0.497410\n",
      "Spearman Correlation Score:  0.5524475524475525\n",
      "Running on restaurant  YuiM5VKscO8rS1EX7f19_g ...\n",
      "Number of Reviews left after subset length:  343\n",
      "Extracting entities from each review...\n"
     ]
    },
    {
     "data": {
      "application/vnd.jupyter.widget-view+json": {
       "model_id": "ca27af1e5e264938aa32b31adb9d499c",
       "version_major": 2,
       "version_minor": 0
      },
      "text/plain": [
       "HBox(children=(IntProgress(value=0, max=343), HTML(value='')))"
      ]
     },
     "metadata": {},
     "output_type": "display_data"
    },
    {
     "name": "stdout",
     "output_type": "stream",
     "text": [
      "\n",
      "Filtering entities to have enough reviews...\n",
      "Calculating Yelp Star Rankings... \n",
      "Calculating Prediction Rankings...\n",
      "Performing sentiment analysis for each review... \n"
     ]
    },
    {
     "data": {
      "application/vnd.jupyter.widget-view+json": {
       "model_id": "eee55bb867ca4d519539151e11b724dd",
       "version_major": 2,
       "version_minor": 0
      },
      "text/plain": [
       "HBox(children=(IntProgress(value=0, max=343), HTML(value='')))"
      ]
     },
     "metadata": {},
     "output_type": "display_data"
    },
    {
     "name": "stdout",
     "output_type": "stream",
     "text": [
      "\n",
      "Rankings result: \n",
      "    entity  average_stars  predicted_score\n",
      "0    lunch       3.370968         0.645144\n",
      "1  service       3.730469         0.437822\n",
      "2     food       3.676516         0.522756\n",
      "3    place       3.772080         0.555364\n",
      "4     wine       3.931707         0.495791\n",
      "5     meal       3.956522         0.560506\n",
      "6     menu       3.927136         0.619370\n",
      "7   dinner       3.928030         0.672235\n",
      "Spearman Correlation Score:  0.04761904761904763\n",
      "Running on restaurant  T2tEMLpTeSMxLKpxwFdS3g ...\n",
      "Number of Reviews left after subset length:  588\n",
      "Extracting entities from each review...\n"
     ]
    },
    {
     "data": {
      "application/vnd.jupyter.widget-view+json": {
       "model_id": "40d84e74c3384c2fac4152832038745f",
       "version_major": 2,
       "version_minor": 0
      },
      "text/plain": [
       "HBox(children=(IntProgress(value=0, max=588), HTML(value='')))"
      ]
     },
     "metadata": {},
     "output_type": "display_data"
    },
    {
     "name": "stdout",
     "output_type": "stream",
     "text": [
      "\n",
      "Filtering entities to have enough reviews...\n",
      "Calculating Yelp Star Rankings... \n",
      "Calculating Prediction Rankings...\n",
      "Performing sentiment analysis for each review... \n"
     ]
    },
    {
     "data": {
      "application/vnd.jupyter.widget-view+json": {
       "model_id": "db77c85d882b4589894f8a1e0903bfc0",
       "version_major": 2,
       "version_minor": 0
      },
      "text/plain": [
       "HBox(children=(IntProgress(value=0, max=588), HTML(value='')))"
      ]
     },
     "metadata": {},
     "output_type": "display_data"
    },
    {
     "name": "stdout",
     "output_type": "stream",
     "text": [
      "\n",
      "Rankings result: \n",
      "        entity  average_stars  predicted_score\n",
      "0         corn       3.662222         0.633669\n",
      "1        place       3.750495         0.630810\n",
      "2        salsa       3.715596         0.660751\n",
      "3      service       3.756598         0.585074\n",
      "4         food       3.646953         0.613297\n",
      "5         taco       3.943246         0.679727\n",
      "6         fish       3.828343         0.670902\n",
      "7   atmosphere       4.163636         0.714106\n",
      "8        salad       4.129252         0.652526\n",
      "9      avocado       4.176991         0.759750\n",
      "10       pasta       4.288889         0.694161\n",
      "11        beer       3.867403         0.617862\n",
      "12        menu       3.904762         0.733547\n",
      "13        meal       3.692913         0.442879\n",
      "14       lunch       4.027778         0.657312\n",
      "15       staff       4.069307         0.662366\n",
      "16         dip       3.833333         0.605894\n",
      "17        tuna       3.977143         0.696182\n",
      "Spearman Correlation Score:  0.6800825593395253\n",
      "Running on restaurant  pyqnGlIfP9Zw8LLxBjyAiA ...\n",
      "Number of Reviews left after subset length:  396\n",
      "Extracting entities from each review...\n"
     ]
    },
    {
     "data": {
      "application/vnd.jupyter.widget-view+json": {
       "model_id": "4e8b8c8f82ac4fb48d7f301c03112593",
       "version_major": 2,
       "version_minor": 0
      },
      "text/plain": [
       "HBox(children=(IntProgress(value=0, max=396), HTML(value='')))"
      ]
     },
     "metadata": {},
     "output_type": "display_data"
    },
    {
     "name": "stdout",
     "output_type": "stream",
     "text": [
      "\n",
      "Filtering entities to have enough reviews...\n",
      "Calculating Yelp Star Rankings... \n",
      "Calculating Prediction Rankings...\n",
      "Performing sentiment analysis for each review... \n"
     ]
    },
    {
     "data": {
      "application/vnd.jupyter.widget-view+json": {
       "model_id": "0e8d478c091c44c4ae91d19779f8f16c",
       "version_major": 2,
       "version_minor": 0
      },
      "text/plain": [
       "HBox(children=(IntProgress(value=0, max=396), HTML(value='')))"
      ]
     },
     "metadata": {},
     "output_type": "display_data"
    },
    {
     "name": "stdout",
     "output_type": "stream",
     "text": [
      "\n",
      "Rankings result: \n",
      "    entity  average_stars  predicted_score\n",
      "0     meal       3.881890         0.676382\n",
      "1  service       3.890792         0.522706\n",
      "2     food       3.823529         0.575301\n",
      "3  sashimi       4.078189         0.637450\n",
      "4    place       3.909091         0.586495\n",
      "5     menu       4.034810         0.691417\n",
      "6   dinner       3.786047         0.631053\n",
      "7    sushi       3.769585         0.530429\n",
      "Spearman Correlation Score:  0.4761904761904762\n",
      "Running on restaurant  lKom12WnYEjH5FFemK3M1Q ...\n",
      "Number of Reviews left after subset length:  579\n",
      "Extracting entities from each review...\n"
     ]
    },
    {
     "data": {
      "application/vnd.jupyter.widget-view+json": {
       "model_id": "6073cf28d200444d9327f54def50f626",
       "version_major": 2,
       "version_minor": 0
      },
      "text/plain": [
       "HBox(children=(IntProgress(value=0, max=579), HTML(value='')))"
      ]
     },
     "metadata": {},
     "output_type": "display_data"
    },
    {
     "name": "stdout",
     "output_type": "stream",
     "text": [
      "\n",
      "Filtering entities to have enough reviews...\n",
      "Calculating Yelp Star Rankings... \n",
      "Calculating Prediction Rankings...\n",
      "Performing sentiment analysis for each review... \n"
     ]
    },
    {
     "data": {
      "application/vnd.jupyter.widget-view+json": {
       "model_id": "e7bcba0095be448b9115be7f5d25872b",
       "version_major": 2,
       "version_minor": 0
      },
      "text/plain": [
       "HBox(children=(IntProgress(value=0, max=579), HTML(value='')))"
      ]
     },
     "metadata": {},
     "output_type": "display_data"
    },
    {
     "name": "stdout",
     "output_type": "stream",
     "text": [
      "\n",
      "Rankings result: \n",
      "        entity  average_stars  predicted_score\n",
      "0     sandwich       3.539683         0.492331\n",
      "1        place       3.372881         0.457317\n",
      "2         slaw       3.427586         0.691601\n",
      "3        fries       3.367052         0.553691\n",
      "4     pastrami       3.716495         0.577925\n",
      "5         food       3.356250         0.386270\n",
      "6         meat       3.224490         0.482484\n",
      "7         cole       3.420290         0.674111\n",
      "8      service       3.468504         0.436141\n",
      "9     coleslaw       3.330769         0.498071\n",
      "10       bread       3.252174         0.437458\n",
      "11      cheese       3.576316         0.486610\n",
      "12  atmosphere       3.852273         0.573482\n",
      "Spearman Correlation Score:  0.41208791208791207\n",
      "Running on restaurant  VR8QvH2g-jEG5EfMzA_G9w ...\n",
      "Number of Reviews left after subset length:  577\n",
      "Extracting entities from each review...\n"
     ]
    },
    {
     "data": {
      "application/vnd.jupyter.widget-view+json": {
       "model_id": "d99b9249144f4f6fac4c23689ef27d1e",
       "version_major": 2,
       "version_minor": 0
      },
      "text/plain": [
       "HBox(children=(IntProgress(value=0, max=577), HTML(value='')))"
      ]
     },
     "metadata": {},
     "output_type": "display_data"
    },
    {
     "name": "stdout",
     "output_type": "stream",
     "text": [
      "\n",
      "Filtering entities to have enough reviews...\n",
      "Calculating Yelp Star Rankings... \n",
      "Calculating Prediction Rankings...\n",
      "Performing sentiment analysis for each review... \n"
     ]
    },
    {
     "data": {
      "application/vnd.jupyter.widget-view+json": {
       "model_id": "2589208fbc1b4d58889c12cd6d73aa9a",
       "version_major": 2,
       "version_minor": 0
      },
      "text/plain": [
       "HBox(children=(IntProgress(value=0, max=577), HTML(value='')))"
      ]
     },
     "metadata": {},
     "output_type": "display_data"
    },
    {
     "name": "stdout",
     "output_type": "stream",
     "text": [
      "\n",
      "Rankings result: \n",
      "        entity  average_stars  predicted_score\n",
      "0      service       3.682540         0.481683\n",
      "1       cheese       4.014778         0.527874\n",
      "2         beer       3.957516         0.558835\n",
      "3   atmosphere       4.033149         0.689691\n",
      "4         food       3.825127         0.530793\n",
      "5        place       3.836327         0.582914\n",
      "6          pie       3.880546         0.588209\n",
      "7         fish       3.637427         0.563206\n",
      "8        table       3.468182         0.465907\n",
      "9        staff       3.787234         0.527981\n",
      "10      dinner       3.689873         0.516797\n",
      "Spearman Correlation Score:  0.6090909090909091\n",
      "Running on restaurant  NvKNe9DnQavC9GstglcBJQ ...\n",
      "Number of Reviews left after subset length:  1225\n",
      "Extracting entities from each review...\n"
     ]
    },
    {
     "data": {
      "application/vnd.jupyter.widget-view+json": {
       "model_id": "78673a23644448d29ed0a302dc8d2ed0",
       "version_major": 2,
       "version_minor": 0
      },
      "text/plain": [
       "HBox(children=(IntProgress(value=0, max=1225), HTML(value='')))"
      ]
     },
     "metadata": {},
     "output_type": "display_data"
    },
    {
     "name": "stdout",
     "output_type": "stream",
     "text": [
      "\n",
      "Filtering entities to have enough reviews...\n",
      "Calculating Yelp Star Rankings... \n",
      "Calculating Prediction Rankings...\n",
      "Performing sentiment analysis for each review... \n"
     ]
    },
    {
     "data": {
      "application/vnd.jupyter.widget-view+json": {
       "model_id": "964bc928366442389ae453fda0c04523",
       "version_major": 2,
       "version_minor": 0
      },
      "text/plain": [
       "HBox(children=(IntProgress(value=0, max=1225), HTML(value='')))"
      ]
     },
     "metadata": {},
     "output_type": "display_data"
    },
    {
     "name": "stdout",
     "output_type": "stream",
     "text": [
      "\n",
      "Rankings result: \n",
      "        entity  average_stars  predicted_score\n",
      "0        place       3.928571         0.615254\n",
      "1      service       3.862745         0.565537\n",
      "2         menu       3.970660         0.587943\n",
      "3         food       3.881324         0.555954\n",
      "4      chicken       4.059126         0.684601\n",
      "5        salad       3.941909         0.698593\n",
      "6         side       3.909449         0.644573\n",
      "7      special       3.844765         0.378616\n",
      "8    breakfast       3.954622         0.580373\n",
      "9        lunch       4.013123         0.676861\n",
      "10       table       3.505000         0.496955\n",
      "11      burger       4.024316         0.632600\n",
      "12        eggs       3.683962         0.517117\n",
      "13       pasta       4.012376         0.594316\n",
      "14      dinner       4.056022         0.625031\n",
      "15      buffet       3.924901         0.597595\n",
      "16       bread       3.858209         0.620260\n",
      "17      coffee       3.722689         0.527387\n",
      "18      prices       4.046667         0.604869\n",
      "19       staff       3.903061         0.705535\n",
      "20      cheese       3.948578         0.512046\n",
      "21         bit       3.828986         0.617268\n",
      "22    sandwich       3.947826         0.643324\n",
      "23       price       3.981132         0.618305\n",
      "24        meal       3.875519         0.639308\n",
      "25  cheesecake       3.942090         0.485063\n",
      "26     portion       4.135703         0.635287\n",
      "27  atmosphere       4.295082         0.694792\n",
      "Spearman Correlation Score:  0.4559386973180077\n",
      "Running on restaurant  ugLqbAvBdRDc-gS4hpslXw ...\n",
      "Number of Reviews left after subset length:  981\n",
      "Extracting entities from each review...\n"
     ]
    },
    {
     "data": {
      "application/vnd.jupyter.widget-view+json": {
       "model_id": "48372debd6324220a18bcc4c9933a4b5",
       "version_major": 2,
       "version_minor": 0
      },
      "text/plain": [
       "HBox(children=(IntProgress(value=0, max=981), HTML(value='')))"
      ]
     },
     "metadata": {},
     "output_type": "display_data"
    },
    {
     "name": "stdout",
     "output_type": "stream",
     "text": [
      "\n",
      "Filtering entities to have enough reviews...\n",
      "Calculating Yelp Star Rankings... \n",
      "Calculating Prediction Rankings...\n",
      "Performing sentiment analysis for each review... \n"
     ]
    },
    {
     "data": {
      "application/vnd.jupyter.widget-view+json": {
       "model_id": "a32056bcbe574c3183af1e24e18a324a",
       "version_major": 2,
       "version_minor": 0
      },
      "text/plain": [
       "HBox(children=(IntProgress(value=0, max=981), HTML(value='')))"
      ]
     },
     "metadata": {},
     "output_type": "display_data"
    },
    {
     "name": "stdout",
     "output_type": "stream",
     "text": [
      "\n",
      "Rankings result: \n",
      "     entity  average_stars  predicted_score\n",
      "0      roll       3.988335         0.664367\n",
      "1      food       3.839041         0.522043\n",
      "2     place       3.977138         0.594657\n",
      "3     sushi       4.032134         0.567511\n",
      "4     price       4.138462         0.628219\n",
      "5      fish       3.644860         0.529915\n",
      "6   service       3.852420         0.539563\n",
      "7     staff       4.153509         0.644590\n",
      "8      rice       3.834813         0.289182\n",
      "9     taste       3.210526         0.463059\n",
      "10    salad       4.190355         0.574000\n",
      "11  seafood       4.245902         0.543991\n",
      "12    table       3.669091         0.626010\n",
      "13     menu       4.056818         0.695719\n",
      "14   dinner       4.021552         0.623013\n",
      "15   prices       4.076923         0.646677\n",
      "16    lunch       3.854701         0.523400\n",
      "Spearman Correlation Score:  0.5637254901960785\n",
      "Running on restaurant  QJR4qBUHegWEozSQrGmBPw ...\n",
      "Number of Reviews left after subset length:  678\n",
      "Extracting entities from each review...\n"
     ]
    },
    {
     "data": {
      "application/vnd.jupyter.widget-view+json": {
       "model_id": "7f11b745cc8b4c08aa32bee537e2a4ec",
       "version_major": 2,
       "version_minor": 0
      },
      "text/plain": [
       "HBox(children=(IntProgress(value=0, max=678), HTML(value='')))"
      ]
     },
     "metadata": {},
     "output_type": "display_data"
    },
    {
     "name": "stdout",
     "output_type": "stream",
     "text": [
      "\n",
      "Filtering entities to have enough reviews...\n",
      "Calculating Yelp Star Rankings... \n",
      "Calculating Prediction Rankings...\n",
      "Performing sentiment analysis for each review... \n"
     ]
    },
    {
     "data": {
      "application/vnd.jupyter.widget-view+json": {
       "model_id": "197549c8c54b4d929f989c533971e267",
       "version_major": 2,
       "version_minor": 0
      },
      "text/plain": [
       "HBox(children=(IntProgress(value=0, max=678), HTML(value='')))"
      ]
     },
     "metadata": {},
     "output_type": "display_data"
    },
    {
     "name": "stdout",
     "output_type": "stream",
     "text": [
      "\n",
      "Rankings result: \n",
      "        entity  average_stars  predicted_score\n",
      "0         food       3.785784         0.532738\n",
      "1      service       3.839332         0.497071\n",
      "2   atmosphere       3.985401         0.389217\n",
      "3         meal       3.812950         0.671787\n",
      "4        water       3.936909         0.584311\n",
      "5        olive       3.900000         0.626719\n",
      "6       dinner       3.903803         0.662204\n",
      "7        table       3.702128         0.610640\n",
      "8         wine       3.787500         0.651261\n",
      "9        place       3.759058         0.558255\n",
      "10        menu       3.830769         0.658541\n",
      "11       steak       3.735632         0.583924\n",
      "12       bread       3.920873         0.605457\n",
      "13        beef       4.092150         0.659822\n",
      "14       pasta       3.824786         0.563465\n",
      "15       salad       3.673913         0.534600\n",
      "16       lunch       3.983278         0.630210\n",
      "17   flatbread       4.047458         0.608535\n",
      "18       staff       3.842932         0.699782\n",
      "Spearman Correlation Score:  0.2175438596491228\n",
      "Running on restaurant  VsewHMsfj1Mgsl2i_hio7w ...\n",
      "Number of Reviews left after subset length:  590\n",
      "Extracting entities from each review...\n"
     ]
    },
    {
     "data": {
      "application/vnd.jupyter.widget-view+json": {
       "model_id": "45701fb1cc5849c699993a1ae03dbee9",
       "version_major": 2,
       "version_minor": 0
      },
      "text/plain": [
       "HBox(children=(IntProgress(value=0, max=590), HTML(value='')))"
      ]
     },
     "metadata": {},
     "output_type": "display_data"
    },
    {
     "name": "stdout",
     "output_type": "stream",
     "text": [
      "\n",
      "Filtering entities to have enough reviews...\n",
      "Calculating Yelp Star Rankings... \n",
      "Calculating Prediction Rankings...\n",
      "Performing sentiment analysis for each review... \n"
     ]
    },
    {
     "data": {
      "application/vnd.jupyter.widget-view+json": {
       "model_id": "7f2426df3d1c4148b4d8fe99caee96df",
       "version_major": 2,
       "version_minor": 0
      },
      "text/plain": [
       "HBox(children=(IntProgress(value=0, max=590), HTML(value='')))"
      ]
     },
     "metadata": {},
     "output_type": "display_data"
    },
    {
     "name": "stdout",
     "output_type": "stream",
     "text": [
      "\n",
      "Rankings result: \n",
      "        entity  average_stars  predicted_score\n",
      "0        place       3.443425         0.607273\n",
      "1      service       3.635277         0.502816\n",
      "2         food       3.618469         0.542718\n",
      "3      chicken       3.767442         0.549067\n",
      "4   atmosphere       3.867470         0.608089\n",
      "5        table       3.272537         0.394310\n",
      "6     meatball       4.069892         0.697171\n",
      "7        staff       3.505000         0.680740\n",
      "8         meal       3.575472         0.674929\n",
      "9        bread       3.863636         0.604554\n",
      "10      dinner       3.588384         0.670825\n",
      "11       pasta       3.502674         0.615988\n",
      "Spearman Correlation Score:  0.15384615384615385\n",
      "Running on restaurant  JpgVl3d20CMRNjf1DVnzGA ...\n",
      "Number of Reviews left after subset length:  1176\n",
      "Extracting entities from each review...\n"
     ]
    },
    {
     "data": {
      "application/vnd.jupyter.widget-view+json": {
       "model_id": "7b9fe03b654a456f832d01d5e5fc409f",
       "version_major": 2,
       "version_minor": 0
      },
      "text/plain": [
       "HBox(children=(IntProgress(value=0, max=1176), HTML(value='')))"
      ]
     },
     "metadata": {},
     "output_type": "display_data"
    },
    {
     "name": "stdout",
     "output_type": "stream",
     "text": [
      "\n",
      "Filtering entities to have enough reviews...\n",
      "Calculating Yelp Star Rankings... \n",
      "Calculating Prediction Rankings...\n",
      "Performing sentiment analysis for each review... \n"
     ]
    },
    {
     "data": {
      "application/vnd.jupyter.widget-view+json": {
       "model_id": "368579f425a047eeb5f3843e8ff0afe0",
       "version_major": 2,
       "version_minor": 0
      },
      "text/plain": [
       "HBox(children=(IntProgress(value=0, max=1176), HTML(value='')))"
      ]
     },
     "metadata": {},
     "output_type": "display_data"
    },
    {
     "name": "stdout",
     "output_type": "stream",
     "text": [
      "\n",
      "Rankings result: \n",
      "        entity  average_stars  predicted_score\n",
      "0         meat       2.980757         0.400917\n",
      "1   atmosphere       3.489796         0.586431\n",
      "2      service       2.959016         0.409081\n",
      "3        taste       2.489796         0.324600\n",
      "4    pineapple       3.204167         0.546572\n",
      "5        place       2.851554         0.424772\n",
      "6         food       3.133382         0.503953\n",
      "7        salad       3.066800         0.478079\n",
      "8         side       2.918630         0.535117\n",
      "9      special       3.137931         0.628097\n",
      "10      dinner       2.933806         0.485744\n",
      "11         bit       3.187879         0.492291\n",
      "12     sirloin       3.239819         0.624019\n",
      "13       lunch       3.175862         0.616980\n",
      "14        meal       2.634078         0.507670\n",
      "15     seafood       2.943820         0.500160\n",
      "16       price       2.678967         0.287611\n",
      "17       steak       2.783730         0.538433\n",
      "18      salmon       2.928571         0.526068\n",
      "19     chicken       3.126100         0.723681\n",
      "20      buffet       2.946588         0.601485\n",
      "21       staff       3.197479         0.551926\n",
      "22       bread       3.243243         0.662755\n",
      "23       table       2.575321         0.276571\n",
      "24       water       2.182759         0.177919\n",
      "Spearman Correlation Score:  0.6869230769230769\n",
      "Running on restaurant  RhEvP5flF6KoPriMHmVYGg ...\n",
      "Number of Reviews left after subset length:  621\n",
      "Extracting entities from each review...\n"
     ]
    },
    {
     "data": {
      "application/vnd.jupyter.widget-view+json": {
       "model_id": "abee27da9af647d295fe17c13833061c",
       "version_major": 2,
       "version_minor": 0
      },
      "text/plain": [
       "HBox(children=(IntProgress(value=0, max=621), HTML(value='')))"
      ]
     },
     "metadata": {},
     "output_type": "display_data"
    },
    {
     "name": "stdout",
     "output_type": "stream",
     "text": [
      "\n",
      "Filtering entities to have enough reviews...\n",
      "Calculating Yelp Star Rankings... \n",
      "Calculating Prediction Rankings...\n",
      "Performing sentiment analysis for each review... \n"
     ]
    },
    {
     "data": {
      "application/vnd.jupyter.widget-view+json": {
       "model_id": "e6abda62c2e84644b9b3512b22d03b29",
       "version_major": 2,
       "version_minor": 0
      },
      "text/plain": [
       "HBox(children=(IntProgress(value=0, max=621), HTML(value='')))"
      ]
     },
     "metadata": {},
     "output_type": "display_data"
    },
    {
     "name": "stdout",
     "output_type": "stream",
     "text": [
      "\n",
      "Rankings result: \n",
      "    entity  average_stars  predicted_score\n",
      "0    place       3.704385         0.506255\n",
      "1    staff       3.606061         0.615562\n",
      "2  service       3.225673         0.367727\n",
      "3     food       3.719439         0.549610\n",
      "4   buffet       3.861842         0.592187\n",
      "Spearman Correlation Score:  0.39999999999999997\n",
      "Running on restaurant  A5Rkh7UymKm0_Rxm9K2PJw ...\n",
      "Number of Reviews left after subset length:  621\n",
      "Extracting entities from each review...\n"
     ]
    },
    {
     "data": {
      "application/vnd.jupyter.widget-view+json": {
       "model_id": "9f5d5b22e9f34bd98510f577ef587cb3",
       "version_major": 2,
       "version_minor": 0
      },
      "text/plain": [
       "HBox(children=(IntProgress(value=0, max=621), HTML(value='')))"
      ]
     },
     "metadata": {},
     "output_type": "display_data"
    },
    {
     "name": "stdout",
     "output_type": "stream",
     "text": [
      "\n",
      "Filtering entities to have enough reviews...\n",
      "Calculating Yelp Star Rankings... \n",
      "Calculating Prediction Rankings...\n",
      "Performing sentiment analysis for each review... \n"
     ]
    },
    {
     "data": {
      "application/vnd.jupyter.widget-view+json": {
       "model_id": "895dad4b05d5460bb157980b404f22c3",
       "version_major": 2,
       "version_minor": 0
      },
      "text/plain": [
       "HBox(children=(IntProgress(value=0, max=621), HTML(value='')))"
      ]
     },
     "metadata": {},
     "output_type": "display_data"
    },
    {
     "name": "stdout",
     "output_type": "stream",
     "text": [
      "\n",
      "Rankings result: \n",
      "        entity  average_stars  predicted_score\n",
      "0      service       3.900840         0.519046\n",
      "1         food       3.861080         0.593671\n",
      "2        place       3.920000         0.630677\n",
      "3         beer       4.031949         0.629658\n",
      "4         menu       4.080925         0.604322\n",
      "5        fries       3.879781         0.731371\n",
      "6        salad       3.892405         0.708995\n",
      "7      chicken       3.968051         0.631877\n",
      "8        lunch       3.845528         0.641921\n",
      "9        staff       3.906667         0.741496\n",
      "10  atmosphere       4.266667         0.644258\n",
      "11      cheese       3.991111         0.642774\n",
      "12      prices       4.009615         0.631159\n",
      "13      burger       3.905263         0.763466\n",
      "Spearman Correlation Score:  -0.12967032967032965\n",
      "Running on restaurant  LNGBEEelQx4zbfWnlc66cw ...\n",
      "Number of Reviews left after subset length:  779\n",
      "Extracting entities from each review...\n"
     ]
    },
    {
     "data": {
      "application/vnd.jupyter.widget-view+json": {
       "model_id": "c50992cdaeb24b88a7ea3b056705d3fa",
       "version_major": 2,
       "version_minor": 0
      },
      "text/plain": [
       "HBox(children=(IntProgress(value=0, max=779), HTML(value='')))"
      ]
     },
     "metadata": {},
     "output_type": "display_data"
    },
    {
     "name": "stdout",
     "output_type": "stream",
     "text": [
      "\n",
      "Filtering entities to have enough reviews...\n",
      "Calculating Yelp Star Rankings... \n",
      "Calculating Prediction Rankings...\n",
      "Performing sentiment analysis for each review... \n"
     ]
    },
    {
     "data": {
      "application/vnd.jupyter.widget-view+json": {
       "model_id": "c31b7eabbc614c0d9abe1e1f447d4f97",
       "version_major": 2,
       "version_minor": 0
      },
      "text/plain": [
       "HBox(children=(IntProgress(value=0, max=779), HTML(value='')))"
      ]
     },
     "metadata": {},
     "output_type": "display_data"
    },
    {
     "name": "stdout",
     "output_type": "stream",
     "text": [
      "\n",
      "Rankings result: \n",
      "     entity  average_stars  predicted_score\n",
      "0     staff       3.864706         0.569582\n",
      "1   dessert       4.181991         0.619269\n",
      "2   service       3.800459         0.558232\n",
      "3      food       3.993949         0.571963\n",
      "4     price       4.006046         0.532721\n",
      "5     taste       3.678474         0.507953\n",
      "6    buffet       4.066116         0.560704\n",
      "7      crab       4.037209         0.563839\n",
      "8      wine       4.261815         0.616049\n",
      "9      beer       4.279539         0.576148\n",
      "10  seafood       4.035019         0.453849\n",
      "11    lunch       4.132743         0.473602\n",
      "12  alcohol       4.075949         0.598570\n",
      "13    place       3.937151         0.473120\n",
      "14      bit       4.058824         0.539921\n",
      "15      rib       3.895503         0.525092\n",
      "16   dinner       3.961290         0.500909\n",
      "Spearman Correlation Score:  0.49019607843137264\n",
      "Running on restaurant  cJWbbvGmyhFiBpG_5hf5LA ...\n",
      "Number of Reviews left after subset length:  692\n",
      "Extracting entities from each review...\n"
     ]
    },
    {
     "data": {
      "application/vnd.jupyter.widget-view+json": {
       "model_id": "77cb958effb245f69607782df37190e1",
       "version_major": 2,
       "version_minor": 0
      },
      "text/plain": [
       "HBox(children=(IntProgress(value=0, max=692), HTML(value='')))"
      ]
     },
     "metadata": {},
     "output_type": "display_data"
    },
    {
     "name": "stdout",
     "output_type": "stream",
     "text": [
      "\n",
      "Filtering entities to have enough reviews...\n",
      "Calculating Yelp Star Rankings... \n",
      "Calculating Prediction Rankings...\n",
      "Performing sentiment analysis for each review... \n"
     ]
    },
    {
     "data": {
      "application/vnd.jupyter.widget-view+json": {
       "model_id": "c46e127405914b02a9306ca30f0b64dc",
       "version_major": 2,
       "version_minor": 0
      },
      "text/plain": [
       "HBox(children=(IntProgress(value=0, max=692), HTML(value='')))"
      ]
     },
     "metadata": {},
     "output_type": "display_data"
    },
    {
     "name": "stdout",
     "output_type": "stream",
     "text": [
      "\n",
      "Rankings result: \n",
      "       entity  average_stars  predicted_score\n",
      "0       place       3.752404         0.584618\n",
      "1        beer       3.792453         0.581489\n",
      "2        food       3.764706         0.600393\n",
      "3       staff       3.746269         0.673194\n",
      "4     service       3.605769         0.561519\n",
      "5  atmosphere       3.908616         0.594271\n",
      "6     pretzel       3.808901         0.642335\n",
      "7      dinner       3.532609         0.503882\n",
      "8     sausage       3.684543         0.556649\n",
      "Spearman Correlation Score:  0.6166666666666666\n",
      "Running on restaurant  P7pxQFqr7yBKMMI2J51udw ...\n",
      "Number of Reviews left after subset length:  1301\n",
      "Extracting entities from each review...\n"
     ]
    },
    {
     "data": {
      "application/vnd.jupyter.widget-view+json": {
       "model_id": "17f86760ff45426aa26a40124904ed9e",
       "version_major": 2,
       "version_minor": 0
      },
      "text/plain": [
       "HBox(children=(IntProgress(value=0, max=1301), HTML(value='')))"
      ]
     },
     "metadata": {},
     "output_type": "display_data"
    },
    {
     "name": "stdout",
     "output_type": "stream",
     "text": [
      "\n",
      "Filtering entities to have enough reviews...\n",
      "Calculating Yelp Star Rankings... \n",
      "Calculating Prediction Rankings...\n",
      "Performing sentiment analysis for each review... \n"
     ]
    },
    {
     "data": {
      "application/vnd.jupyter.widget-view+json": {
       "model_id": "eb94440e632c429494fcd4392ee72490",
       "version_major": 2,
       "version_minor": 0
      },
      "text/plain": [
       "HBox(children=(IntProgress(value=0, max=1301), HTML(value='')))"
      ]
     },
     "metadata": {},
     "output_type": "display_data"
    },
    {
     "name": "stdout",
     "output_type": "stream",
     "text": [
      "\n",
      "Rankings result: \n",
      "          entity  average_stars  predicted_score\n",
      "0        service       3.780053         0.478869\n",
      "1     atmosphere       4.146617         0.702974\n",
      "2          place       3.809419         0.617930\n",
      "3           food       3.713255         0.504971\n",
      "4           beef       4.005682         0.583018\n",
      "5           meal       3.717439         0.634922\n",
      "6         burger       3.929285         0.646452\n",
      "7          shake       4.044359         0.600829\n",
      "8          price       3.708397         0.520892\n",
      "9           beer       3.955000         0.582113\n",
      "10       special       3.666667         0.557919\n",
      "11         fries       3.836149         0.580285\n",
      "12           bit       3.878992         0.588806\n",
      "13         joint       3.809756         0.660803\n",
      "14        dinner       3.926641         0.545762\n",
      "15         cream       4.135211         0.510770\n",
      "16         steak       3.920489         0.708718\n",
      "17       lobster       3.906355         0.592213\n",
      "18          menu       3.850000         0.606641\n",
      "19        cheese       3.945312         0.609970\n",
      "20         lunch       3.975510         0.560002\n",
      "21  sweet potato       3.953642         0.719124\n",
      "22         taste       3.712000         0.531698\n",
      "23       alcohol       4.016878         0.664441\n",
      "24       chicken       3.752874         0.560019\n",
      "25         onion       3.914530         0.554287\n",
      "26          meat       3.785942         0.670265\n",
      "27          side       3.806107         0.618688\n",
      "28     milkshake       4.056075         0.686075\n",
      "29         staff       3.878049         0.619638\n",
      "30         salad       3.645000         0.706928\n",
      "31           bun       3.759912         0.550497\n",
      "32        prices       3.962500         0.617767\n",
      "Spearman Correlation Score:  0.26169786096256686\n",
      "Running on restaurant  bpRo8L8dkhgbJhdIKa9mwA ...\n",
      "Number of Reviews left after subset length:  642\n",
      "Extracting entities from each review...\n"
     ]
    },
    {
     "data": {
      "application/vnd.jupyter.widget-view+json": {
       "model_id": "62195798d66e410ca2c2c449890f84aa",
       "version_major": 2,
       "version_minor": 0
      },
      "text/plain": [
       "HBox(children=(IntProgress(value=0, max=642), HTML(value='')))"
      ]
     },
     "metadata": {},
     "output_type": "display_data"
    },
    {
     "name": "stdout",
     "output_type": "stream",
     "text": [
      "\n",
      "Filtering entities to have enough reviews...\n",
      "Calculating Yelp Star Rankings... \n",
      "Calculating Prediction Rankings...\n",
      "Performing sentiment analysis for each review... \n"
     ]
    },
    {
     "data": {
      "application/vnd.jupyter.widget-view+json": {
       "model_id": "1e2f85d8d0a24d478e970edcb8ebff36",
       "version_major": 2,
       "version_minor": 0
      },
      "text/plain": [
       "HBox(children=(IntProgress(value=0, max=642), HTML(value='')))"
      ]
     },
     "metadata": {},
     "output_type": "display_data"
    },
    {
     "name": "stdout",
     "output_type": "stream",
     "text": [
      "\n",
      "Rankings result: \n",
      "        entity  average_stars  predicted_score\n",
      "0        table       3.522459         0.450574\n",
      "1        place       3.746732         0.650974\n",
      "2         food       3.818670         0.601788\n",
      "3      service       3.827941         0.592246\n",
      "4   atmosphere       4.006390         0.611217\n",
      "5        steak       3.822126         0.598553\n",
      "6        bread       3.977695         0.718417\n",
      "7      truffle       4.034783         0.684074\n",
      "8       dinner       3.783964         0.675953\n",
      "9        staff       4.023392         0.672274\n",
      "10      cheese       4.027778         0.754769\n",
      "11        meal       3.777003         0.652854\n",
      "12        side       3.817699         0.597659\n",
      "Spearman Correlation Score:  0.532967032967033\n",
      "Running on restaurant  Y-S2LhHefBdnX8VP5Bh_JA ...\n",
      "Number of Reviews left after subset length:  556\n",
      "Extracting entities from each review...\n"
     ]
    },
    {
     "data": {
      "application/vnd.jupyter.widget-view+json": {
       "model_id": "3bb8a77784624faebca2a6e95ae0e134",
       "version_major": 2,
       "version_minor": 0
      },
      "text/plain": [
       "HBox(children=(IntProgress(value=0, max=556), HTML(value='')))"
      ]
     },
     "metadata": {},
     "output_type": "display_data"
    },
    {
     "name": "stdout",
     "output_type": "stream",
     "text": [
      "\n",
      "Filtering entities to have enough reviews...\n",
      "Calculating Yelp Star Rankings... \n",
      "Calculating Prediction Rankings...\n",
      "Performing sentiment analysis for each review... \n"
     ]
    },
    {
     "data": {
      "application/vnd.jupyter.widget-view+json": {
       "model_id": "351d3239015146a7aab9cbb98453dceb",
       "version_major": 2,
       "version_minor": 0
      },
      "text/plain": [
       "HBox(children=(IntProgress(value=0, max=556), HTML(value='')))"
      ]
     },
     "metadata": {},
     "output_type": "display_data"
    },
    {
     "name": "stdout",
     "output_type": "stream",
     "text": [
      "\n",
      "Rankings result: \n",
      "       entity  average_stars  predicted_score\n",
      "0        food       3.091068         0.342047\n",
      "1       staff       3.174757         0.461078\n",
      "2     chicken       3.269231         0.441958\n",
      "3       salad       3.137931         0.509682\n",
      "4   breakfast       3.330049         0.467012\n",
      "5       fries       3.126126         0.559647\n",
      "6    sandwich       3.168421         0.360121\n",
      "7       place       3.189415         0.381437\n",
      "8     service       3.089655         0.319040\n",
      "9      burger       3.019048         0.379191\n",
      "10       menu       3.171053         0.594539\n",
      "11     prices       3.469697         0.397155\n",
      "Spearman Correlation Score:  0.35664335664335667\n",
      "Running on restaurant  f4x1YBxkLrZg652xt2KR5g ...\n",
      "Number of Reviews left after subset length:  2734\n",
      "Extracting entities from each review...\n"
     ]
    },
    {
     "data": {
      "application/vnd.jupyter.widget-view+json": {
       "model_id": "2e770dd09cfa4b48903e3abcf77f0295",
       "version_major": 2,
       "version_minor": 0
      },
      "text/plain": [
       "HBox(children=(IntProgress(value=0, max=2734), HTML(value='')))"
      ]
     },
     "metadata": {},
     "output_type": "display_data"
    },
    {
     "name": "stdout",
     "output_type": "stream",
     "text": [
      "\n",
      "Filtering entities to have enough reviews...\n",
      "Calculating Yelp Star Rankings... \n",
      "Calculating Prediction Rankings...\n",
      "Performing sentiment analysis for each review... \n"
     ]
    },
    {
     "data": {
      "application/vnd.jupyter.widget-view+json": {
       "model_id": "4387f67b5d1b4c429ce69389e45f8c75",
       "version_major": 2,
       "version_minor": 0
      },
      "text/plain": [
       "HBox(children=(IntProgress(value=0, max=2734), HTML(value='')))"
      ]
     },
     "metadata": {},
     "output_type": "display_data"
    },
    {
     "name": "stdout",
     "output_type": "stream",
     "text": [
      "\n",
      "Rankings result: \n",
      "         entity  average_stars  predicted_score\n",
      "0          feed       4.118812         0.588665\n",
      "1          menu       3.939198         0.622873\n",
      "2         place       3.933333         0.611833\n",
      "3         plate       3.862235         0.634015\n",
      "4          hash       3.860392         0.625041\n",
      "5       pancake       4.085714         0.662259\n",
      "6       chicken       3.967115         0.629198\n",
      "7         bacon       3.984942         0.618899\n",
      "8          food       3.837684         0.555418\n",
      "9        dinner       4.071672         0.557035\n",
      "10      service       3.814003         0.548718\n",
      "11      serving       4.020161         0.641174\n",
      "12    breakfast       4.061592         0.577813\n",
      "13         side       3.851584         0.661958\n",
      "14         meal       3.887442         0.614906\n",
      "15        gravy       3.784314         0.677255\n",
      "16         eggs       3.801811         0.558830\n",
      "17        table       3.507042         0.443596\n",
      "18       banana       4.284790         0.725968\n",
      "19  brown sugar       4.428571         0.743987\n",
      "20        taste       3.455112         0.483742\n",
      "21     sandwich       3.710784         0.625642\n",
      "22          bit       3.724238         0.640240\n",
      "23       waffle       3.966496         0.628588\n",
      "24     meatloaf       3.961353         0.671408\n",
      "25   atmosphere       4.041451         0.651686\n",
      "26        price       3.993385         0.638819\n",
      "27      biscuit       3.763819         0.731703\n",
      "28      portion       4.052236         0.621606\n",
      "29          pie       3.805970         0.674528\n",
      "30     lemonade       4.155556         0.705115\n",
      "31   watermelon       4.156463         0.646486\n",
      "32  corned beef       3.872146         0.688827\n",
      "33       burger       3.785714         0.591888\n",
      "34        staff       3.841102         0.635424\n",
      "35  bloody mary       4.134172         0.347094\n",
      "36       prices       4.139726         0.574384\n",
      "37          egg       3.775527         0.547850\n",
      "38         dish       3.784524         0.696249\n",
      "39        sauce       3.849383         0.727684\n",
      "40        split       4.152125         0.657558\n",
      "41    leftovers       4.241758         0.754622\n",
      "42       salmon       3.685535         0.672873\n",
      "43       cheese       3.809392         0.556205\n",
      "44       coffee       3.827586         0.487260\n",
      "45        sweet       3.981413         0.597503\n",
      "46        lunch       3.939655         0.631375\n",
      "47      special       3.706667         0.458914\n",
      "48        salad       3.532338         0.524273\n",
      "Spearman Correlation Score:  0.2937755102040816\n",
      "Running on restaurant  GIfZNMP0oIJCje_Xp0Bgrw ...\n",
      "Number of Reviews left after subset length:  377\n",
      "Extracting entities from each review...\n"
     ]
    },
    {
     "data": {
      "application/vnd.jupyter.widget-view+json": {
       "model_id": "f0d06d00c84544cb8a63d5df4d87b61b",
       "version_major": 2,
       "version_minor": 0
      },
      "text/plain": [
       "HBox(children=(IntProgress(value=0, max=377), HTML(value='')))"
      ]
     },
     "metadata": {},
     "output_type": "display_data"
    },
    {
     "name": "stdout",
     "output_type": "stream",
     "text": [
      "\n",
      "Filtering entities to have enough reviews...\n",
      "Calculating Yelp Star Rankings... \n",
      "Calculating Prediction Rankings...\n",
      "Performing sentiment analysis for each review... \n"
     ]
    },
    {
     "data": {
      "application/vnd.jupyter.widget-view+json": {
       "model_id": "dec576d1542a4b35981c430566fbaf8c",
       "version_major": 2,
       "version_minor": 0
      },
      "text/plain": [
       "HBox(children=(IntProgress(value=0, max=377), HTML(value='')))"
      ]
     },
     "metadata": {},
     "output_type": "display_data"
    },
    {
     "name": "stdout",
     "output_type": "stream",
     "text": [
      "\n",
      "Rankings result: \n",
      "       entity  average_stars  predicted_score\n",
      "0        food       3.597920         0.546582\n",
      "1     service       3.476190         0.453859\n",
      "2       staff       3.848684         0.572006\n",
      "3      burger       3.572650         0.487038\n",
      "4       place       3.607407         0.567555\n",
      "5  atmosphere       3.955224         0.664578\n",
      "6     chicken       3.903475         0.644665\n",
      "7        menu       3.811966         0.607624\n",
      "8        beer       3.742138         0.540721\n",
      "Spearman Correlation Score:  0.9333333333333332\n",
      "Running on restaurant  K0j_Znzin0jShXVnpvW86A ...\n",
      "Number of Reviews left after subset length:  448\n",
      "Extracting entities from each review...\n"
     ]
    },
    {
     "data": {
      "application/vnd.jupyter.widget-view+json": {
       "model_id": "107d7008648340d6b8d4e1418090257f",
       "version_major": 2,
       "version_minor": 0
      },
      "text/plain": [
       "HBox(children=(IntProgress(value=0, max=448), HTML(value='')))"
      ]
     },
     "metadata": {},
     "output_type": "display_data"
    },
    {
     "name": "stdout",
     "output_type": "stream",
     "text": [
      "\n",
      "Filtering entities to have enough reviews...\n",
      "Calculating Yelp Star Rankings... \n",
      "Calculating Prediction Rankings...\n",
      "Performing sentiment analysis for each review... \n"
     ]
    },
    {
     "data": {
      "application/vnd.jupyter.widget-view+json": {
       "model_id": "f48c1627cb7549fe97f8d3a8d5683eab",
       "version_major": 2,
       "version_minor": 0
      },
      "text/plain": [
       "HBox(children=(IntProgress(value=0, max=448), HTML(value='')))"
      ]
     },
     "metadata": {},
     "output_type": "display_data"
    },
    {
     "name": "stdout",
     "output_type": "stream",
     "text": [
      "\n",
      "Rankings result: \n",
      "       entity  average_stars  predicted_score\n",
      "0        food       3.583554         0.501829\n",
      "1     service       3.668016         0.468761\n",
      "2       place       3.565996         0.549341\n",
      "3        menu       3.848901         0.564865\n",
      "4      dinner       3.599034         0.462697\n",
      "5        dish       3.713080         0.637103\n",
      "6      paella       3.689218         0.536497\n",
      "7  atmosphere       3.993197         0.695706\n",
      "Spearman Correlation Score:  0.6666666666666669\n",
      "Running on restaurant  BjH8Xepc10i6OhCDQdX6og ...\n",
      "Number of Reviews left after subset length:  416\n",
      "Extracting entities from each review...\n"
     ]
    },
    {
     "data": {
      "application/vnd.jupyter.widget-view+json": {
       "model_id": "22cb64a929f84e958a3a45b909dec522",
       "version_major": 2,
       "version_minor": 0
      },
      "text/plain": [
       "HBox(children=(IntProgress(value=0, max=416), HTML(value='')))"
      ]
     },
     "metadata": {},
     "output_type": "display_data"
    },
    {
     "name": "stdout",
     "output_type": "stream",
     "text": [
      "\n",
      "Filtering entities to have enough reviews...\n",
      "Calculating Yelp Star Rankings... \n",
      "Calculating Prediction Rankings...\n",
      "Performing sentiment analysis for each review... \n"
     ]
    },
    {
     "data": {
      "application/vnd.jupyter.widget-view+json": {
       "model_id": "dbaede55b48f4fbe9b099239551002a7",
       "version_major": 2,
       "version_minor": 0
      },
      "text/plain": [
       "HBox(children=(IntProgress(value=0, max=416), HTML(value='')))"
      ]
     },
     "metadata": {},
     "output_type": "display_data"
    },
    {
     "name": "stdout",
     "output_type": "stream",
     "text": [
      "\n",
      "Rankings result: \n",
      "     entity  average_stars  predicted_score\n",
      "0      menu       3.544681         0.606425\n",
      "1     lunch       3.510638         0.512484\n",
      "2     place       3.454861         0.529608\n",
      "3   service       3.516791         0.450579\n",
      "4     staff       3.740741         0.714826\n",
      "5       pie       3.744681         0.659764\n",
      "6    banana       3.961749         0.689529\n",
      "7     cream       3.942308         0.688324\n",
      "8      food       3.514423         0.490548\n",
      "9      meal       3.627376         0.573012\n",
      "10   dinner       3.800000         0.593836\n",
      "11     fish       3.589577         0.728454\n",
      "Spearman Correlation Score:  0.6573426573426573\n",
      "Running on restaurant  C8D_GU9cDDjbOJfCaGXxDQ ...\n",
      "Number of Reviews left after subset length:  694\n",
      "Extracting entities from each review...\n"
     ]
    },
    {
     "data": {
      "application/vnd.jupyter.widget-view+json": {
       "model_id": "8d8355154f1e43bbaadfa540fc3077cd",
       "version_major": 2,
       "version_minor": 0
      },
      "text/plain": [
       "HBox(children=(IntProgress(value=0, max=694), HTML(value='')))"
      ]
     },
     "metadata": {},
     "output_type": "display_data"
    },
    {
     "name": "stdout",
     "output_type": "stream",
     "text": [
      "\n",
      "Filtering entities to have enough reviews...\n",
      "Calculating Yelp Star Rankings... \n",
      "Calculating Prediction Rankings...\n",
      "Performing sentiment analysis for each review... \n"
     ]
    },
    {
     "data": {
      "application/vnd.jupyter.widget-view+json": {
       "model_id": "190f87adae184b029ce2917db31d8a91",
       "version_major": 2,
       "version_minor": 0
      },
      "text/plain": [
       "HBox(children=(IntProgress(value=0, max=694), HTML(value='')))"
      ]
     },
     "metadata": {},
     "output_type": "display_data"
    },
    {
     "name": "stdout",
     "output_type": "stream",
     "text": [
      "\n",
      "Rankings result: \n",
      "        entity  average_stars  predicted_score\n",
      "0      service       3.750000         0.555581\n",
      "1        place       3.834109         0.607649\n",
      "2        staff       3.891775         0.559635\n",
      "3       cheese       3.926020         0.635968\n",
      "4        table       3.401338         0.588671\n",
      "5   atmosphere       4.047794         0.651107\n",
      "6         food       3.756155         0.541192\n",
      "7       fondue       3.971098         0.684834\n",
      "8      pretzel       4.012704         0.671794\n",
      "9        salad       3.874539         0.749743\n",
      "10      dinner       3.776316         0.634975\n",
      "11       lunch       3.859259         0.744122\n",
      "12   appetizer       3.854460         0.676637\n",
      "13        menu       3.786096         0.619405\n",
      "14     chicken       3.948127         0.744679\n",
      "Spearman Correlation Score:  0.6142857142857142\n",
      "Running on restaurant  FLMxWQO-ckCQmGZhU9OQgw ...\n",
      "Number of Reviews left after subset length:  515\n",
      "Extracting entities from each review...\n"
     ]
    },
    {
     "data": {
      "application/vnd.jupyter.widget-view+json": {
       "model_id": "ca026694d73a4321a178c2a9695564f7",
       "version_major": 2,
       "version_minor": 0
      },
      "text/plain": [
       "HBox(children=(IntProgress(value=0, max=515), HTML(value='')))"
      ]
     },
     "metadata": {},
     "output_type": "display_data"
    },
    {
     "name": "stdout",
     "output_type": "stream",
     "text": [
      "\n",
      "Filtering entities to have enough reviews...\n",
      "Calculating Yelp Star Rankings... \n",
      "Calculating Prediction Rankings...\n",
      "Performing sentiment analysis for each review... \n"
     ]
    },
    {
     "data": {
      "application/vnd.jupyter.widget-view+json": {
       "model_id": "791fef8882224fc09d13556767fedbcb",
       "version_major": 2,
       "version_minor": 0
      },
      "text/plain": [
       "HBox(children=(IntProgress(value=0, max=515), HTML(value='')))"
      ]
     },
     "metadata": {},
     "output_type": "display_data"
    },
    {
     "name": "stdout",
     "output_type": "stream",
     "text": [
      "\n",
      "Rankings result: \n",
      "     entity  average_stars  predicted_score\n",
      "0      crab       3.538642         0.361047\n",
      "1    buffet       3.478376         0.461151\n",
      "2   service       3.477509         0.494459\n",
      "3      food       3.407970         0.452806\n",
      "4    dinner       3.404959         0.366203\n",
      "5     lunch       3.488095         0.499761\n",
      "6   dessert       3.527964         0.618187\n",
      "7     place       3.361751         0.456585\n",
      "8   seafood       3.588745         0.406894\n",
      "9     price       3.358056         0.428953\n",
      "10      rib       3.325301         0.494037\n",
      "Spearman Correlation Score:  -0.03636363636363637\n",
      "Running on restaurant  -6tvduBzjLI1ISfs3F_qTg ...\n",
      "Number of Reviews left after subset length:  642\n",
      "Extracting entities from each review...\n"
     ]
    },
    {
     "data": {
      "application/vnd.jupyter.widget-view+json": {
       "model_id": "6bfbb73560ba4a3ab519287d2b6f19f1",
       "version_major": 2,
       "version_minor": 0
      },
      "text/plain": [
       "HBox(children=(IntProgress(value=0, max=642), HTML(value='')))"
      ]
     },
     "metadata": {},
     "output_type": "display_data"
    },
    {
     "name": "stdout",
     "output_type": "stream",
     "text": [
      "\n",
      "Filtering entities to have enough reviews...\n",
      "Calculating Yelp Star Rankings... \n",
      "Calculating Prediction Rankings...\n",
      "Performing sentiment analysis for each review... \n"
     ]
    },
    {
     "data": {
      "application/vnd.jupyter.widget-view+json": {
       "model_id": "5b3bdcab68fb42a28ddf982cf6b120ef",
       "version_major": 2,
       "version_minor": 0
      },
      "text/plain": [
       "HBox(children=(IntProgress(value=0, max=642), HTML(value='')))"
      ]
     },
     "metadata": {},
     "output_type": "display_data"
    },
    {
     "name": "stdout",
     "output_type": "stream",
     "text": [
      "\n",
      "Rankings result: \n",
      "        entity  average_stars  predicted_score\n",
      "0         fish       3.931655         0.739497\n",
      "1      service       3.786982         0.604945\n",
      "2         food       3.675159         0.611400\n",
      "3        place       3.890130         0.665165\n",
      "4   atmosphere       4.022124         0.689357\n",
      "5        salsa       3.646497         0.620785\n",
      "6         taco       3.926329         0.688979\n",
      "7        staff       4.005714         0.637236\n",
      "8        lunch       3.926316         0.691858\n",
      "9      chicken       4.006494         0.712722\n",
      "10     burrito       3.813793         0.614260\n",
      "11        corn       4.023810         0.652560\n",
      "Spearman Correlation Score:  0.6223776223776225\n",
      "Running on restaurant  XmsBtCykUtObXg4Q1mYpvg ...\n",
      "Number of Reviews left after subset length:  469\n",
      "Extracting entities from each review...\n"
     ]
    },
    {
     "data": {
      "application/vnd.jupyter.widget-view+json": {
       "model_id": "ffb3758cf34c4522a9751df641effae7",
       "version_major": 2,
       "version_minor": 0
      },
      "text/plain": [
       "HBox(children=(IntProgress(value=0, max=469), HTML(value='')))"
      ]
     },
     "metadata": {},
     "output_type": "display_data"
    },
    {
     "name": "stdout",
     "output_type": "stream",
     "text": [
      "\n",
      "Filtering entities to have enough reviews...\n",
      "Calculating Yelp Star Rankings... \n",
      "Calculating Prediction Rankings...\n",
      "Performing sentiment analysis for each review... \n"
     ]
    },
    {
     "data": {
      "application/vnd.jupyter.widget-view+json": {
       "model_id": "13d5fb1fe3394b6c816e9a04c898d57c",
       "version_major": 2,
       "version_minor": 0
      },
      "text/plain": [
       "HBox(children=(IntProgress(value=0, max=469), HTML(value='')))"
      ]
     },
     "metadata": {},
     "output_type": "display_data"
    },
    {
     "name": "stdout",
     "output_type": "stream",
     "text": [
      "\n",
      "Rankings result: \n",
      "        entity  average_stars  predicted_score\n",
      "0       cheese       4.054878         0.607987\n",
      "1         pork       4.035294         0.542287\n",
      "2        place       3.900990         0.572919\n",
      "3        curds       4.072327         0.619834\n",
      "4        lunch       3.869919         0.479453\n",
      "5      service       3.872832         0.539018\n",
      "6       burger       3.975000         0.684210\n",
      "7         food       3.845173         0.546498\n",
      "8         menu       3.851744         0.580648\n",
      "9   atmosphere       4.034722         0.671753\n",
      "10        meal       3.782857         0.579020\n",
      "11         bit       3.682635         0.514688\n",
      "12      dinner       4.000000         0.595611\n",
      "13       staff       3.960630         0.515789\n",
      "Spearman Correlation Score:  0.5560439560439561\n",
      "Running on restaurant  u-67zd1ImTv3EEr5kIdWrA ...\n",
      "Number of Reviews left after subset length:  502\n",
      "Extracting entities from each review...\n"
     ]
    },
    {
     "data": {
      "application/vnd.jupyter.widget-view+json": {
       "model_id": "eca09889b26144e8991441d5cf5a915e",
       "version_major": 2,
       "version_minor": 0
      },
      "text/plain": [
       "HBox(children=(IntProgress(value=0, max=502), HTML(value='')))"
      ]
     },
     "metadata": {},
     "output_type": "display_data"
    },
    {
     "name": "stdout",
     "output_type": "stream",
     "text": [
      "\n",
      "Filtering entities to have enough reviews...\n",
      "Calculating Yelp Star Rankings... \n",
      "Calculating Prediction Rankings...\n",
      "Performing sentiment analysis for each review... \n"
     ]
    },
    {
     "data": {
      "application/vnd.jupyter.widget-view+json": {
       "model_id": "d43bc28aa87544a99ae508948413caac",
       "version_major": 2,
       "version_minor": 0
      },
      "text/plain": [
       "HBox(children=(IntProgress(value=0, max=502), HTML(value='')))"
      ]
     },
     "metadata": {},
     "output_type": "display_data"
    },
    {
     "name": "stdout",
     "output_type": "stream",
     "text": [
      "\n",
      "Rankings result: \n",
      "       entity  average_stars  predicted_score\n",
      "0     service       3.503067         0.429545\n",
      "1       place       3.454545         0.504449\n",
      "2  atmosphere       4.073684         0.777744\n",
      "3        food       3.510776         0.473441\n",
      "4   breakfast       3.783333         0.599524\n",
      "5       staff       3.696078         0.637916\n",
      "6      dinner       3.517544         0.662719\n",
      "Spearman Correlation Score:  0.7500000000000002\n",
      "Running on restaurant  5LNZ67Yw9RD6nf4_UhXOjw ...\n",
      "Number of Reviews left after subset length:  730\n",
      "Extracting entities from each review...\n"
     ]
    },
    {
     "data": {
      "application/vnd.jupyter.widget-view+json": {
       "model_id": "fec0a3432eb1438e91dd614c3ed71f78",
       "version_major": 2,
       "version_minor": 0
      },
      "text/plain": [
       "HBox(children=(IntProgress(value=0, max=730), HTML(value='')))"
      ]
     },
     "metadata": {},
     "output_type": "display_data"
    },
    {
     "name": "stdout",
     "output_type": "stream",
     "text": [
      "\n",
      "Filtering entities to have enough reviews...\n",
      "Calculating Yelp Star Rankings... \n",
      "Calculating Prediction Rankings...\n",
      "Performing sentiment analysis for each review... \n"
     ]
    },
    {
     "data": {
      "application/vnd.jupyter.widget-view+json": {
       "model_id": "e92c9e0d38574138a224f1bb4a2ed4de",
       "version_major": 2,
       "version_minor": 0
      },
      "text/plain": [
       "HBox(children=(IntProgress(value=0, max=730), HTML(value='')))"
      ]
     },
     "metadata": {},
     "output_type": "display_data"
    },
    {
     "name": "stdout",
     "output_type": "stream",
     "text": [
      "\n",
      "Rankings result: \n",
      "    entity  average_stars  predicted_score\n",
      "0    place       3.856981         0.554267\n",
      "1  service       3.539623         0.453846\n",
      "2    staff       3.724490         0.578841\n",
      "3     food       3.795337         0.680158\n",
      "Spearman Correlation Score:  0.39999999999999997\n",
      "Running on restaurant  RESDUcs7fIiihp38-d6_6g ...\n",
      "Number of Reviews left after subset length:  1613\n",
      "Extracting entities from each review...\n"
     ]
    },
    {
     "data": {
      "application/vnd.jupyter.widget-view+json": {
       "model_id": "19b40155057b4b68acc3491dcf958fe1",
       "version_major": 2,
       "version_minor": 0
      },
      "text/plain": [
       "HBox(children=(IntProgress(value=0, max=1613), HTML(value='')))"
      ]
     },
     "metadata": {},
     "output_type": "display_data"
    },
    {
     "name": "stdout",
     "output_type": "stream",
     "text": [
      "\n",
      "Filtering entities to have enough reviews...\n",
      "Calculating Yelp Star Rankings... \n",
      "Calculating Prediction Rankings...\n",
      "Performing sentiment analysis for each review... \n"
     ]
    },
    {
     "data": {
      "application/vnd.jupyter.widget-view+json": {
       "model_id": "0afafc6269534e05bc69759c743f72ca",
       "version_major": 2,
       "version_minor": 0
      },
      "text/plain": [
       "HBox(children=(IntProgress(value=0, max=1613), HTML(value='')))"
      ]
     },
     "metadata": {},
     "output_type": "display_data"
    },
    {
     "name": "stdout",
     "output_type": "stream",
     "text": [
      "\n",
      "Rankings result: \n",
      "       entity  average_stars  predicted_score\n",
      "0        food       3.749781         0.476395\n",
      "1      buffet       3.882194         0.506504\n",
      "2     seafood       3.874539         0.508779\n",
      "3      dinner       3.757068         0.523866\n",
      "4       price       3.647137         0.434594\n",
      "5        crab       3.831399         0.521286\n",
      "6       taste       3.559413         0.444334\n",
      "7     dessert       3.988474         0.631581\n",
      "8     service       3.640504         0.460235\n",
      "9   breakfast       4.026403         0.455982\n",
      "10      staff       3.595238         0.527825\n",
      "11      lunch       3.934974         0.520258\n",
      "12      place       3.671450         0.523860\n",
      "13       lamb       3.828125         0.547634\n",
      "14       meal       3.629808         0.543842\n",
      "15      sushi       3.873315         0.561458\n",
      "16      table       3.465982         0.399776\n",
      "17        rib       3.631836         0.547422\n",
      "18       meat       3.765016         0.575634\n",
      "19        bit       3.904425         0.519462\n",
      "20    special       3.684512         0.311673\n",
      "Spearman Correlation Score:  0.2311688311688312\n",
      "Running on restaurant  YJ8ljUhLsz6CtT_2ORNFmg ...\n",
      "Number of Reviews left after subset length:  704\n",
      "Extracting entities from each review...\n"
     ]
    },
    {
     "data": {
      "application/vnd.jupyter.widget-view+json": {
       "model_id": "61c4a3a12a5f499db4dec3fa4d1d75fa",
       "version_major": 2,
       "version_minor": 0
      },
      "text/plain": [
       "HBox(children=(IntProgress(value=0, max=704), HTML(value='')))"
      ]
     },
     "metadata": {},
     "output_type": "display_data"
    },
    {
     "name": "stdout",
     "output_type": "stream",
     "text": [
      "\n",
      "Filtering entities to have enough reviews...\n",
      "Calculating Yelp Star Rankings... \n",
      "Calculating Prediction Rankings...\n",
      "Performing sentiment analysis for each review... \n"
     ]
    },
    {
     "data": {
      "application/vnd.jupyter.widget-view+json": {
       "model_id": "8825da9bcd394a26857bcbc062851e6d",
       "version_major": 2,
       "version_minor": 0
      },
      "text/plain": [
       "HBox(children=(IntProgress(value=0, max=704), HTML(value='')))"
      ]
     },
     "metadata": {},
     "output_type": "display_data"
    },
    {
     "name": "stdout",
     "output_type": "stream",
     "text": [
      "\n",
      "Rankings result: \n",
      "        entity  average_stars  predicted_score\n",
      "0      service       3.427362         0.491228\n",
      "1       burger       3.248210         0.511660\n",
      "2         food       3.328713         0.444013\n",
      "3        place       3.197417         0.481743\n",
      "4         fish       3.234597         0.567455\n",
      "5         beer       3.523077         0.663074\n",
      "6       dinner       3.209205         0.542091\n",
      "7         lamb       3.362069         0.514560\n",
      "8        fries       3.224638         0.506459\n",
      "9      pudding       4.092920         0.707873\n",
      "10     lobster       3.822695         0.528362\n",
      "11       staff       3.414634         0.498635\n",
      "12        meal       3.125402         0.432187\n",
      "13  atmosphere       3.880503         0.631103\n",
      "14    sandwich       3.642857         0.595421\n",
      "15        menu       3.340502         0.457741\n",
      "16     dessert       3.814634         0.813979\n",
      "17      toffee       4.085586         0.673816\n",
      "18       steak       3.195745         0.533221\n",
      "19      cheese       3.595349         0.474797\n",
      "20         pie       3.250000         0.430370\n",
      "21     chicken       3.387435         0.436077\n",
      "Spearman Correlation Score:  0.531338226990401\n",
      "Running on restaurant  G-5kEa6E6PD5fkBRuA7k9Q ...\n",
      "Number of Reviews left after subset length:  509\n",
      "Extracting entities from each review...\n"
     ]
    },
    {
     "data": {
      "application/vnd.jupyter.widget-view+json": {
       "model_id": "ee35f252ea8e47a8b4a37c95f492bd13",
       "version_major": 2,
       "version_minor": 0
      },
      "text/plain": [
       "HBox(children=(IntProgress(value=0, max=509), HTML(value='')))"
      ]
     },
     "metadata": {},
     "output_type": "display_data"
    },
    {
     "name": "stdout",
     "output_type": "stream",
     "text": [
      "\n",
      "Filtering entities to have enough reviews...\n",
      "Calculating Yelp Star Rankings... \n",
      "Calculating Prediction Rankings...\n",
      "Performing sentiment analysis for each review... \n"
     ]
    },
    {
     "data": {
      "application/vnd.jupyter.widget-view+json": {
       "model_id": "fa8d6f8ed6e84e8da5ba2d5217eddf3e",
       "version_major": 2,
       "version_minor": 0
      },
      "text/plain": [
       "HBox(children=(IntProgress(value=0, max=509), HTML(value='')))"
      ]
     },
     "metadata": {},
     "output_type": "display_data"
    },
    {
     "name": "stdout",
     "output_type": "stream",
     "text": [
      "\n",
      "Rankings result: \n",
      "        entity  average_stars  predicted_score\n",
      "0         menu       3.518847         0.660820\n",
      "1        bread       3.578431         0.471809\n",
      "2        place       3.363431         0.436824\n",
      "3         food       3.410433         0.507593\n",
      "4      service       3.484646         0.467233\n",
      "5       dinner       3.521053         0.631800\n",
      "6         meal       3.472296         0.656028\n",
      "7        staff       3.403433         0.666076\n",
      "8        table       3.306818         0.684919\n",
      "9        lemon       3.889197         0.586528\n",
      "10  atmosphere       3.876033         0.532371\n",
      "11         bit       3.657692         0.686530\n",
      "12       lunch       3.419811         0.524867\n",
      "13       pasta       3.481383         0.560567\n",
      "Spearman Correlation Score:  0.04175824175824176\n",
      "\n"
     ]
    }
   ],
   "source": [
    "from scipy.stats import spearmanr\n",
    "rules = ['rule_1', 'rule_2', 'rule_3', 'rule_4', 'rule_5', 'rule_6']\n",
    "\n",
    "rule = 'rule_2'\n",
    "\n",
    "correlation_scores = []\n",
    "\n",
    "print(\"RULE: \", rule)\n",
    "for bus_id in tqdm(business_ids_similar_stars):\n",
    "    print(\"Running on restaurant \", bus_id, \"...\")\n",
    "    subset = bus[bus.business_id == bus_id]\n",
    "    \n",
    "    # only get reviews with enough amount of text\n",
    "    reviews_subset = [review for review in subset.text if len(review) < 400]\n",
    "\n",
    "    print(\"Number of Reviews left after subset length: \", len(reviews_subset))\n",
    "    \n",
    "    # get set of entities for this particular restaurant,\n",
    "    # and count how many reviews each entity have\n",
    "    entities_with_count = defaultdict(int) \n",
    "    review_entities = [] # extract entities for each review\n",
    "    print(\"Extracting entities from each review...\")\n",
    "    for review in tqdm(reviews_subset):\n",
    "        entities = get_entities(nlp, review)\n",
    "\n",
    "        # add this review as a count to an entity\n",
    "        for ent in entities:\n",
    "            entities_with_count[ent.lower()] += 1\n",
    "\n",
    "        review_entities.append(entities)\n",
    "        \n",
    "    # only grab entities that have enough reviews\n",
    "    print(\"Filtering entities to have enough reviews...\")\n",
    "    entities_with_enough_reviews = []\n",
    "    threshold = 30\n",
    "    for key, value in entities_with_count.items():\n",
    "        if value >= threshold:\n",
    "            entities_with_enough_reviews.append(key)\n",
    "            \n",
    "    # TRUE RANKINGS CALCULATION\n",
    "    # for each entity, average ratings\n",
    "    true_rankings = defaultdict(list)\n",
    "\n",
    "    print(\"Calculating Yelp Star Rankings... \")\n",
    "    for entity in entities_with_enough_reviews:\n",
    "        true_rankings['entity'] += [entity]\n",
    "        entity_reviews = subset[subset.text.str.contains(entity, case=False)]\n",
    "        true_rankings['average_stars'] += [np.mean(entity_reviews.stars)]\n",
    "\n",
    "    true_rankings = pd.DataFrame(true_rankings)\n",
    "    \n",
    "    # PREDICTION RANKING CALCULATION\n",
    "    print(\"Calculating Prediction Rankings...\")\n",
    "    # Filter entities of each review to be from the entities_with_enough_review set\n",
    "    entity_filter = set(entities_with_enough_reviews)\n",
    "\n",
    "    filtered_entities = []\n",
    "\n",
    "    for entities in review_entities:\n",
    "        filtered = []\n",
    "        for ent in entities:\n",
    "            ent = ent.lower()\n",
    "            if ent in entity_filter:\n",
    "                filtered.append(ent)\n",
    "        filtered_entities.append(filtered)\n",
    "    \n",
    "#     # run validation for each rule\n",
    "#     for rule in rules:\n",
    "\n",
    "    # perform sentiment analysis for each review with filtered entities above\n",
    "    predicted_scores = defaultdict(list)\n",
    "\n",
    "    print(\"Performing sentiment analysis for each review... \")\n",
    "    for i, review in enumerate(tqdm(reviews_subset)):\n",
    "        entities = filtered_entities[i]\n",
    "\n",
    "    #     print(review)\n",
    "\n",
    "        scores = gen_sentiment(review, entities, parser = parser, sentiment_package='vader', rule=rule)\n",
    "\n",
    "        # save results \n",
    "        for entity, score in scores:\n",
    "            predicted_scores[entity] += [score]\n",
    "\n",
    "    # create rankings from scores\n",
    "    predicted_rankings = defaultdict(list)\n",
    "    for entity, scores in predicted_scores.items():\n",
    "        predicted_rankings['entity'] += [entity]\n",
    "        predicted_rankings['predicted_score'] += [np.mean(scores)]\n",
    "\n",
    "    predicted_rankings = pd.DataFrame(predicted_rankings)\n",
    "\n",
    "    #### may not be necessary to do these castings\n",
    "    predicted_rankings['entity'] = predicted_rankings['entity'].astype(str)\n",
    "    true_rankings['entity'] = true_rankings['entity'].astype(str)\n",
    "    ####\n",
    "    \n",
    "    full_rankings = true_rankings.merge(predicted_rankings, how='left').fillna(0)\n",
    "\n",
    "    # spearman correlation metric\n",
    "    print(\"Rankings result: \")\n",
    "    print(full_rankings)\n",
    "    \n",
    "    corr, pvalue = spearmanr(full_rankings.average_stars, full_rankings.predicted_score)\n",
    "    print(\"Spearman Correlation Score: \", corr)\n",
    "    correlation_scores.append(corr)\n",
    "        #     print(gen_sentiment(review, entities, parser = parser,sentiment_package='vader'))"
   ]
  },
  {
   "cell_type": "code",
   "execution_count": 23,
   "metadata": {},
   "outputs": [
    {
     "data": {
      "text/plain": [
       "0.45537900578663615"
      ]
     },
     "execution_count": 23,
     "metadata": {},
     "output_type": "execute_result"
    }
   ],
   "source": [
    "np.mean(correlation_scores)"
   ]
  },
  {
   "cell_type": "markdown",
   "metadata": {},
   "source": [
    "# High Variance Restaurant Calculation"
   ]
  },
  {
   "cell_type": "code",
   "execution_count": 31,
   "metadata": {},
   "outputs": [
    {
     "data": {
      "application/vnd.jupyter.widget-view+json": {
       "model_id": "6d644207ffdc4f72900f800922c912b2",
       "version_major": 2,
       "version_minor": 0
      },
      "text/plain": [
       "HBox(children=(IntProgress(value=0, max=50), HTML(value='')))"
      ]
     },
     "metadata": {},
     "output_type": "display_data"
    },
    {
     "name": "stdout",
     "output_type": "stream",
     "text": [
      "Running on restaurant  d_L-rfS1vT3JMzgCUGtiow ...\n",
      "Number of Reviews left after subset length:  679\n",
      "Extracting entities from each review...\n"
     ]
    },
    {
     "data": {
      "application/vnd.jupyter.widget-view+json": {
       "model_id": "e0c6511f8738460b8d073226a7b5ef2a",
       "version_major": 2,
       "version_minor": 0
      },
      "text/plain": [
       "HBox(children=(IntProgress(value=0, max=679), HTML(value='')))"
      ]
     },
     "metadata": {},
     "output_type": "display_data"
    },
    {
     "name": "stdout",
     "output_type": "stream",
     "text": [
      "\n",
      "Filtering entities to have enough reviews...\n",
      "Calculating Yelp Star Rankings... \n",
      "Running on restaurant  N0apJkxIem2E8irTBRKnHw ...\n",
      "Number of Reviews left after subset length:  711\n",
      "Extracting entities from each review...\n"
     ]
    },
    {
     "data": {
      "application/vnd.jupyter.widget-view+json": {
       "model_id": "187824562aa94c9f96c116d5285140fd",
       "version_major": 2,
       "version_minor": 0
      },
      "text/plain": [
       "HBox(children=(IntProgress(value=0, max=711), HTML(value='')))"
      ]
     },
     "metadata": {},
     "output_type": "display_data"
    },
    {
     "name": "stdout",
     "output_type": "stream",
     "text": [
      "\n",
      "Filtering entities to have enough reviews...\n",
      "Calculating Yelp Star Rankings... \n",
      "Running on restaurant  IMLrj2klosTFvPRLv56cng ...\n",
      "Number of Reviews left after subset length:  679\n",
      "Extracting entities from each review...\n"
     ]
    },
    {
     "data": {
      "application/vnd.jupyter.widget-view+json": {
       "model_id": "e7452936414d4671a949cb828923bdcc",
       "version_major": 2,
       "version_minor": 0
      },
      "text/plain": [
       "HBox(children=(IntProgress(value=0, max=679), HTML(value='')))"
      ]
     },
     "metadata": {},
     "output_type": "display_data"
    },
    {
     "name": "stdout",
     "output_type": "stream",
     "text": [
      "\n",
      "Filtering entities to have enough reviews...\n",
      "Calculating Yelp Star Rankings... \n",
      "Running on restaurant  ujHiaprwCQ5ewziu0Vi9rw ...\n",
      "Number of Reviews left after subset length:  1698\n",
      "Extracting entities from each review...\n"
     ]
    },
    {
     "data": {
      "application/vnd.jupyter.widget-view+json": {
       "model_id": "8734182579674adcb682a9915ff7cd99",
       "version_major": 2,
       "version_minor": 0
      },
      "text/plain": [
       "HBox(children=(IntProgress(value=0, max=1698), HTML(value='')))"
      ]
     },
     "metadata": {},
     "output_type": "display_data"
    },
    {
     "name": "stdout",
     "output_type": "stream",
     "text": [
      "\n",
      "Filtering entities to have enough reviews...\n",
      "Calculating Yelp Star Rankings... \n",
      "Running on restaurant  OVTZNSkSfbl3gVB9XQIJfw ...\n",
      "Number of Reviews left after subset length:  561\n",
      "Extracting entities from each review...\n"
     ]
    },
    {
     "data": {
      "application/vnd.jupyter.widget-view+json": {
       "model_id": "1769f7dfdfd04b748bc30c4803906d01",
       "version_major": 2,
       "version_minor": 0
      },
      "text/plain": [
       "HBox(children=(IntProgress(value=0, max=561), HTML(value='')))"
      ]
     },
     "metadata": {},
     "output_type": "display_data"
    },
    {
     "name": "stdout",
     "output_type": "stream",
     "text": [
      "\n",
      "Filtering entities to have enough reviews...\n",
      "Calculating Yelp Star Rankings... \n",
      "Running on restaurant  HhVmDybpU7L50Kb5A0jXTg ...\n",
      "Number of Reviews left after subset length:  1600\n",
      "Extracting entities from each review...\n"
     ]
    },
    {
     "data": {
      "application/vnd.jupyter.widget-view+json": {
       "model_id": "fd85a6fe9370469c8926086b66390002",
       "version_major": 2,
       "version_minor": 0
      },
      "text/plain": [
       "HBox(children=(IntProgress(value=0, max=1600), HTML(value='')))"
      ]
     },
     "metadata": {},
     "output_type": "display_data"
    },
    {
     "name": "stdout",
     "output_type": "stream",
     "text": [
      "\n",
      "Filtering entities to have enough reviews...\n",
      "Calculating Yelp Star Rankings... \n",
      "Running on restaurant  XXW_OFaYQkkGOGniujZFHg ...\n",
      "Number of Reviews left after subset length:  1709\n",
      "Extracting entities from each review...\n"
     ]
    },
    {
     "data": {
      "application/vnd.jupyter.widget-view+json": {
       "model_id": "c14d12400f354158b090acc1d6b90265",
       "version_major": 2,
       "version_minor": 0
      },
      "text/plain": [
       "HBox(children=(IntProgress(value=0, max=1709), HTML(value='')))"
      ]
     },
     "metadata": {},
     "output_type": "display_data"
    },
    {
     "name": "stdout",
     "output_type": "stream",
     "text": [
      "\n",
      "Filtering entities to have enough reviews...\n",
      "Calculating Yelp Star Rankings... \n",
      "Running on restaurant  Wxxvi3LZbHNIDwJ-ZimtnA ...\n",
      "Number of Reviews left after subset length:  1195\n",
      "Extracting entities from each review...\n"
     ]
    },
    {
     "data": {
      "application/vnd.jupyter.widget-view+json": {
       "model_id": "a70eb4642fb74504b1343e9685b80ef1",
       "version_major": 2,
       "version_minor": 0
      },
      "text/plain": [
       "HBox(children=(IntProgress(value=0, max=1195), HTML(value='')))"
      ]
     },
     "metadata": {},
     "output_type": "display_data"
    },
    {
     "name": "stdout",
     "output_type": "stream",
     "text": [
      "\n",
      "Filtering entities to have enough reviews...\n",
      "Calculating Yelp Star Rankings... \n",
      "Running on restaurant  thLX_k20SPJ0KyusGTBIHw ...\n",
      "Number of Reviews left after subset length:  615\n",
      "Extracting entities from each review...\n"
     ]
    },
    {
     "data": {
      "application/vnd.jupyter.widget-view+json": {
       "model_id": "6a0c6fe064754d01841385bc8538df25",
       "version_major": 2,
       "version_minor": 0
      },
      "text/plain": [
       "HBox(children=(IntProgress(value=0, max=615), HTML(value='')))"
      ]
     },
     "metadata": {},
     "output_type": "display_data"
    },
    {
     "name": "stdout",
     "output_type": "stream",
     "text": [
      "\n",
      "Filtering entities to have enough reviews...\n",
      "Calculating Yelp Star Rankings... \n",
      "Running on restaurant  uuGL8diLlHfeUeFuod3F-w ...\n",
      "Number of Reviews left after subset length:  923\n",
      "Extracting entities from each review...\n"
     ]
    },
    {
     "data": {
      "application/vnd.jupyter.widget-view+json": {
       "model_id": "3561eadf692549f7b7b7cafabe398809",
       "version_major": 2,
       "version_minor": 0
      },
      "text/plain": [
       "HBox(children=(IntProgress(value=0, max=923), HTML(value='')))"
      ]
     },
     "metadata": {},
     "output_type": "display_data"
    },
    {
     "name": "stdout",
     "output_type": "stream",
     "text": [
      "\n",
      "Filtering entities to have enough reviews...\n",
      "Calculating Yelp Star Rankings... \n",
      "Running on restaurant  FvVSy2r7_zDEhZWqLgjXNQ ...\n",
      "Number of Reviews left after subset length:  546\n",
      "Extracting entities from each review...\n"
     ]
    },
    {
     "data": {
      "application/vnd.jupyter.widget-view+json": {
       "model_id": "0d7952148d99458ab469b83eba3f1fa2",
       "version_major": 2,
       "version_minor": 0
      },
      "text/plain": [
       "HBox(children=(IntProgress(value=0, max=546), HTML(value='')))"
      ]
     },
     "metadata": {},
     "output_type": "display_data"
    },
    {
     "name": "stdout",
     "output_type": "stream",
     "text": [
      "\n",
      "Filtering entities to have enough reviews...\n",
      "Calculating Yelp Star Rankings... \n",
      "Running on restaurant  _j2EtQtgLuXGRBfbM5YwZA ...\n",
      "Number of Reviews left after subset length:  522\n",
      "Extracting entities from each review...\n"
     ]
    },
    {
     "data": {
      "application/vnd.jupyter.widget-view+json": {
       "model_id": "d6b49aac813f44f5b3b71e42ad2403ce",
       "version_major": 2,
       "version_minor": 0
      },
      "text/plain": [
       "HBox(children=(IntProgress(value=0, max=522), HTML(value='')))"
      ]
     },
     "metadata": {},
     "output_type": "display_data"
    },
    {
     "name": "stdout",
     "output_type": "stream",
     "text": [
      "\n",
      "Filtering entities to have enough reviews...\n",
      "Calculating Yelp Star Rankings... \n",
      "Running on restaurant  TCoBE_BkDRrK0bWrh5VueQ ...\n",
      "Number of Reviews left after subset length:  644\n",
      "Extracting entities from each review...\n"
     ]
    },
    {
     "data": {
      "application/vnd.jupyter.widget-view+json": {
       "model_id": "6ce76a3449e74590b73e48e5a0103883",
       "version_major": 2,
       "version_minor": 0
      },
      "text/plain": [
       "HBox(children=(IntProgress(value=0, max=644), HTML(value='')))"
      ]
     },
     "metadata": {},
     "output_type": "display_data"
    },
    {
     "name": "stdout",
     "output_type": "stream",
     "text": [
      "\n",
      "Filtering entities to have enough reviews...\n",
      "Calculating Yelp Star Rankings... \n",
      "Running on restaurant  n8Zqqhff-2cxzWt_nwhU2Q ...\n",
      "Number of Reviews left after subset length:  619\n",
      "Extracting entities from each review...\n"
     ]
    },
    {
     "data": {
      "application/vnd.jupyter.widget-view+json": {
       "model_id": "1e0ed5e3a9ad4826836f70f410743482",
       "version_major": 2,
       "version_minor": 0
      },
      "text/plain": [
       "HBox(children=(IntProgress(value=0, max=619), HTML(value='')))"
      ]
     },
     "metadata": {},
     "output_type": "display_data"
    },
    {
     "name": "stdout",
     "output_type": "stream",
     "text": [
      "\n",
      "Filtering entities to have enough reviews...\n",
      "Calculating Yelp Star Rankings... \n",
      "Running on restaurant  gx2yPrOJSwF1ApJYdGBWIw ...\n",
      "Number of Reviews left after subset length:  786\n",
      "Extracting entities from each review...\n"
     ]
    },
    {
     "data": {
      "application/vnd.jupyter.widget-view+json": {
       "model_id": "d23e39f3e5944c09ba3ea5dcee19a663",
       "version_major": 2,
       "version_minor": 0
      },
      "text/plain": [
       "HBox(children=(IntProgress(value=0, max=786), HTML(value='')))"
      ]
     },
     "metadata": {},
     "output_type": "display_data"
    },
    {
     "name": "stdout",
     "output_type": "stream",
     "text": [
      "\n",
      "Filtering entities to have enough reviews...\n",
      "Calculating Yelp Star Rankings... \n",
      "Running on restaurant  YPavuOh2XsnRbLfl0DH2lQ ...\n",
      "Number of Reviews left after subset length:  917\n",
      "Extracting entities from each review...\n"
     ]
    },
    {
     "data": {
      "application/vnd.jupyter.widget-view+json": {
       "model_id": "f52fbf05410d4237a1158d8660d9535e",
       "version_major": 2,
       "version_minor": 0
      },
      "text/plain": [
       "HBox(children=(IntProgress(value=0, max=917), HTML(value='')))"
      ]
     },
     "metadata": {},
     "output_type": "display_data"
    },
    {
     "name": "stdout",
     "output_type": "stream",
     "text": [
      "\n",
      "Filtering entities to have enough reviews...\n",
      "Calculating Yelp Star Rankings... \n",
      "Running on restaurant  JyxHvtj-syke7m9rbza7mA ...\n",
      "Number of Reviews left after subset length:  725\n",
      "Extracting entities from each review...\n"
     ]
    },
    {
     "data": {
      "application/vnd.jupyter.widget-view+json": {
       "model_id": "c8a2532aaf6d4260bd40d3178c6047d8",
       "version_major": 2,
       "version_minor": 0
      },
      "text/plain": [
       "HBox(children=(IntProgress(value=0, max=725), HTML(value='')))"
      ]
     },
     "metadata": {},
     "output_type": "display_data"
    },
    {
     "name": "stdout",
     "output_type": "stream",
     "text": [
      "\n",
      "Filtering entities to have enough reviews...\n",
      "Calculating Yelp Star Rankings... \n",
      "Running on restaurant  K7lWdNUhCbcnEvI0NhGewg ...\n",
      "Number of Reviews left after subset length:  2374\n",
      "Extracting entities from each review...\n"
     ]
    },
    {
     "data": {
      "application/vnd.jupyter.widget-view+json": {
       "model_id": "fde2c8d5185e4ab79e2cdd1381d5594f",
       "version_major": 2,
       "version_minor": 0
      },
      "text/plain": [
       "HBox(children=(IntProgress(value=0, max=2374), HTML(value='')))"
      ]
     },
     "metadata": {},
     "output_type": "display_data"
    },
    {
     "name": "stdout",
     "output_type": "stream",
     "text": [
      "\n",
      "Filtering entities to have enough reviews...\n",
      "Calculating Yelp Star Rankings... \n",
      "Running on restaurant  WbJ1LRQdOuYYlRLyTkuuxw ...\n",
      "Number of Reviews left after subset length:  798\n",
      "Extracting entities from each review...\n"
     ]
    },
    {
     "data": {
      "application/vnd.jupyter.widget-view+json": {
       "model_id": "0985c4b018464fc9bd3513baed3e0b4e",
       "version_major": 2,
       "version_minor": 0
      },
      "text/plain": [
       "HBox(children=(IntProgress(value=0, max=798), HTML(value='')))"
      ]
     },
     "metadata": {},
     "output_type": "display_data"
    },
    {
     "name": "stdout",
     "output_type": "stream",
     "text": [
      "\n",
      "Filtering entities to have enough reviews...\n",
      "Calculating Yelp Star Rankings... \n",
      "Running on restaurant  rTS8LsUmNIiXsXydE49tPA ...\n",
      "Number of Reviews left after subset length:  721\n",
      "Extracting entities from each review...\n"
     ]
    },
    {
     "data": {
      "application/vnd.jupyter.widget-view+json": {
       "model_id": "3cbdd46552324eb491afea9420e6eb14",
       "version_major": 2,
       "version_minor": 0
      },
      "text/plain": [
       "HBox(children=(IntProgress(value=0, max=721), HTML(value='')))"
      ]
     },
     "metadata": {},
     "output_type": "display_data"
    },
    {
     "name": "stdout",
     "output_type": "stream",
     "text": [
      "\n",
      "Filtering entities to have enough reviews...\n",
      "Calculating Yelp Star Rankings... \n",
      "Running on restaurant  YuiM5VKscO8rS1EX7f19_g ...\n",
      "Number of Reviews left after subset length:  343\n",
      "Extracting entities from each review...\n"
     ]
    },
    {
     "data": {
      "application/vnd.jupyter.widget-view+json": {
       "model_id": "d33b88a1751b454aad1a7476d79d2b2d",
       "version_major": 2,
       "version_minor": 0
      },
      "text/plain": [
       "HBox(children=(IntProgress(value=0, max=343), HTML(value='')))"
      ]
     },
     "metadata": {},
     "output_type": "display_data"
    },
    {
     "name": "stdout",
     "output_type": "stream",
     "text": [
      "\n",
      "Filtering entities to have enough reviews...\n",
      "Calculating Yelp Star Rankings... \n",
      "Running on restaurant  T2tEMLpTeSMxLKpxwFdS3g ...\n",
      "Number of Reviews left after subset length:  588\n",
      "Extracting entities from each review...\n"
     ]
    },
    {
     "data": {
      "application/vnd.jupyter.widget-view+json": {
       "model_id": "be377cd3f51e41ae8ffc50e813dd94e3",
       "version_major": 2,
       "version_minor": 0
      },
      "text/plain": [
       "HBox(children=(IntProgress(value=0, max=588), HTML(value='')))"
      ]
     },
     "metadata": {},
     "output_type": "display_data"
    },
    {
     "name": "stdout",
     "output_type": "stream",
     "text": [
      "\n",
      "Filtering entities to have enough reviews...\n",
      "Calculating Yelp Star Rankings... \n",
      "Running on restaurant  pyqnGlIfP9Zw8LLxBjyAiA ...\n",
      "Number of Reviews left after subset length:  396\n",
      "Extracting entities from each review...\n"
     ]
    },
    {
     "data": {
      "application/vnd.jupyter.widget-view+json": {
       "model_id": "9439fa138c00495db5be9ebdfdb88449",
       "version_major": 2,
       "version_minor": 0
      },
      "text/plain": [
       "HBox(children=(IntProgress(value=0, max=396), HTML(value='')))"
      ]
     },
     "metadata": {},
     "output_type": "display_data"
    },
    {
     "name": "stdout",
     "output_type": "stream",
     "text": [
      "\n",
      "Filtering entities to have enough reviews...\n",
      "Calculating Yelp Star Rankings... \n",
      "Running on restaurant  lKom12WnYEjH5FFemK3M1Q ...\n",
      "Number of Reviews left after subset length:  579\n",
      "Extracting entities from each review...\n"
     ]
    },
    {
     "data": {
      "application/vnd.jupyter.widget-view+json": {
       "model_id": "9b6b4e8c90af4b8893bf1254f12d7db0",
       "version_major": 2,
       "version_minor": 0
      },
      "text/plain": [
       "HBox(children=(IntProgress(value=0, max=579), HTML(value='')))"
      ]
     },
     "metadata": {},
     "output_type": "display_data"
    },
    {
     "name": "stdout",
     "output_type": "stream",
     "text": [
      "\n",
      "Filtering entities to have enough reviews...\n",
      "Calculating Yelp Star Rankings... \n",
      "Running on restaurant  VR8QvH2g-jEG5EfMzA_G9w ...\n",
      "Number of Reviews left after subset length:  577\n",
      "Extracting entities from each review...\n"
     ]
    },
    {
     "data": {
      "application/vnd.jupyter.widget-view+json": {
       "model_id": "490c80c3ba66438c9f2288f69dc5752c",
       "version_major": 2,
       "version_minor": 0
      },
      "text/plain": [
       "HBox(children=(IntProgress(value=0, max=577), HTML(value='')))"
      ]
     },
     "metadata": {},
     "output_type": "display_data"
    },
    {
     "name": "stdout",
     "output_type": "stream",
     "text": [
      "\n",
      "Filtering entities to have enough reviews...\n",
      "Calculating Yelp Star Rankings... \n",
      "Running on restaurant  NvKNe9DnQavC9GstglcBJQ ...\n",
      "Number of Reviews left after subset length:  1225\n",
      "Extracting entities from each review...\n"
     ]
    },
    {
     "data": {
      "application/vnd.jupyter.widget-view+json": {
       "model_id": "e8760b3e4f14407e9feafc95470c04c1",
       "version_major": 2,
       "version_minor": 0
      },
      "text/plain": [
       "HBox(children=(IntProgress(value=0, max=1225), HTML(value='')))"
      ]
     },
     "metadata": {},
     "output_type": "display_data"
    },
    {
     "name": "stdout",
     "output_type": "stream",
     "text": [
      "\n",
      "Filtering entities to have enough reviews...\n",
      "Calculating Yelp Star Rankings... \n",
      "Running on restaurant  ugLqbAvBdRDc-gS4hpslXw ...\n",
      "Number of Reviews left after subset length:  981\n",
      "Extracting entities from each review...\n"
     ]
    },
    {
     "data": {
      "application/vnd.jupyter.widget-view+json": {
       "model_id": "c4b1c315afbb477c9e03eaa89594e7fa",
       "version_major": 2,
       "version_minor": 0
      },
      "text/plain": [
       "HBox(children=(IntProgress(value=0, max=981), HTML(value='')))"
      ]
     },
     "metadata": {},
     "output_type": "display_data"
    },
    {
     "name": "stdout",
     "output_type": "stream",
     "text": [
      "\n",
      "Filtering entities to have enough reviews...\n",
      "Calculating Yelp Star Rankings... \n",
      "Running on restaurant  QJR4qBUHegWEozSQrGmBPw ...\n",
      "Number of Reviews left after subset length:  678\n",
      "Extracting entities from each review...\n"
     ]
    },
    {
     "data": {
      "application/vnd.jupyter.widget-view+json": {
       "model_id": "ba34908eb5b2414e8e620545ad7faf89",
       "version_major": 2,
       "version_minor": 0
      },
      "text/plain": [
       "HBox(children=(IntProgress(value=0, max=678), HTML(value='')))"
      ]
     },
     "metadata": {},
     "output_type": "display_data"
    },
    {
     "name": "stdout",
     "output_type": "stream",
     "text": [
      "\n",
      "Filtering entities to have enough reviews...\n",
      "Calculating Yelp Star Rankings... \n",
      "Running on restaurant  VsewHMsfj1Mgsl2i_hio7w ...\n",
      "Number of Reviews left after subset length:  590\n",
      "Extracting entities from each review...\n"
     ]
    },
    {
     "data": {
      "application/vnd.jupyter.widget-view+json": {
       "model_id": "b362eb5e040e444c8e8832edfba1a1f5",
       "version_major": 2,
       "version_minor": 0
      },
      "text/plain": [
       "HBox(children=(IntProgress(value=0, max=590), HTML(value='')))"
      ]
     },
     "metadata": {},
     "output_type": "display_data"
    },
    {
     "name": "stdout",
     "output_type": "stream",
     "text": [
      "\n",
      "Filtering entities to have enough reviews...\n",
      "Calculating Yelp Star Rankings... \n",
      "Running on restaurant  JpgVl3d20CMRNjf1DVnzGA ...\n",
      "Number of Reviews left after subset length:  1176\n",
      "Extracting entities from each review...\n"
     ]
    },
    {
     "data": {
      "application/vnd.jupyter.widget-view+json": {
       "model_id": "3c08ef30e2f54fa8a3cf505547f7303c",
       "version_major": 2,
       "version_minor": 0
      },
      "text/plain": [
       "HBox(children=(IntProgress(value=0, max=1176), HTML(value='')))"
      ]
     },
     "metadata": {},
     "output_type": "display_data"
    },
    {
     "name": "stdout",
     "output_type": "stream",
     "text": [
      "\n",
      "Filtering entities to have enough reviews...\n",
      "Calculating Yelp Star Rankings... \n",
      "Running on restaurant  RhEvP5flF6KoPriMHmVYGg ...\n",
      "Number of Reviews left after subset length:  621\n",
      "Extracting entities from each review...\n"
     ]
    },
    {
     "data": {
      "application/vnd.jupyter.widget-view+json": {
       "model_id": "142441ee842e4d9fa84bf078054db3b9",
       "version_major": 2,
       "version_minor": 0
      },
      "text/plain": [
       "HBox(children=(IntProgress(value=0, max=621), HTML(value='')))"
      ]
     },
     "metadata": {},
     "output_type": "display_data"
    },
    {
     "name": "stdout",
     "output_type": "stream",
     "text": [
      "\n",
      "Filtering entities to have enough reviews...\n",
      "Calculating Yelp Star Rankings... \n",
      "Running on restaurant  A5Rkh7UymKm0_Rxm9K2PJw ...\n",
      "Number of Reviews left after subset length:  621\n",
      "Extracting entities from each review...\n"
     ]
    },
    {
     "data": {
      "application/vnd.jupyter.widget-view+json": {
       "model_id": "507147d0219c4aee8b0fd37a1baf2a56",
       "version_major": 2,
       "version_minor": 0
      },
      "text/plain": [
       "HBox(children=(IntProgress(value=0, max=621), HTML(value='')))"
      ]
     },
     "metadata": {},
     "output_type": "display_data"
    },
    {
     "name": "stdout",
     "output_type": "stream",
     "text": [
      "\n",
      "Filtering entities to have enough reviews...\n",
      "Calculating Yelp Star Rankings... \n",
      "Running on restaurant  LNGBEEelQx4zbfWnlc66cw ...\n",
      "Number of Reviews left after subset length:  779\n",
      "Extracting entities from each review...\n"
     ]
    },
    {
     "data": {
      "application/vnd.jupyter.widget-view+json": {
       "model_id": "f4995ab9899e49308e8fa3857a75ba27",
       "version_major": 2,
       "version_minor": 0
      },
      "text/plain": [
       "HBox(children=(IntProgress(value=0, max=779), HTML(value='')))"
      ]
     },
     "metadata": {},
     "output_type": "display_data"
    },
    {
     "name": "stdout",
     "output_type": "stream",
     "text": [
      "\n",
      "Filtering entities to have enough reviews...\n",
      "Calculating Yelp Star Rankings... \n",
      "Running on restaurant  cJWbbvGmyhFiBpG_5hf5LA ...\n",
      "Number of Reviews left after subset length:  692\n",
      "Extracting entities from each review...\n"
     ]
    },
    {
     "data": {
      "application/vnd.jupyter.widget-view+json": {
       "model_id": "570abb6836584f90b0530ec489d776e6",
       "version_major": 2,
       "version_minor": 0
      },
      "text/plain": [
       "HBox(children=(IntProgress(value=0, max=692), HTML(value='')))"
      ]
     },
     "metadata": {},
     "output_type": "display_data"
    },
    {
     "name": "stdout",
     "output_type": "stream",
     "text": [
      "\n",
      "Filtering entities to have enough reviews...\n",
      "Calculating Yelp Star Rankings... \n",
      "Running on restaurant  P7pxQFqr7yBKMMI2J51udw ...\n",
      "Number of Reviews left after subset length:  1301\n",
      "Extracting entities from each review...\n"
     ]
    },
    {
     "data": {
      "application/vnd.jupyter.widget-view+json": {
       "model_id": "fd1a25f32482422397634bb26f50b532",
       "version_major": 2,
       "version_minor": 0
      },
      "text/plain": [
       "HBox(children=(IntProgress(value=0, max=1301), HTML(value='')))"
      ]
     },
     "metadata": {},
     "output_type": "display_data"
    },
    {
     "name": "stdout",
     "output_type": "stream",
     "text": [
      "\n",
      "Filtering entities to have enough reviews...\n",
      "Calculating Yelp Star Rankings... \n",
      "Running on restaurant  bpRo8L8dkhgbJhdIKa9mwA ...\n",
      "Number of Reviews left after subset length:  642\n",
      "Extracting entities from each review...\n"
     ]
    },
    {
     "data": {
      "application/vnd.jupyter.widget-view+json": {
       "model_id": "774b58fa22a643b6875be96240edebd2",
       "version_major": 2,
       "version_minor": 0
      },
      "text/plain": [
       "HBox(children=(IntProgress(value=0, max=642), HTML(value='')))"
      ]
     },
     "metadata": {},
     "output_type": "display_data"
    },
    {
     "name": "stdout",
     "output_type": "stream",
     "text": [
      "\n",
      "Filtering entities to have enough reviews...\n",
      "Calculating Yelp Star Rankings... \n",
      "Running on restaurant  Y-S2LhHefBdnX8VP5Bh_JA ...\n",
      "Number of Reviews left after subset length:  556\n",
      "Extracting entities from each review...\n"
     ]
    },
    {
     "data": {
      "application/vnd.jupyter.widget-view+json": {
       "model_id": "db1d1ef5fc3841cda7e46ced2546a1b6",
       "version_major": 2,
       "version_minor": 0
      },
      "text/plain": [
       "HBox(children=(IntProgress(value=0, max=556), HTML(value='')))"
      ]
     },
     "metadata": {},
     "output_type": "display_data"
    },
    {
     "name": "stdout",
     "output_type": "stream",
     "text": [
      "\n",
      "Filtering entities to have enough reviews...\n",
      "Calculating Yelp Star Rankings... \n",
      "Running on restaurant  f4x1YBxkLrZg652xt2KR5g ...\n",
      "Number of Reviews left after subset length:  2734\n",
      "Extracting entities from each review...\n"
     ]
    },
    {
     "data": {
      "application/vnd.jupyter.widget-view+json": {
       "model_id": "6239cf9a8b314deeac1da0d803d1a679",
       "version_major": 2,
       "version_minor": 0
      },
      "text/plain": [
       "HBox(children=(IntProgress(value=0, max=2734), HTML(value='')))"
      ]
     },
     "metadata": {},
     "output_type": "display_data"
    },
    {
     "name": "stdout",
     "output_type": "stream",
     "text": [
      "\n",
      "Filtering entities to have enough reviews...\n",
      "Calculating Yelp Star Rankings... \n",
      "Running on restaurant  GIfZNMP0oIJCje_Xp0Bgrw ...\n",
      "Number of Reviews left after subset length:  377\n",
      "Extracting entities from each review...\n"
     ]
    },
    {
     "data": {
      "application/vnd.jupyter.widget-view+json": {
       "model_id": "fd03d5d006fb425ab79d2ec5a58ee119",
       "version_major": 2,
       "version_minor": 0
      },
      "text/plain": [
       "HBox(children=(IntProgress(value=0, max=377), HTML(value='')))"
      ]
     },
     "metadata": {},
     "output_type": "display_data"
    },
    {
     "name": "stdout",
     "output_type": "stream",
     "text": [
      "\n",
      "Filtering entities to have enough reviews...\n",
      "Calculating Yelp Star Rankings... \n",
      "Running on restaurant  K0j_Znzin0jShXVnpvW86A ...\n",
      "Number of Reviews left after subset length:  448\n",
      "Extracting entities from each review...\n"
     ]
    },
    {
     "data": {
      "application/vnd.jupyter.widget-view+json": {
       "model_id": "988c45d2d41247f3a2f404c492756285",
       "version_major": 2,
       "version_minor": 0
      },
      "text/plain": [
       "HBox(children=(IntProgress(value=0, max=448), HTML(value='')))"
      ]
     },
     "metadata": {},
     "output_type": "display_data"
    },
    {
     "name": "stdout",
     "output_type": "stream",
     "text": [
      "\n",
      "Filtering entities to have enough reviews...\n",
      "Calculating Yelp Star Rankings... \n",
      "Running on restaurant  BjH8Xepc10i6OhCDQdX6og ...\n",
      "Number of Reviews left after subset length:  416\n",
      "Extracting entities from each review...\n"
     ]
    },
    {
     "data": {
      "application/vnd.jupyter.widget-view+json": {
       "model_id": "570e1818bae14db991738232957bd205",
       "version_major": 2,
       "version_minor": 0
      },
      "text/plain": [
       "HBox(children=(IntProgress(value=0, max=416), HTML(value='')))"
      ]
     },
     "metadata": {},
     "output_type": "display_data"
    },
    {
     "name": "stdout",
     "output_type": "stream",
     "text": [
      "\n",
      "Filtering entities to have enough reviews...\n",
      "Calculating Yelp Star Rankings... \n",
      "Running on restaurant  C8D_GU9cDDjbOJfCaGXxDQ ...\n",
      "Number of Reviews left after subset length:  694\n",
      "Extracting entities from each review...\n"
     ]
    },
    {
     "data": {
      "application/vnd.jupyter.widget-view+json": {
       "model_id": "d4ad5716c1ca4dcbbaab1efe087b9a2e",
       "version_major": 2,
       "version_minor": 0
      },
      "text/plain": [
       "HBox(children=(IntProgress(value=0, max=694), HTML(value='')))"
      ]
     },
     "metadata": {},
     "output_type": "display_data"
    },
    {
     "name": "stdout",
     "output_type": "stream",
     "text": [
      "\n",
      "Filtering entities to have enough reviews...\n",
      "Calculating Yelp Star Rankings... \n",
      "Running on restaurant  FLMxWQO-ckCQmGZhU9OQgw ...\n",
      "Number of Reviews left after subset length:  515\n",
      "Extracting entities from each review...\n"
     ]
    },
    {
     "data": {
      "application/vnd.jupyter.widget-view+json": {
       "model_id": "8f0052b7469d41f8b2fcf8bd8039338a",
       "version_major": 2,
       "version_minor": 0
      },
      "text/plain": [
       "HBox(children=(IntProgress(value=0, max=515), HTML(value='')))"
      ]
     },
     "metadata": {},
     "output_type": "display_data"
    },
    {
     "name": "stdout",
     "output_type": "stream",
     "text": [
      "\n",
      "Filtering entities to have enough reviews...\n",
      "Calculating Yelp Star Rankings... \n",
      "Running on restaurant  -6tvduBzjLI1ISfs3F_qTg ...\n",
      "Number of Reviews left after subset length:  642\n",
      "Extracting entities from each review...\n"
     ]
    },
    {
     "data": {
      "application/vnd.jupyter.widget-view+json": {
       "model_id": "5e16263ae06344a1afc41c1e44ad7ccd",
       "version_major": 2,
       "version_minor": 0
      },
      "text/plain": [
       "HBox(children=(IntProgress(value=0, max=642), HTML(value='')))"
      ]
     },
     "metadata": {},
     "output_type": "display_data"
    },
    {
     "name": "stdout",
     "output_type": "stream",
     "text": [
      "\n",
      "Filtering entities to have enough reviews...\n",
      "Calculating Yelp Star Rankings... \n",
      "Running on restaurant  XmsBtCykUtObXg4Q1mYpvg ...\n",
      "Number of Reviews left after subset length:  469\n",
      "Extracting entities from each review...\n"
     ]
    },
    {
     "data": {
      "application/vnd.jupyter.widget-view+json": {
       "model_id": "b7c6cb8c40ff44d19b029aeefb032be7",
       "version_major": 2,
       "version_minor": 0
      },
      "text/plain": [
       "HBox(children=(IntProgress(value=0, max=469), HTML(value='')))"
      ]
     },
     "metadata": {},
     "output_type": "display_data"
    },
    {
     "name": "stdout",
     "output_type": "stream",
     "text": [
      "\n",
      "Filtering entities to have enough reviews...\n",
      "Calculating Yelp Star Rankings... \n",
      "Running on restaurant  u-67zd1ImTv3EEr5kIdWrA ...\n",
      "Number of Reviews left after subset length:  502\n",
      "Extracting entities from each review...\n"
     ]
    },
    {
     "data": {
      "application/vnd.jupyter.widget-view+json": {
       "model_id": "7f3cf8fd5e854ecd84a29f7aa7d73992",
       "version_major": 2,
       "version_minor": 0
      },
      "text/plain": [
       "HBox(children=(IntProgress(value=0, max=502), HTML(value='')))"
      ]
     },
     "metadata": {},
     "output_type": "display_data"
    },
    {
     "name": "stdout",
     "output_type": "stream",
     "text": [
      "\n",
      "Filtering entities to have enough reviews...\n",
      "Calculating Yelp Star Rankings... \n",
      "Running on restaurant  5LNZ67Yw9RD6nf4_UhXOjw ...\n",
      "Number of Reviews left after subset length:  730\n",
      "Extracting entities from each review...\n"
     ]
    },
    {
     "data": {
      "application/vnd.jupyter.widget-view+json": {
       "model_id": "c9c613222d5846d0af53755851c4cb58",
       "version_major": 2,
       "version_minor": 0
      },
      "text/plain": [
       "HBox(children=(IntProgress(value=0, max=730), HTML(value='')))"
      ]
     },
     "metadata": {},
     "output_type": "display_data"
    },
    {
     "name": "stdout",
     "output_type": "stream",
     "text": [
      "\n",
      "Filtering entities to have enough reviews...\n",
      "Calculating Yelp Star Rankings... \n",
      "Running on restaurant  RESDUcs7fIiihp38-d6_6g ...\n",
      "Number of Reviews left after subset length:  1613\n",
      "Extracting entities from each review...\n"
     ]
    },
    {
     "data": {
      "application/vnd.jupyter.widget-view+json": {
       "model_id": "fdadcde224934fe6bb496b68a39b63c5",
       "version_major": 2,
       "version_minor": 0
      },
      "text/plain": [
       "HBox(children=(IntProgress(value=0, max=1613), HTML(value='')))"
      ]
     },
     "metadata": {},
     "output_type": "display_data"
    },
    {
     "name": "stdout",
     "output_type": "stream",
     "text": [
      "\n",
      "Filtering entities to have enough reviews...\n",
      "Calculating Yelp Star Rankings... \n",
      "Running on restaurant  YJ8ljUhLsz6CtT_2ORNFmg ...\n",
      "Number of Reviews left after subset length:  704\n",
      "Extracting entities from each review...\n"
     ]
    },
    {
     "data": {
      "application/vnd.jupyter.widget-view+json": {
       "model_id": "c72e7b480ca743568331ad4cfe0d8077",
       "version_major": 2,
       "version_minor": 0
      },
      "text/plain": [
       "HBox(children=(IntProgress(value=0, max=704), HTML(value='')))"
      ]
     },
     "metadata": {},
     "output_type": "display_data"
    },
    {
     "name": "stdout",
     "output_type": "stream",
     "text": [
      "\n",
      "Filtering entities to have enough reviews...\n",
      "Calculating Yelp Star Rankings... \n",
      "Running on restaurant  G-5kEa6E6PD5fkBRuA7k9Q ...\n",
      "Number of Reviews left after subset length:  509\n",
      "Extracting entities from each review...\n"
     ]
    },
    {
     "data": {
      "application/vnd.jupyter.widget-view+json": {
       "model_id": "3f006cdb55d749b5b2acc06c84e9497e",
       "version_major": 2,
       "version_minor": 0
      },
      "text/plain": [
       "HBox(children=(IntProgress(value=0, max=509), HTML(value='')))"
      ]
     },
     "metadata": {},
     "output_type": "display_data"
    },
    {
     "name": "stdout",
     "output_type": "stream",
     "text": [
      "\n",
      "Filtering entities to have enough reviews...\n",
      "Calculating Yelp Star Rankings... \n",
      "\n"
     ]
    }
   ],
   "source": [
    "### get standard deviation of true rankings for each restaurant\n",
    "std_bus = []\n",
    "for bus_id in tqdm(business_ids_similar_stars):\n",
    "    print(\"Running on restaurant \", bus_id, \"...\")\n",
    "    subset = bus[bus.business_id == bus_id]\n",
    "    \n",
    "    # only get reviews with enough amount of text\n",
    "    reviews_subset = [review for review in subset.text if len(review) < 400]\n",
    "\n",
    "    print(\"Number of Reviews left after subset length: \", len(reviews_subset))\n",
    "    \n",
    "    # get set of entities for this particular restaurant,\n",
    "    # and count how many reviews each entity have\n",
    "    entities_with_count = defaultdict(int) \n",
    "    review_entities = [] # extract entities for each review\n",
    "    print(\"Extracting entities from each review...\")\n",
    "    for review in tqdm(reviews_subset):\n",
    "        entities = get_entities(nlp, review)\n",
    "\n",
    "        # add this review as a count to an entity\n",
    "        for ent in entities:\n",
    "            entities_with_count[ent.lower()] += 1\n",
    "\n",
    "        review_entities.append(entities)\n",
    "        \n",
    "    # only grab entities that have enough reviews\n",
    "    print(\"Filtering entities to have enough reviews...\")\n",
    "    entities_with_enough_reviews = []\n",
    "    threshold = 30\n",
    "    for key, value in entities_with_count.items():\n",
    "        if value >= threshold:\n",
    "            entities_with_enough_reviews.append(key)\n",
    "            \n",
    "    # TRUE RANKINGS CALCULATION\n",
    "    # for each entity, average ratings\n",
    "    true_rankings = defaultdict(list)\n",
    "\n",
    "    print(\"Calculating Yelp Star Rankings... \")\n",
    "    for entity in entities_with_enough_reviews:\n",
    "        true_rankings['entity'] += [entity]\n",
    "        entity_reviews = subset[subset.text.str.contains(entity, case=False)]\n",
    "        true_rankings['average_stars'] += [np.mean(entity_reviews.stars)]\n",
    "\n",
    "    true_rankings = pd.DataFrame(true_rankings)\n",
    "    std_bus.append(np.std(true_rankings.average_stars))"
   ]
  },
  {
   "cell_type": "code",
   "execution_count": 41,
   "metadata": {},
   "outputs": [
    {
     "data": {
      "text/plain": [
       "50"
      ]
     },
     "execution_count": 41,
     "metadata": {},
     "output_type": "execute_result"
    }
   ],
   "source": [
    "len(std_bus)"
   ]
  },
  {
   "cell_type": "code",
   "execution_count": 33,
   "metadata": {},
   "outputs": [
    {
     "data": {
      "text/plain": [
       "(array([2., 9., 6., 7., 9., 6., 5., 4., 0., 2.]),\n",
       " array([0.08078064, 0.10159461, 0.12240858, 0.14322254, 0.16403651,\n",
       "        0.18485048, 0.20566444, 0.22647841, 0.24729238, 0.26810635,\n",
       "        0.28892031]),\n",
       " <a list of 10 Patch objects>)"
      ]
     },
     "execution_count": 33,
     "metadata": {},
     "output_type": "execute_result"
    },
    {
     "data": {
      "image/png": "[encoded data removed]",
      "text/plain": [
       "<Figure size 432x288 with 1 Axes>"
      ]
     },
     "metadata": {
      "needs_background": "light"
     },
     "output_type": "display_data"
    }
   ],
   "source": [
    "plt.hist(std_bus)"
   ]
  },
  {
   "cell_type": "code",
   "execution_count": 46,
   "metadata": {},
   "outputs": [],
   "source": [
    "### get a list of booleans (true/false) to filter out scores that aren't high variance\n",
    "boolean = std_bus > np.mean(std_bus) "
   ]
  },
  {
   "cell_type": "code",
   "execution_count": 49,
   "metadata": {},
   "outputs": [
    {
     "data": {
      "text/plain": [
       "0.4977825882059288"
      ]
     },
     "execution_count": 49,
     "metadata": {},
     "output_type": "execute_result"
    }
   ],
   "source": [
    "from itertools import compress\n",
    "np.mean(list(compress(correlation_scores, boolean))) # filter out scores, and take the average\n",
    "# THIS IS THE RESULT FOR HIGH VARIANCE"
   ]
  },
  {
   "cell_type": "markdown",
   "metadata": {},
   "source": [
    "# MISC"
   ]
  },
  {
   "cell_type": "code",
   "execution_count": 39,
   "metadata": {},
   "outputs": [
    {
     "data": {
      "text/plain": [
       "[0.22058823529411767,\n",
       " 0.5177865612648221,\n",
       " 0.06862745098039216,\n",
       " 0.5211822660098521,\n",
       " 0.3571428571428571,\n",
       " 0.6377430061640588,\n",
       " 0.010837438423645318,\n",
       " 0.9285714285714288,\n",
       " 0.03921568627450981,\n",
       " 0.487012987012987,\n",
       " 0.5090909090909091,\n",
       " 0.6043956043956044,\n",
       " 0.6606060606060605,\n",
       " 0.4769230769230769,\n",
       " 0.7714285714285712,\n",
       " 0.4842105263157894,\n",
       " 0.7411764705882353,\n",
       " 0.6778640989167305,\n",
       " 0.4088235294117647,\n",
       " 0.5524475524475525,\n",
       " 0.04761904761904763,\n",
       " 0.6800825593395253,\n",
       " 0.4761904761904762,\n",
       " 0.41208791208791207,\n",
       " 0.6090909090909091,\n",
       " 0.4559386973180077,\n",
       " 0.5637254901960785,\n",
       " 0.2175438596491228,\n",
       " 0.15384615384615385,\n",
       " 0.6869230769230769,\n",
       " 0.39999999999999997,\n",
       " -0.12967032967032965,\n",
       " 0.49019607843137264,\n",
       " 0.6166666666666666,\n",
       " 0.26169786096256686,\n",
       " 0.532967032967033,\n",
       " 0.35664335664335667,\n",
       " 0.2937755102040816,\n",
       " 0.9333333333333332,\n",
       " 0.6666666666666669,\n",
       " 0.6573426573426573,\n",
       " 0.6142857142857142,\n",
       " -0.03636363636363637,\n",
       " 0.6223776223776225,\n",
       " 0.5560439560439561,\n",
       " 0.7500000000000002,\n",
       " 0.39999999999999997,\n",
       " 0.2311688311688312,\n",
       " 0.531338226990401,\n",
       " 0.04175824175824176]"
      ]
     },
     "execution_count": 39,
     "metadata": {},
     "output_type": "execute_result"
    }
   ],
   "source": [
    "correlation_scores # get final scores"
   ]
  },
  {
   "cell_type": "code",
   "execution_count": 26,
   "metadata": {},
   "outputs": [
    {
     "name": "stdout",
     "output_type": "stream",
     "text": [
      "0.0\n",
      "0.0\n",
      "0.0\n",
      "0.0\n",
      "0.0\n",
      "0.0\n",
      "0.0\n",
      "0.0\n",
      "0.0\n",
      "0.0\n",
      "0.0\n",
      "0.0\n",
      "0.0\n",
      "0.0\n"
     ]
    }
   ],
   "source": [
    "for stars in full_rankings.average_stars:\n",
    "    print(np.std(stars))"
   ]
  },
  {
   "cell_type": "code",
   "execution_count": 24,
   "metadata": {},
   "outputs": [
    {
     "data": {
      "text/plain": [
       "\"Vegas Fries - Bomb  \\nWings - chewy & overcooked; not very flavorful \\nBacon Mac n Cheese Burger - too much going on that I couldn't even taste the Mac n Cheese\""
      ]
     },
     "execution_count": 24,
     "metadata": {},
     "output_type": "execute_result"
    }
   ],
   "source": [
    "reviews_subset[1023]"
   ]
  },
  {
   "cell_type": "code",
   "execution_count": 25,
   "metadata": {},
   "outputs": [
    {
     "data": {
      "text/plain": [
       "[('taste', -0.4939)]"
      ]
     },
     "execution_count": 25,
     "metadata": {},
     "output_type": "execute_result"
    }
   ],
   "source": [
    "gen_sentiment(review, entities, parser = parser, sentiment_package='vader', rule=rule)"
   ]
  },
  {
   "cell_type": "code",
   "execution_count": 29,
   "metadata": {},
   "outputs": [
    {
     "data": {
      "text/plain": [
       "[0.22058823529411767,\n",
       " 0.5177865612648221,\n",
       " 0.06862745098039216,\n",
       " 0.5211822660098521,\n",
       " 0.3571428571428571,\n",
       " 0.6377430061640588,\n",
       " 0.010837438423645318,\n",
       " 0.9285714285714288,\n",
       " 0.03921568627450981,\n",
       " 0.487012987012987,\n",
       " 0.5090909090909091,\n",
       " 0.6043956043956044,\n",
       " 0.6606060606060605,\n",
       " 0.4769230769230769,\n",
       " 0.7714285714285712,\n",
       " 0.4842105263157894,\n",
       " 0.7411764705882353,\n",
       " 0.6778640989167305,\n",
       " 0.4088235294117647,\n",
       " 0.5524475524475525,\n",
       " 0.04761904761904763,\n",
       " 0.6800825593395253,\n",
       " 0.4761904761904762,\n",
       " 0.41208791208791207,\n",
       " 0.6090909090909091,\n",
       " 0.4559386973180077,\n",
       " 0.5637254901960785,\n",
       " 0.2175438596491228,\n",
       " 0.15384615384615385,\n",
       " 0.6869230769230769,\n",
       " 0.39999999999999997,\n",
       " -0.12967032967032965,\n",
       " 0.49019607843137264,\n",
       " 0.6166666666666666,\n",
       " 0.26169786096256686,\n",
       " 0.532967032967033,\n",
       " 0.35664335664335667,\n",
       " 0.2937755102040816,\n",
       " 0.9333333333333332,\n",
       " 0.6666666666666669,\n",
       " 0.6573426573426573,\n",
       " 0.6142857142857142,\n",
       " -0.03636363636363637,\n",
       " 0.6223776223776225,\n",
       " 0.5560439560439561,\n",
       " 0.7500000000000002,\n",
       " 0.39999999999999997,\n",
       " 0.2311688311688312,\n",
       " 0.531338226990401,\n",
       " 0.04175824175824176]"
      ]
     },
     "execution_count": 29,
     "metadata": {},
     "output_type": "execute_result"
    }
   ],
   "source": [
    "correlation_scores"
   ]
  },
  {
   "cell_type": "code",
   "execution_count": 27,
   "metadata": {},
   "outputs": [
    {
     "name": "stdout",
     "output_type": "stream",
     "text": [
      "Final Correlation Score:  0.31726939016412703\n"
     ]
    }
   ],
   "source": [
    "print(\"Final Correlation Score: \", np.mean(correlation_scores))"
   ]
  },
  {
   "cell_type": "code",
   "execution_count": 30,
   "metadata": {},
   "outputs": [],
   "source": [
    "x = [0.684,\n",
    "0.145,\n",
    "0.467,\n",
    "0.392,\n",
    "0.225,\n",
    "-0.203,\n",
    "0.2,\n",
    "0.0198,\n",
    "]"
   ]
  },
  {
   "cell_type": "code",
   "execution_count": 31,
   "metadata": {},
   "outputs": [
    {
     "data": {
      "text/plain": [
       "0.24122500000000002"
      ]
     },
     "execution_count": 31,
     "metadata": {},
     "output_type": "execute_result"
    }
   ],
   "source": [
    "np.mean(x)"
   ]
  },
  {
   "cell_type": "code",
   "execution_count": null,
   "metadata": {},
   "outputs": [],
   "source": []
  }
 ],
 "metadata": {
  "kernelspec": {
   "display_name": "Python 3",
   "language": "python",
   "name": "python3"
  },
  "language_info": {
   "codemirror_mode": {
    "name": "ipython",
    "version": 3
   },
   "file_extension": ".py",
   "mimetype": "text/x-python",
   "name": "python",
   "nbconvert_exporter": "python",
   "pygments_lexer": "ipython3",
   "version": "3.7.4"
  }
 },
 "nbformat": 4,
 "nbformat_minor": 2
}
