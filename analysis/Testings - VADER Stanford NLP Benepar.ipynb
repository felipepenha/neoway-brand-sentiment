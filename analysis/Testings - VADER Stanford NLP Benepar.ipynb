{
 "cells": [
  {
   "cell_type": "code",
   "execution_count": 2,
   "metadata": {},
   "outputs": [],
   "source": [
    "import numpy as np\n",
    "import os\n",
    "import matplotlib.pyplot as plt\n",
    "import pandas as pd\n",
    "import nltk"
   ]
  },
  {
   "cell_type": "code",
   "execution_count": 3,
   "metadata": {},
   "outputs": [],
   "source": [
    "# VADER\n",
    "\n",
    "from vaderSentiment.vaderSentiment import SentimentIntensityAnalyzer\n",
    "analyser = SentimentIntensityAnalyzer()\n",
    "\n",
    "def sentiment_analyzer_scores(sentence):\n",
    "    score = analyser.polarity_scores(sentence)\n",
    "    print(\"{:-<40} {}\".format(sentence, str(score)))"
   ]
  },
  {
   "cell_type": "code",
   "execution_count": 4,
   "metadata": {},
   "outputs": [
    {
     "data": {
      "text/plain": [
       "0.4588"
      ]
     },
     "execution_count": 4,
     "metadata": {},
     "output_type": "execute_result"
    }
   ],
   "source": [
    "review1 = \"Ordered java chip frappucinno and it was too sweet\"\n",
    "\n",
    "analyser.polarity_scores(review1)['compound']"
   ]
  },
  {
   "cell_type": "code",
   "execution_count": 5,
   "metadata": {},
   "outputs": [
    {
     "name": "stdout",
     "output_type": "stream",
     "text": [
      "0: 'Ordered java chip frappucinno and it was too sweet': [0.1145625566855, 0.54292356251729, 0.22511476116278, 0.08501391980411, 0.03238519983033] Negative\n"
     ]
    }
   ],
   "source": [
    "#Stanford NLP Sentiment\n",
    "\n",
    "from pycorenlp import StanfordCoreNLP\n",
    "nlp = StanfordCoreNLP('http://localhost:9000')\n",
    "res = nlp.annotate(review1,\n",
    "                   properties={\n",
    "                       'annotators': 'sentiment',\n",
    "                       'outputFormat': 'json'\n",
    "                   })\n",
    "for s in res[\"sentences\"]:\n",
    "    print(\"%d: '%s': %s %s\" % (\n",
    "        s[\"index\"],\n",
    "        \" \".join([t[\"word\"] for t in s[\"tokens\"]]),\n",
    "        s[\"sentimentDistribution\"], s[\"sentiment\"]))"
   ]
  },
  {
   "cell_type": "code",
   "execution_count": null,
   "metadata": {},
   "outputs": [],
   "source": []
  },
  {
   "cell_type": "code",
   "execution_count": 6,
   "metadata": {},
   "outputs": [
    {
     "name": "stdout",
     "output_type": "stream",
     "text": [
      "Overall:\n",
      " Steak sandwich was delicious.the Caesar salad had an absolutely delicious dressing, with a perfect amount of dressing, and distributed perfectly across each leaf.\n",
      "\n",
      "Sentiment: Verypositive\n",
      "Probability Distribution:\n",
      "Very Negative,\t   Negative,\t     Neutral,\t       Positive,\t Very Positive\n",
      "[0.0061021498739, 0.00778537690842, 0.10253026211897, 0.42187180321409, 0.46171040788462]\n",
      "\n",
      "Sentence1:\n",
      " Steak sandwich was delicious.\n",
      "\n",
      "Sentiment: Positive\n",
      "Probability Distribution:\n",
      "Very Negative,\t   Negative,\t     Neutral,\t       Positive,\t Very Positive\n",
      "[0.02537623043181, 0.0605944895721, 0.1309570172712, 0.56822740801947, 0.21484485470542]\n",
      "\n",
      "Sentence2:\n",
      " the Caesar salad had an absolutely delicious dressing, with a perfect amount of dressing, and distributed perfectly across each leaf.\n",
      "\n",
      "Sentiment: Positive\n",
      "Probability Distribution:\n",
      "Very Negative,\t   Negative,\t     Neutral,\t       Positive,\t Very Positive\n",
      "[0.00093343290854, 0.00080185991799, 0.00841579565213, 0.58314508653382, 0.40670382498752]\n"
     ]
    }
   ],
   "source": [
    "#Mass production  - sNLP\n",
    "\n",
    "text = \"Steak sandwich was delicious.the Caesar salad had an absolutely delicious dressing, with a perfect amount of dressing, and distributed perfectly across each leaf.\"\n",
    "print(\"Overall:\\n\",text)\n",
    "res = nlp.annotate(text,\n",
    "                   properties={\n",
    "                       'annotators': 'sentiment',\n",
    "                       'outputFormat': 'json'\n",
    "                   })\n",
    "print(\"\\nSentiment:\",res['sentences'][0]['sentiment'])\n",
    "print(\"Probability Distribution:\")\n",
    "print(\"Very Negative,\\t   Negative,\\t     Neutral,\\t       Positive,\\t Very Positive\")\n",
    "text = \"Steak sandwich was delicious.\"\n",
    "print(res['sentences'][0]['sentimentDistribution'])\n",
    "print(\"\\nSentence1:\\n\",text)\n",
    "res = nlp.annotate(text,\n",
    "                   properties={\n",
    "                       'annotators': 'sentiment',\n",
    "                       'outputFormat': 'json'\n",
    "                   })\n",
    "print(\"\\nSentiment:\",res['sentences'][0]['sentiment'])\n",
    "print(\"Probability Distribution:\")\n",
    "print(\"Very Negative,\\t   Negative,\\t     Neutral,\\t       Positive,\\t Very Positive\")\n",
    "print(res['sentences'][0]['sentimentDistribution'])\n",
    "text = \"the Caesar salad had an absolutely delicious dressing, with a perfect amount of dressing, and distributed perfectly across each leaf.\"\n",
    "print(\"\\nSentence2:\\n\",text)\n",
    "res = nlp.annotate(text,\n",
    "                   properties={\n",
    "                       'annotators': 'sentiment',\n",
    "                       'outputFormat': 'json'\n",
    "                   })\n",
    "print(\"\\nSentiment:\",res['sentences'][0]['sentiment'])\n",
    "print(\"Probability Distribution:\")\n",
    "print(\"Very Negative,\\t   Negative,\\t     Neutral,\\t       Positive,\\t Very Positive\")\n",
    "print(res['sentences'][0]['sentimentDistribution'])"
   ]
  },
  {
   "cell_type": "code",
   "execution_count": null,
   "metadata": {},
   "outputs": [],
   "source": []
  },
  {
   "cell_type": "code",
   "execution_count": 8,
   "metadata": {},
   "outputs": [],
   "source": [
    "#Spacy\n",
    "\n",
    "import spacy\n",
    "from spacy import displacy\n",
    "from collections import Counter\n",
    "import en_core_web_sm\n",
    "named_entity_recognizer = en_core_web_sm.load()"
   ]
  },
  {
   "cell_type": "code",
   "execution_count": 9,
   "metadata": {},
   "outputs": [
    {
     "name": "stdout",
     "output_type": "stream",
     "text": [
      "[('101', 'CARDINAL')]\n"
     ]
    }
   ],
   "source": [
    "doc = named_entity_recognizer('I went to bar 101 and ordered bud light.')\n",
    "print([(X.text, X.label_) for X in doc.ents])"
   ]
  },
  {
   "cell_type": "code",
   "execution_count": null,
   "metadata": {},
   "outputs": [],
   "source": []
  },
  {
   "cell_type": "code",
   "execution_count": 12,
   "metadata": {},
   "outputs": [
    {
     "name": "stderr",
     "output_type": "stream",
     "text": [
      "[nltk_data] Downloading package benepar_en2 to\n",
      "[nltk_data]     /Users/nicowinata/nltk_data...\n",
      "[nltk_data]   Package benepar_en2 is already up-to-date!\n"
     ]
    }
   ],
   "source": [
    "#Benepar\n",
    "\n",
    "import benepar\n",
    "benepar.download(\"benepar_en2\")\n",
    "parser = benepar.Parser(\"benepar_en2\")"
   ]
  },
  {
   "cell_type": "code",
   "execution_count": 14,
   "metadata": {},
   "outputs": [
    {
     "data": {
      "image/png": "[encoded data removed]",
      "text/plain": [
       "Tree('S', [Tree('S', [Tree('VP', [Tree('VBN', ['Ordered']), Tree('NP', [Tree('NNP', ['java']), Tree('NNP', ['chip']), Tree('NNP', ['frappucinno'])])])]), Tree('CC', ['and']), Tree('S', [Tree('NP', [Tree('PRP', ['it'])]), Tree('VP', [Tree('VBD', ['was']), Tree('ADJP', [Tree('RB', ['too']), Tree('JJ', ['sweet'])])])])])"
      ]
     },
     "execution_count": 14,
     "metadata": {},
     "output_type": "execute_result"
    }
   ],
   "source": [
    "u = parser.parse(review1)\n",
    "u"
   ]
  },
  {
   "cell_type": "code",
   "execution_count": null,
   "metadata": {},
   "outputs": [],
   "source": [
    "#sNLP Parser"
   ]
  },
  {
   "cell_type": "code",
   "execution_count": null,
   "metadata": {},
   "outputs": [],
   "source": []
  },
  {
   "cell_type": "code",
   "execution_count": null,
   "metadata": {},
   "outputs": [],
   "source": []
  },
  {
   "cell_type": "code",
   "execution_count": 10,
   "metadata": {},
   "outputs": [],
   "source": [
    "#Textblob\n",
    "\n",
    "import textblob\n",
    "from textblob import TextBlob"
   ]
  },
  {
   "cell_type": "code",
   "execution_count": 11,
   "metadata": {},
   "outputs": [
    {
     "data": {
      "text/plain": [
       "Sentiment(polarity=0.2583333333333333, subjectivity=0.7666666666666666)"
      ]
     },
     "execution_count": 11,
     "metadata": {},
     "output_type": "execute_result"
    }
   ],
   "source": [
    "text = TextBlob(\"Wondee Siam is extremely good! But it serves Bud Light which is a mediocre beer.\")\n",
    "text.sentiment"
   ]
  },
  {
   "cell_type": "code",
   "execution_count": null,
   "metadata": {},
   "outputs": [],
   "source": []
  }
 ],
 "metadata": {
  "kernelspec": {
   "display_name": "Python 3",
   "language": "python",
   "name": "python3"
  },
  "language_info": {
   "codemirror_mode": {
    "name": "ipython",
    "version": 3
   },
   "file_extension": ".py",
   "mimetype": "text/x-python",
   "name": "python",
   "nbconvert_exporter": "python",
   "pygments_lexer": "ipython3",
   "version": "3.7.1"
  }
 },
 "nbformat": 4,
 "nbformat_minor": 2
}
