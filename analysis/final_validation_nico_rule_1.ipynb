{
 "cells": [
  {
   "cell_type": "code",
   "execution_count": 1,
   "metadata": {},
   "outputs": [],
   "source": [
    "# example string to do mini tests on\n",
    "example = \"I just EASILY had the BEST lunch I've ever eaten!  It was THAT good!\\n\\nThe chicken tortilla soup was out of this world...light and delicate...fresh and HOT!!!\\nI had two fish tacos with no tortilla.  One was a regular fish taco and the other was a beer battered fish taco.l\\n\\nThe fire roasted salsa was EASILY the best salsa I have ever had, too!\\n\\nThis place is a serious gem!  I could go there every single day!\\n\\nThanks guys!!\""
   ]
  },
  {
   "cell_type": "markdown",
   "metadata": {},
   "source": [
    "# Import Benepar\n"
   ]
  },
  {
   "cell_type": "code",
   "execution_count": 2,
   "metadata": {},
   "outputs": [
    {
     "name": "stderr",
     "output_type": "stream",
     "text": [
      "/usr/local/lib/python3.7/site-packages/tensorflow/python/framework/dtypes.py:516: FutureWarning: Passing (type, 1) or '1type' as a synonym of type is deprecated; in a future version of numpy, it will be understood as (type, (1,)) / '(1,)type'.\n",
      "  _np_qint8 = np.dtype([(\"qint8\", np.int8, 1)])\n",
      "/usr/local/lib/python3.7/site-packages/tensorflow/python/framework/dtypes.py:517: FutureWarning: Passing (type, 1) or '1type' as a synonym of type is deprecated; in a future version of numpy, it will be understood as (type, (1,)) / '(1,)type'.\n",
      "  _np_quint8 = np.dtype([(\"quint8\", np.uint8, 1)])\n",
      "/usr/local/lib/python3.7/site-packages/tensorflow/python/framework/dtypes.py:518: FutureWarning: Passing (type, 1) or '1type' as a synonym of type is deprecated; in a future version of numpy, it will be understood as (type, (1,)) / '(1,)type'.\n",
      "  _np_qint16 = np.dtype([(\"qint16\", np.int16, 1)])\n",
      "/usr/local/lib/python3.7/site-packages/tensorflow/python/framework/dtypes.py:519: FutureWarning: Passing (type, 1) or '1type' as a synonym of type is deprecated; in a future version of numpy, it will be understood as (type, (1,)) / '(1,)type'.\n",
      "  _np_quint16 = np.dtype([(\"quint16\", np.uint16, 1)])\n",
      "/usr/local/lib/python3.7/site-packages/tensorflow/python/framework/dtypes.py:520: FutureWarning: Passing (type, 1) or '1type' as a synonym of type is deprecated; in a future version of numpy, it will be understood as (type, (1,)) / '(1,)type'.\n",
      "  _np_qint32 = np.dtype([(\"qint32\", np.int32, 1)])\n",
      "/usr/local/lib/python3.7/site-packages/tensorflow/python/framework/dtypes.py:525: FutureWarning: Passing (type, 1) or '1type' as a synonym of type is deprecated; in a future version of numpy, it will be understood as (type, (1,)) / '(1,)type'.\n",
      "  np_resource = np.dtype([(\"resource\", np.ubyte, 1)])\n",
      "/usr/local/lib/python3.7/site-packages/tensorboard/compat/tensorflow_stub/dtypes.py:541: FutureWarning: Passing (type, 1) or '1type' as a synonym of type is deprecated; in a future version of numpy, it will be understood as (type, (1,)) / '(1,)type'.\n",
      "  _np_qint8 = np.dtype([(\"qint8\", np.int8, 1)])\n",
      "/usr/local/lib/python3.7/site-packages/tensorboard/compat/tensorflow_stub/dtypes.py:542: FutureWarning: Passing (type, 1) or '1type' as a synonym of type is deprecated; in a future version of numpy, it will be understood as (type, (1,)) / '(1,)type'.\n",
      "  _np_quint8 = np.dtype([(\"quint8\", np.uint8, 1)])\n",
      "/usr/local/lib/python3.7/site-packages/tensorboard/compat/tensorflow_stub/dtypes.py:543: FutureWarning: Passing (type, 1) or '1type' as a synonym of type is deprecated; in a future version of numpy, it will be understood as (type, (1,)) / '(1,)type'.\n",
      "  _np_qint16 = np.dtype([(\"qint16\", np.int16, 1)])\n",
      "/usr/local/lib/python3.7/site-packages/tensorboard/compat/tensorflow_stub/dtypes.py:544: FutureWarning: Passing (type, 1) or '1type' as a synonym of type is deprecated; in a future version of numpy, it will be understood as (type, (1,)) / '(1,)type'.\n",
      "  _np_quint16 = np.dtype([(\"quint16\", np.uint16, 1)])\n",
      "/usr/local/lib/python3.7/site-packages/tensorboard/compat/tensorflow_stub/dtypes.py:545: FutureWarning: Passing (type, 1) or '1type' as a synonym of type is deprecated; in a future version of numpy, it will be understood as (type, (1,)) / '(1,)type'.\n",
      "  _np_qint32 = np.dtype([(\"qint32\", np.int32, 1)])\n",
      "/usr/local/lib/python3.7/site-packages/tensorboard/compat/tensorflow_stub/dtypes.py:550: FutureWarning: Passing (type, 1) or '1type' as a synonym of type is deprecated; in a future version of numpy, it will be understood as (type, (1,)) / '(1,)type'.\n",
      "  np_resource = np.dtype([(\"resource\", np.ubyte, 1)])\n",
      "[nltk_data] Downloading package benepar_en2 to\n",
      "[nltk_data]     /Users/TimGimi/nltk_data...\n",
      "[nltk_data]   Package benepar_en2 is already up-to-date!\n"
     ]
    },
    {
     "name": "stdout",
     "output_type": "stream",
     "text": [
      "WARNING:tensorflow:From /usr/local/lib/python3.7/site-packages/benepar/base_parser.py:197: The name tf.GraphDef is deprecated. Please use tf.compat.v1.GraphDef instead.\n",
      "\n",
      "WARNING:tensorflow:From /usr/local/lib/python3.7/site-packages/benepar/base_parser.py:202: The name tf.Session is deprecated. Please use tf.compat.v1.Session instead.\n",
      "\n"
     ]
    }
   ],
   "source": [
    "import benepar\n",
    "benepar.download(\"benepar_en2\")\n",
    "parser = benepar.Parser(\"benepar_en2\")"
   ]
  },
  {
   "cell_type": "markdown",
   "metadata": {},
   "source": [
    "# Import StanfordNLP"
   ]
  },
  {
   "cell_type": "markdown",
   "metadata": {},
   "source": [
    "Remember to first instantiate stanfordNLP in java!\n",
    "\n",
    "java command: \n",
    "\n",
    "``\n",
    "java -mx4g -cp \"*\" edu.stanford.nlp.pipeline.StanfordCoreNLPServer -annotators \"tokenize,ssplit,pos,lemma,parse,sentiment\" -sentiment.threads 8 -port 9000 -timeout 30000``\n"
   ]
  },
  {
   "cell_type": "code",
   "execution_count": 3,
   "metadata": {},
   "outputs": [
    {
     "name": "stdout",
     "output_type": "stream",
     "text": [
      "Parse: (ROOT\n",
      "  (S\n",
      "    (NP (DT A) (NN blog))\n",
      "    (VP (NN post)\n",
      "      (S\n",
      "        (VP (VBG using)\n",
      "          (NP (NNP Stanford) (NNP CoreNLP) (NN Server)))))\n",
      "    (. .)))\n"
     ]
    }
   ],
   "source": [
    "import stanfordnlp\n",
    "from stanfordcorenlp import StanfordCoreNLP\n",
    "import logging\n",
    "import json\n",
    "\n",
    "class StanfordNLP:\n",
    "    def __init__(self, host='http://localhost', port=9000):\n",
    "        self.nlp = StanfordCoreNLP(host, port=port,\n",
    "                                   timeout=30000)  # , quiet=False, logging_level=logging.DEBUG)\n",
    "        self.props = {\n",
    "            'annotators': 'tokenize,ssplit,pos,lemma,ner,parse,depparse,dcoref,relation',\n",
    "            'pipelineLanguage': 'en',\n",
    "            'outputFormat': 'json'\n",
    "        }\n",
    "\n",
    "    def word_tokenize(self, sentence):\n",
    "        return self.nlp.word_tokenize(sentence)\n",
    "\n",
    "    def pos(self, sentence):\n",
    "        return self.nlp.pos_tag(sentence)\n",
    "\n",
    "    def ner(self, sentence):\n",
    "        return self.nlp.ner(sentence)\n",
    "\n",
    "    def parse(self, sentence):\n",
    "        return self.nlp.parse(sentence)\n",
    "\n",
    "    def dependency_parse(self, sentence):\n",
    "        return self.nlp.dependency_parse(sentence)\n",
    "\n",
    "    def annotate(self, sentence):\n",
    "        return json.loads(self.nlp.annotate(sentence, properties=self.props))\n",
    "\n",
    "    @staticmethod\n",
    "    def tokens_to_dict(_tokens):\n",
    "        tokens = defaultdict(dict)\n",
    "        for token in _tokens:\n",
    "            tokens[int(token['index'])] = {\n",
    "                'word': token['word'],\n",
    "                'lemma': token['lemma'],\n",
    "                'pos': token['pos'],\n",
    "                'ner': token['ner']\n",
    "            }\n",
    "        return tokens\n",
    "\n",
    "    \n",
    "\n",
    "sNLP = StanfordNLP()\n",
    "text = 'A blog post using Stanford CoreNLP Server. Visit www.khalidalnajjar.com for more details.'\n",
    "print(\"Parse:\", sNLP.parse(text))"
   ]
  },
  {
   "cell_type": "markdown",
   "metadata": {},
   "source": [
    "# Import Entity Recognition Model"
   ]
  },
  {
   "cell_type": "code",
   "execution_count": 6,
   "metadata": {},
   "outputs": [],
   "source": [
    "import spacy\n",
    "\n",
    "model_dir = \"./models\"\n",
    "nlp = spacy.load(model_dir)"
   ]
  },
  {
   "cell_type": "code",
   "execution_count": 7,
   "metadata": {},
   "outputs": [],
   "source": [
    "def get_entities(nlp_model, text):\n",
    "    \"\"\"\n",
    "    Input nlp_model and text, retrieve a list of unique entities from the text.\n",
    "    \"\"\"\n",
    "    doc = nlp_model(text)\n",
    "    entities = set()\n",
    "    for ent in doc.ents:\n",
    "        if ent.label_ == \"PRODUCT\":\n",
    "            entities.add(ent.text)\n",
    "    return list(entities)"
   ]
  },
  {
   "cell_type": "code",
   "execution_count": 8,
   "metadata": {},
   "outputs": [
    {
     "data": {
      "text/plain": [
       "['soup',\n",
       " 'chicken',\n",
       " 'fish',\n",
       " 'taco',\n",
       " 'place',\n",
       " 'lunch',\n",
       " 'gem',\n",
       " 'beer',\n",
       " 'tortilla',\n",
       " 'salsa']"
      ]
     },
     "execution_count": 8,
     "metadata": {},
     "output_type": "execute_result"
    }
   ],
   "source": [
    "example_entity_list = get_entities(nlp, example)\n",
    "example_entity_list"
   ]
  },
  {
   "cell_type": "code",
   "execution_count": 9,
   "metadata": {},
   "outputs": [],
   "source": [
    "#quick fix\n",
    "#example_entity_list = ['chicken tortilla soup', 'fish tacos', 'tortilla', 'beer battered fish taco', 'fire roasted salasa', 'place']"
   ]
  },
  {
   "cell_type": "code",
   "execution_count": 10,
   "metadata": {},
   "outputs": [
    {
     "data": {
      "text/plain": [
       "\"I just EASILY had the BEST lunch I've ever eaten!  It was THAT good!\\n\\nThe chicken tortilla soup was out of this world...light and delicate...fresh and HOT!!!\\nI had two fish tacos with no tortilla.  One was a regular fish taco and the other was a beer battered fish taco.l\\n\\nThe fire roasted salsa was EASILY the best salsa I have ever had, too!\\n\\nThis place is a serious gem!  I could go there every single day!\\n\\nThanks guys!!\""
      ]
     },
     "execution_count": 10,
     "metadata": {},
     "output_type": "execute_result"
    }
   ],
   "source": [
    "example"
   ]
  },
  {
   "cell_type": "markdown",
   "metadata": {},
   "source": [
    "# Sentiment Helper Code"
   ]
  },
  {
   "cell_type": "code",
   "execution_count": 11,
   "metadata": {},
   "outputs": [],
   "source": [
    "import collections\n",
    "import re\n",
    "\n",
    "def remove_nestings(lst): \n",
    "    output = []\n",
    "    \n",
    "    def remove_nestings_recursive(l):\n",
    "        for i in l: \n",
    "            if type(i) == list: \n",
    "                remove_nestings_recursive(i) \n",
    "            else: \n",
    "                output.append(i)\n",
    "    \n",
    "    remove_nestings_recursive(lst)\n",
    "    \n",
    "    return output\n",
    "\n",
    "def continue_splitting(review,list_of_dividers):\n",
    "        \n",
    "    temp = list_of_dividers.copy()\n",
    "    l = [review]\n",
    "    while len(temp) > 0:\n",
    "        divider = temp.pop(0)\n",
    "        l_new = []\n",
    "        for i in l:\n",
    "            l_new += i.split(divider)\n",
    "        l = l_new\n",
    "    return l\n",
    "\n",
    "def join_clause(review, list_of_split_clauses, list_of_dividers):\n",
    "    output = []\n",
    "    loc_of_split_clauses = []\n",
    "    for clause in list_of_split_clauses:\n",
    "        loc_of_split_clauses.append(review.find(clause))\n",
    "    for divider in list_of_dividers:\n",
    "        print(divider)\n",
    "        loc_div = review.find(divider)\n",
    "        print(loc_div)\n",
    "        for i in range(len(loc_of_split_clauses)):\n",
    "            if loc_div > loc_of_split_clauses[i]:\n",
    "                print(loc_div,loc_of_split_clauses[i])\n",
    "                \n",
    "def join_partitions(long_review,entity_with_review):\n",
    "    loclist = []\n",
    "    for (_, clause) in entity_with_review:\n",
    "        loclist.append((long_review.find(clause),long_review.find(clause)+len(clause)))\n",
    "    starts = {i for (i,j) in loclist}\n",
    "    ends = {j for (i,j) in loclist}\n",
    "    starts.add(len(long_review))\n",
    "    newends = {}\n",
    "    for i in ends:\n",
    "        newends[i] = min([x for x in starts if x >= i])\n",
    "    for i in newends:\n",
    "        pass\n",
    "    new_entity_with_review = []\n",
    "    for i in range(len(loclist)):\n",
    "        tup = loclist[i]\n",
    "        entity = entity_with_review[i][0]\n",
    "        st = tup[0]\n",
    "        en = newends[tup[1]]\n",
    "        new_entity_with_review.append((entity,long_review[st:en]))\n",
    "    return new_entity_with_review\n",
    "\n",
    "def split_long_string(review):\n",
    "    num = len(review)\n",
    "    split_list = []\n",
    "    start = 0\n",
    "    end = 0\n",
    "    while num != end:\n",
    "        if num - end < 1000:\n",
    "            end = num\n",
    "            split_list.append(review[start:end])\n",
    "        else:\n",
    "            end = review[start:(start+1000)].rfind('.')\n",
    "            if end == -1:\n",
    "                end = review[start:(start+1000)].rfind(' ') #if no '.', space will do\n",
    "                if end == -1:\n",
    "                    end = min(start + 1000,num)\n",
    "            split_list.append(review[start:end])\n",
    "            start = end\n",
    "    print(start,end)\n",
    "    return(split_list)\n",
    "\n",
    "def split_review_naive(review,entities):\n",
    "    clauses = re.split('[.?!]',review)\n",
    "    lenlist = [len(x) for x in clauses]\n",
    "    clauses = [x for _, x in sorted(zip(lenlist,clauses),reverse=False)]\n",
    "    entity_with_clause = []\n",
    "    for entity in entities:\n",
    "        for clause in clauses:\n",
    "            if entity in clause:\n",
    "                entity_with_clause.append((entity,clause))\n",
    "                break\n",
    "    return(join_partitions(review,entity_with_clause))\n",
    "\n",
    "def min_tree(review, entitiess, parser, output = 'minimum'):\n",
    "    \n",
    "    #review is string, entities is list of strings, parser is parser object\n",
    "    # TODO: How well are each review punctuatd and so forth EDA\n",
    "    if output == 'partition':\n",
    "        full_review = ''\n",
    "        \n",
    "    treelist = []\n",
    "    lenlist = []\n",
    "    temp = review.split('\\n')\n",
    "    \n",
    "    if output == 'no_parse':\n",
    "        return(split_review_naive(review,entities))\n",
    "    \n",
    "    if len(review) > 1000:\n",
    "        split_reviews = split_long_string(review)\n",
    "    else:\n",
    "        split_reviews = [i for i in temp if len(i) > 1 and len(i) <= 1000 ]\n",
    "    \n",
    "    for rev in split_reviews:\n",
    "        if rev and rev.strip():\n",
    "            u = parser.parse(rev) # tree \n",
    "\n",
    "            if type(u) == str:\n",
    "                u = nltk.Tree.fromstring(u)\n",
    "\n",
    "            for s in u.subtrees(): # subtrees \n",
    "                if s.label() == 'S': # if sentence\n",
    "                    treelist += [s]\n",
    "                    lenlist += [len(s.leaves())] # how long clause\n",
    "                        \n",
    "            if output == 'partition':\n",
    "                full_review += ' '.join(u.leaves())\n",
    "\n",
    "    treelist = [x for _, x in sorted(zip(lenlist,treelist),reverse=False)] # sort by lenlisit\n",
    "    clauses = [' '.join(tree.leaves()) for tree in treelist]\n",
    "    if not clauses:\n",
    "        clauses.append(review)\n",
    "    entity_with_clause = []\n",
    "    \n",
    "    if output == 'all':\n",
    "        for entity in entities:\n",
    "            clauselist = []\n",
    "            for clause in clauses:\n",
    "                if entity in clause:\n",
    "                    clauselist.append(clause)\n",
    "            entity_with_clause.append((entity,clauselist))\n",
    "    \n",
    "    #TODO: create rules and test them\n",
    "    elif output == 'minimum':\n",
    "        for entity in entities:\n",
    "            for clause in clauses:\n",
    "                if entity in clause:\n",
    "                    entity_with_clause.append((entity,clause))\n",
    "                    break\n",
    "                    \n",
    "    elif output == 'partition':\n",
    "        #first find minimal clause\n",
    "        for entity in entities:\n",
    "            for clause in clauses:\n",
    "                if entity in clause:\n",
    "                    entity_with_clause.append((entity,clause))\n",
    "                    break\n",
    "        #get location of minimal clause in review\n",
    "        \n",
    "        \n",
    "        entity_with_clause = join_partitions(full_review,entity_with_clause)\n",
    "    \n",
    "    return entity_with_clause"
   ]
  },
  {
   "cell_type": "markdown",
   "metadata": {},
   "source": [
    "# Code to Perform Sentiment Analysis"
   ]
  },
  {
   "cell_type": "code",
   "execution_count": 19,
   "metadata": {},
   "outputs": [],
   "source": [
    "#STANFORD NLP\n",
    "import numpy as np\n",
    "from pycorenlp import StanfordCoreNLP\n",
    "def stanford_sentiment_start():\n",
    "    nlp = StanfordCoreNLP('http://localhost:9000')\n",
    "    return nlp\n",
    "\n",
    "def stanford_sentiment(entity_with_clause):\n",
    "    nlp = stanford_sentiment_start()\n",
    "    entity_with_sentiment = []\n",
    "    for entity, clause in entity_with_clause:\n",
    "        result = nlp.annotate(clause,\n",
    "                   properties={\n",
    "                       'annotators': 'sentiment',\n",
    "                       'outputFormat': 'json'\n",
    "                   })\n",
    "        sentiment = np.dot(result['sentences'][0]['sentimentDistribution'], [-2, -1, 0, 1, 2])\n",
    "        entity_with_sentiment.append((entity, sentiment))\n",
    "    return entity_with_sentiment\n",
    "\n",
    "#VADER\n",
    "from vaderSentiment.vaderSentiment import SentimentIntensityAnalyzer\n",
    "def vader_sentiment(entity_with_clause):\n",
    "    analyzer = SentimentIntensityAnalyzer()\n",
    "    entity_with_sentiment = []\n",
    "    for entity, clause in entity_with_clause:\n",
    "        sentiment = analyzer.polarity_scores(clause)['compound']\n",
    "        entity_with_sentiment.append((entity,sentiment))\n",
    "    return(entity_with_sentiment)       "
   ]
  },
  {
   "cell_type": "markdown",
   "metadata": {},
   "source": [
    "# Werk"
   ]
  },
  {
   "cell_type": "code",
   "execution_count": 20,
   "metadata": {},
   "outputs": [],
   "source": [
    "def werk(review, entities, parser = [], sentiment_package = 'vader', parse_package = 'benepar', rule = 'rule_1'):\n",
    "    \n",
    "    #print(\"\\nLoading Parser\")\n",
    "    \n",
    "    #first is the parser\n",
    "    if not parser and parse_package == 'benepar':\n",
    "        parser = benepar.Parser(\"benepar_en2\")\n",
    "    elif not parser and parse_package == 'stanford':\n",
    "        #parser = StanfordNLP('http://localhost')\n",
    "        raise Exception('incorrect parse package')\n",
    "    elif parser:\n",
    "        pass\n",
    "    else:\n",
    "        raise Exception('incorrect parse package')\n",
    "    \n",
    "    #print(\"Parser =\", parse_package)\n",
    "\n",
    "        \n",
    "    #second is the rule\n",
    "    \n",
    "    #print(\"\\nLoading Rule\")\n",
    "    \n",
    "    if rule == 'rule_1':\n",
    "        \n",
    "        #print(\"Rule =\",rule)\n",
    "        \n",
    "        entity_with_review = min_tree(review, entities, parser, output = 'minimum')\n",
    "        \n",
    "        #print(\"\\nTree Generated\")\n",
    "        \n",
    "        entity_with_sentiment = sentiment_analysis(entity_with_review, sentiment_package)\n",
    "        \n",
    "        #print(\"\\nSentiment Generated\")\n",
    "\n",
    "        \n",
    "    elif rule == 'rule_2':\n",
    "        \n",
    "        #print(\"Rule =\",rule)\n",
    "        \n",
    "        entity_with_review = min_tree(review, entities, parser, output = 'all')\n",
    "        \n",
    "        #print(\"\\nTree Generated\")\n",
    "        entity_with_sentiment = []\n",
    "        sentiment = 0\n",
    "        for ent, revlist in entity_with_review:\n",
    "            for clause in revlist:\n",
    "                sentiment = sentiment_analysis_indiv(clause,sentiment_package)\n",
    "                if sentiment_package == 'benepar' and abs(sentiment) != 0:\n",
    "                    break\n",
    "                elif sentiment_package == 'stanford' and abs(sentiment) > 0.5:\n",
    "                    break\n",
    "                    #if sentiment is not neutral, stop. If sentiment is neutral, keep going up tree.\n",
    "            entity_with_sentiment.append((ent,sentiment))\n",
    "        #print(\"\\nSentiment Generated\")        \n",
    "        \n",
    "    elif rule == 'rule_3':\n",
    "        \n",
    "        #print(\"Rule =\",rule)\n",
    "        \n",
    "        entity_with_review = min_tree(review, entities, parser, output = 'all')\n",
    "        \n",
    "        #print(\"\\nTree Generated\")\n",
    "        \n",
    "        entity_with_sentiment = []\n",
    "        for ent, revlist in entity_with_review:\n",
    "            sentiment_list = []\n",
    "            for clause in revlist:\n",
    "                sentiment = sentiment_analysis_indiv(clause,sentiment_package)\n",
    "                sentiment_list.append(sentiment)\n",
    "            entity_with_sentiment.append((ent,np.mean(sentiment_list)))\n",
    "            \n",
    "        #print(\"\\nSentiment Generated\") \n",
    "        \n",
    "    elif rule == 'rule_4':\n",
    "        \n",
    "        #print(\"Rule =\",rule)\n",
    "        \n",
    "        entity_with_review = min_tree(review, entities, parser, output = 'partition')\n",
    "        #print(\"\\nTree Generated\")\n",
    "        \n",
    "        entity_with_sentiment = sentiment_analysis(entity_with_review, sentiment_package)\n",
    "        \n",
    "        #print(\"\\nSentiment Generated\")\n",
    "        \n",
    "    elif rule == 'rule_5':\n",
    "        \n",
    "        #print(\"Rule =\",rule)\n",
    "        \n",
    "        entity_with_review = min_tree(review, entities, parser, output = 'minimum')\n",
    "        entity_with_review_p = min_tree(review, entities, parser, output = 'partition')\n",
    "        #print(\"\\nTree Generated\")\n",
    "        \n",
    "        entity_with_sentiment = sentiment_analysis(entity_with_review, sentiment_package)\n",
    "        for i in range(len(entity_with_sentiment)):\n",
    "            sent = entity_with_sentiment[i][1]\n",
    "            if sentiment_package == 'vader' and sent != 0:\n",
    "                entity_with_sentiment[i] = (entity_with_sentiment[i][0],sentiment_analysis_indiv(entity_with_review_p[i][1],sentiment_package))\n",
    "            elif sentiment_package == 'stanford' and abs(sent) > 0.5:\n",
    "                entity_with_sentiment[i] = (entity_with_sentiment[i][0],sentiment_analysis_indiv(entity_with_review_p[i][1],sentiment_package))\n",
    "    \n",
    "    elif rule == 'rule_6':\n",
    "        \n",
    "        entity_with_review = min_tree(review, entities, parser, output = 'no_parse')\n",
    "        entity_with_sentiment = sentiment_analysis(entity_with_review, sentiment_package)\n",
    "        \n",
    "        #print(\"\\nSentiment Generated\")\n",
    "    \n",
    "    else:\n",
    "        raise Exception('incorrect rule')\n",
    "    \n",
    "    return(entity_with_sentiment)\n",
    "    \n",
    "def sentiment_analysis(entity_with_review, sentiment_package = 'stanford'):\n",
    "    #takes in list of tuples\n",
    "    if sentiment_package == 'stanford':\n",
    "        return stanford_sentiment(entity_with_review)\n",
    "    elif sentiment_package == 'vader':\n",
    "        return vader_sentiment(entity_with_review)\n",
    "    else:\n",
    "        raise Exception('incorrect sentiment package')\n",
    "\n",
    "def sentiment_analysis_indiv(clause,sentiment_package = 'stanford'):\n",
    "    #takes in a single review\n",
    "    if sentiment_package == 'stanford':\n",
    "        nlp = stanford_sentiment_start()\n",
    "        result = nlp.annotate(clause,\n",
    "                   properties={\n",
    "                       'annotators': 'sentiment',\n",
    "                       'outputFormat': 'json'\n",
    "                   })\n",
    "        print(result['sentences'][0]['sentimentDistribution'])\n",
    "        return np.dot(result['sentences'][0]['sentimentDistribution'], [-2, -1, 0, 1, 2])\n",
    "    elif sentiment_package == 'vader':\n",
    "        analyzer = SentimentIntensityAnalyzer()\n",
    "        return analyzer.polarity_scores(clause)['compound']\n",
    "    else:\n",
    "        raise Exception('incorrect sentiment package')"
   ]
  },
  {
   "cell_type": "markdown",
   "metadata": {},
   "source": [
    "# Perform End-to-End Validation"
   ]
  },
  {
   "cell_type": "code",
   "execution_count": 21,
   "metadata": {},
   "outputs": [],
   "source": [
    "import pandas as pd\n",
    "import numpy as np\n",
    "import matplotlib.pyplot as plt\n",
    "import ast\n",
    "from tqdm.notebook import tqdm\n",
    "from collections import defaultdict"
   ]
  },
  {
   "cell_type": "code",
   "execution_count": 22,
   "metadata": {},
   "outputs": [],
   "source": [
    "bus = pd.read_csv(\"bus_same_stars_and_reviews.csv\")"
   ]
  },
  {
   "cell_type": "code",
   "execution_count": 23,
   "metadata": {},
   "outputs": [],
   "source": [
    "business_ids_similar_stars = bus.business_id.unique()"
   ]
  },
  {
   "cell_type": "code",
   "execution_count": 25,
   "metadata": {},
   "outputs": [
    {
     "name": "stdout",
     "output_type": "stream",
     "text": [
      "RULE:  rule_1\n"
     ]
    },
    {
     "data": {
      "application/vnd.jupyter.widget-view+json": {
       "model_id": "0d25ecc4245a40068d5a2f86ee08cbcc",
       "version_major": 2,
       "version_minor": 0
      },
      "text/plain": [
       "HBox(children=(IntProgress(value=0, max=10), HTML(value='')))"
      ]
     },
     "metadata": {},
     "output_type": "display_data"
    },
    {
     "name": "stdout",
     "output_type": "stream",
     "text": [
      "Running on restaurant  HhVmDybpU7L50Kb5A0jXTg ...\n",
      "Number of Reviews left after subset length:  1600\n",
      "Extracting entities from each review...\n"
     ]
    },
    {
     "data": {
      "application/vnd.jupyter.widget-view+json": {
       "model_id": "cd3aabe52b17450bbec18cb7f861dbf8",
       "version_major": 2,
       "version_minor": 0
      },
      "text/plain": [
       "HBox(children=(IntProgress(value=0, max=1600), HTML(value='')))"
      ]
     },
     "metadata": {},
     "output_type": "display_data"
    },
    {
     "name": "stdout",
     "output_type": "stream",
     "text": [
      "\n",
      "Filtering entities to have enough reviews...\n",
      "Calculating Yelp Star Rankings... \n",
      "Calculating Prediction Rankings...\n",
      "Performing sentiment analysis for each review... \n"
     ]
    },
    {
     "data": {
      "application/vnd.jupyter.widget-view+json": {
       "model_id": "b35f9260abf24c72bb575ea22b9464db",
       "version_major": 2,
       "version_minor": 0
      },
      "text/plain": [
       "HBox(children=(IntProgress(value=0, max=1600), HTML(value='')))"
      ]
     },
     "metadata": {},
     "output_type": "display_data"
    },
    {
     "name": "stdout",
     "output_type": "stream",
     "text": [
      "\n",
      "Rankings result: \n",
      "        entity  average_stars  predicted_score\n",
      "0        bacon       3.631478         0.308938\n",
      "1        fries       3.464529         0.305791\n",
      "2       burger       3.547432         0.310931\n",
      "3    appetizer       3.367589         0.244535\n",
      "4        place       3.325500         0.289715\n",
      "5       prices       3.549383         0.197286\n",
      "6         food       3.323452         0.343106\n",
      "7      service       3.419381         0.327135\n",
      "8        table       2.919732         0.093250\n",
      "9         menu       3.347826         0.193652\n",
      "10      cheese       3.564815         0.308473\n",
      "11       staff       3.508065         0.441308\n",
      "12     special       3.163934         0.100814\n",
      "13         bit       3.387805         0.240984\n",
      "14        meat       2.943231         0.049581\n",
      "15       sauce       3.374723         0.268016\n",
      "16        meal       3.326829         0.330472\n",
      "17        beer       3.432292         0.225188\n",
      "18      dinner       3.458537         0.292349\n",
      "19   breakfast       3.484962         0.286880\n",
      "20       lunch       3.620408         0.373241\n",
      "21  atmosphere       4.126582         0.626607\n",
      "22       taste       2.909639         0.236862\n",
      "23        side       3.357259         0.185998\n",
      "24        pork       3.531532         0.205368\n",
      "25    sandwich       3.502232         0.225068\n",
      "26       price       3.142105         0.255634\n",
      "27      turkey       3.692771         0.298193\n",
      "28       plate       3.040179         0.177083\n",
      "29       salad       3.074627         0.232933\n",
      "30     chicken       3.301818         0.194520\n",
      "31     brisket       3.423077         0.222229\n",
      "32       chili       3.414286         0.285028\n",
      "33       sweet       3.477833         0.558758\n",
      "34     portion       3.786517         0.497923\n",
      "35       steak       3.196581         0.258037\n",
      "36     truffle       3.642857         0.245852\n",
      "Spearman Correlation Score:  0.5625889046941678\n",
      "Running on restaurant  FvVSy2r7_zDEhZWqLgjXNQ ...\n",
      "Number of Reviews left after subset length:  546\n",
      "Extracting entities from each review...\n"
     ]
    },
    {
     "data": {
      "application/vnd.jupyter.widget-view+json": {
       "model_id": "c19d7965bbe24de89856a6f375e99da3",
       "version_major": 2,
       "version_minor": 0
      },
      "text/plain": [
       "HBox(children=(IntProgress(value=0, max=546), HTML(value='')))"
      ]
     },
     "metadata": {},
     "output_type": "display_data"
    },
    {
     "name": "stdout",
     "output_type": "stream",
     "text": [
      "\n",
      "Filtering entities to have enough reviews...\n",
      "Calculating Yelp Star Rankings... \n",
      "Calculating Prediction Rankings...\n",
      "Performing sentiment analysis for each review... \n"
     ]
    },
    {
     "data": {
      "application/vnd.jupyter.widget-view+json": {
       "model_id": "4a09d384183f4fb799ca592669c7a89f",
       "version_major": 2,
       "version_minor": 0
      },
      "text/plain": [
       "HBox(children=(IntProgress(value=0, max=546), HTML(value='')))"
      ]
     },
     "metadata": {},
     "output_type": "display_data"
    },
    {
     "name": "stdout",
     "output_type": "stream",
     "text": [
      "\n",
      "Rankings result: \n",
      "       entity  average_stars  predicted_score\n",
      "0       lunch       4.163522         0.455302\n",
      "1       place       3.953668         0.485893\n",
      "2        food       3.737527         0.408910\n",
      "3       staff       3.639640         0.600768\n",
      "4      cheese       4.138710         0.462256\n",
      "5   breakfast       4.187919         0.393519\n",
      "6    sandwich       3.850365         0.297867\n",
      "7       bagel       4.070822         0.371045\n",
      "8        soup       4.144385         0.536477\n",
      "9     service       3.675900         0.336411\n",
      "10      cream       4.150000         0.456608\n",
      "Spearman Correlation Score:  0.03636363636363637\n",
      "Running on restaurant  A5Rkh7UymKm0_Rxm9K2PJw ...\n",
      "Number of Reviews left after subset length:  621\n",
      "Extracting entities from each review...\n"
     ]
    },
    {
     "data": {
      "application/vnd.jupyter.widget-view+json": {
       "model_id": "5fd7eb3fbbe0465eaab508c5fd5f68cb",
       "version_major": 2,
       "version_minor": 0
      },
      "text/plain": [
       "HBox(children=(IntProgress(value=0, max=621), HTML(value='')))"
      ]
     },
     "metadata": {},
     "output_type": "display_data"
    },
    {
     "name": "stdout",
     "output_type": "stream",
     "text": [
      "\n",
      "Filtering entities to have enough reviews...\n",
      "Calculating Yelp Star Rankings... \n",
      "Calculating Prediction Rankings...\n",
      "Performing sentiment analysis for each review... \n"
     ]
    },
    {
     "data": {
      "application/vnd.jupyter.widget-view+json": {
       "model_id": "3f4d8838153642cdb31c1d8f85459902",
       "version_major": 2,
       "version_minor": 0
      },
      "text/plain": [
       "HBox(children=(IntProgress(value=0, max=621), HTML(value='')))"
      ]
     },
     "metadata": {},
     "output_type": "display_data"
    },
    {
     "name": "stdout",
     "output_type": "stream",
     "text": [
      "\n",
      "Rankings result: \n",
      "        entity  average_stars  predicted_score\n",
      "0         food       3.861080         0.492355\n",
      "1      service       3.900840         0.481035\n",
      "2         beer       4.031949         0.485098\n",
      "3        place       3.920000         0.509592\n",
      "4         menu       4.080925         0.347776\n",
      "5        fries       3.879781         0.490903\n",
      "6        salad       3.892405         0.316329\n",
      "7      chicken       3.968051         0.355153\n",
      "8        lunch       3.845528         0.435177\n",
      "9        staff       3.906667         0.578155\n",
      "10  atmosphere       4.266667         0.632449\n",
      "11      cheese       3.991111         0.379937\n",
      "12      prices       4.009615         0.622113\n",
      "13      burger       3.905263         0.428803\n",
      "Spearman Correlation Score:  0.15164835164835166\n",
      "Running on restaurant  GIfZNMP0oIJCje_Xp0Bgrw ...\n",
      "Number of Reviews left after subset length:  377\n",
      "Extracting entities from each review...\n"
     ]
    },
    {
     "data": {
      "application/vnd.jupyter.widget-view+json": {
       "model_id": "23f614fa8a714cf4b987af6dd70c232b",
       "version_major": 2,
       "version_minor": 0
      },
      "text/plain": [
       "HBox(children=(IntProgress(value=0, max=377), HTML(value='')))"
      ]
     },
     "metadata": {},
     "output_type": "display_data"
    },
    {
     "name": "stdout",
     "output_type": "stream",
     "text": [
      "\n",
      "Filtering entities to have enough reviews...\n",
      "Calculating Yelp Star Rankings... \n",
      "Calculating Prediction Rankings...\n",
      "Performing sentiment analysis for each review... \n"
     ]
    },
    {
     "data": {
      "application/vnd.jupyter.widget-view+json": {
       "model_id": "4545260d3e494fd88bbb18fa7b2cca52",
       "version_major": 2,
       "version_minor": 0
      },
      "text/plain": [
       "HBox(children=(IntProgress(value=0, max=377), HTML(value='')))"
      ]
     },
     "metadata": {},
     "output_type": "display_data"
    },
    {
     "name": "stdout",
     "output_type": "stream",
     "text": [
      "\n",
      "Rankings result: \n",
      "       entity  average_stars  predicted_score\n",
      "0        food       3.597920         0.445380\n",
      "1     service       3.476190         0.518490\n",
      "2      burger       3.572650         0.184539\n",
      "3       staff       3.848684         0.623412\n",
      "4       place       3.607407         0.366883\n",
      "5  atmosphere       3.955224         0.674658\n",
      "6     chicken       3.903475         0.395581\n",
      "7        menu       3.811966         0.392543\n",
      "8        beer       3.742138         0.373390\n",
      "Spearman Correlation Score:  0.43333333333333335\n",
      "Running on restaurant  BjH8Xepc10i6OhCDQdX6og ...\n",
      "Number of Reviews left after subset length:  416\n",
      "Extracting entities from each review...\n"
     ]
    },
    {
     "data": {
      "application/vnd.jupyter.widget-view+json": {
       "model_id": "0459d710317e485c8d288ad6286ee257",
       "version_major": 2,
       "version_minor": 0
      },
      "text/plain": [
       "HBox(children=(IntProgress(value=0, max=416), HTML(value='')))"
      ]
     },
     "metadata": {},
     "output_type": "display_data"
    },
    {
     "name": "stdout",
     "output_type": "stream",
     "text": [
      "\n",
      "Filtering entities to have enough reviews...\n",
      "Calculating Yelp Star Rankings... \n",
      "Calculating Prediction Rankings...\n",
      "Performing sentiment analysis for each review... \n"
     ]
    },
    {
     "data": {
      "application/vnd.jupyter.widget-view+json": {
       "model_id": "23d064a62a564ce6b93c41926ab30ef5",
       "version_major": 2,
       "version_minor": 0
      },
      "text/plain": [
       "HBox(children=(IntProgress(value=0, max=416), HTML(value='')))"
      ]
     },
     "metadata": {},
     "output_type": "display_data"
    },
    {
     "name": "stdout",
     "output_type": "stream",
     "text": [
      "\n",
      "Rankings result: \n",
      "     entity  average_stars  predicted_score\n",
      "0      menu       3.544681         0.215150\n",
      "1     place       3.454861         0.347652\n",
      "2     lunch       3.510638         0.222363\n",
      "3     staff       3.740741         0.452570\n",
      "4   service       3.516791         0.417926\n",
      "5     cream       3.942308         0.430321\n",
      "6    banana       3.961749         0.446451\n",
      "7       pie       3.744681         0.406421\n",
      "8      food       3.514423         0.355214\n",
      "9      meal       3.627376         0.413439\n",
      "10   dinner       3.800000         0.439054\n",
      "11     fish       3.589577         0.367331\n",
      "Spearman Correlation Score:  0.7622377622377624\n",
      "Running on restaurant  C8D_GU9cDDjbOJfCaGXxDQ ...\n",
      "Number of Reviews left after subset length:  694\n",
      "Extracting entities from each review...\n"
     ]
    },
    {
     "data": {
      "application/vnd.jupyter.widget-view+json": {
       "model_id": "80a44a4897e74a1fbdf78e7970d5caa2",
       "version_major": 2,
       "version_minor": 0
      },
      "text/plain": [
       "HBox(children=(IntProgress(value=0, max=694), HTML(value='')))"
      ]
     },
     "metadata": {},
     "output_type": "display_data"
    },
    {
     "name": "stdout",
     "output_type": "stream",
     "text": [
      "\n",
      "Filtering entities to have enough reviews...\n",
      "Calculating Yelp Star Rankings... \n",
      "Calculating Prediction Rankings...\n",
      "Performing sentiment analysis for each review... \n"
     ]
    },
    {
     "data": {
      "application/vnd.jupyter.widget-view+json": {
       "model_id": "d551bb81bae74073a7c12c4368e69c4e",
       "version_major": 2,
       "version_minor": 0
      },
      "text/plain": [
       "HBox(children=(IntProgress(value=0, max=694), HTML(value='')))"
      ]
     },
     "metadata": {},
     "output_type": "display_data"
    },
    {
     "name": "stdout",
     "output_type": "stream",
     "text": [
      "\n",
      "Rankings result: \n",
      "        entity  average_stars  predicted_score\n",
      "0        staff       3.891775         0.501101\n",
      "1      service       3.750000         0.516348\n",
      "2        place       3.834109         0.435666\n",
      "3       cheese       3.926020         0.372610\n",
      "4   atmosphere       4.047794         0.604101\n",
      "5         food       3.756155         0.454690\n",
      "6        table       3.401338         0.270469\n",
      "7      pretzel       4.012704         0.372535\n",
      "8       fondue       3.971098         0.408370\n",
      "9        salad       3.874539         0.425791\n",
      "10      dinner       3.776316         0.394282\n",
      "11       lunch       3.859259         0.430606\n",
      "12   appetizer       3.854460         0.373007\n",
      "13        menu       3.786096         0.318077\n",
      "14     chicken       3.948127         0.415961\n",
      "Spearman Correlation Score:  0.10357142857142855\n",
      "Running on restaurant  FLMxWQO-ckCQmGZhU9OQgw ...\n",
      "Number of Reviews left after subset length:  515\n",
      "Extracting entities from each review...\n"
     ]
    },
    {
     "data": {
      "application/vnd.jupyter.widget-view+json": {
       "model_id": "77cab9835c3549759346032428145f84",
       "version_major": 2,
       "version_minor": 0
      },
      "text/plain": [
       "HBox(children=(IntProgress(value=0, max=515), HTML(value='')))"
      ]
     },
     "metadata": {},
     "output_type": "display_data"
    },
    {
     "name": "stdout",
     "output_type": "stream",
     "text": [
      "\n",
      "Filtering entities to have enough reviews...\n",
      "Calculating Yelp Star Rankings... \n",
      "Calculating Prediction Rankings...\n",
      "Performing sentiment analysis for each review... \n"
     ]
    },
    {
     "data": {
      "application/vnd.jupyter.widget-view+json": {
       "model_id": "ade62dfc458c40cba0be4face83826ec",
       "version_major": 2,
       "version_minor": 0
      },
      "text/plain": [
       "HBox(children=(IntProgress(value=0, max=515), HTML(value='')))"
      ]
     },
     "metadata": {},
     "output_type": "display_data"
    },
    {
     "name": "stdout",
     "output_type": "stream",
     "text": [
      "\n",
      "Rankings result: \n",
      "     entity  average_stars  predicted_score\n",
      "0      crab       3.538642         0.175045\n",
      "1    buffet       3.478376         0.275137\n",
      "2   service       3.477509         0.401481\n",
      "3      food       3.407970         0.259695\n",
      "4    dinner       3.404959         0.249214\n",
      "5     lunch       3.488095         0.293850\n",
      "6   dessert       3.527964         0.392179\n",
      "7     place       3.361751         0.219351\n",
      "8   seafood       3.588745         0.270279\n",
      "9     price       3.358056         0.245445\n",
      "10      rib       3.325301         0.302286\n",
      "Spearman Correlation Score:  0.10000000000000002\n",
      "Running on restaurant  -6tvduBzjLI1ISfs3F_qTg ...\n",
      "Number of Reviews left after subset length:  642\n",
      "Extracting entities from each review...\n"
     ]
    },
    {
     "data": {
      "application/vnd.jupyter.widget-view+json": {
       "model_id": "9d398c01c7174078b656a6dc6c67f171",
       "version_major": 2,
       "version_minor": 0
      },
      "text/plain": [
       "HBox(children=(IntProgress(value=0, max=642), HTML(value='')))"
      ]
     },
     "metadata": {},
     "output_type": "display_data"
    },
    {
     "name": "stdout",
     "output_type": "stream",
     "text": [
      "\n",
      "Filtering entities to have enough reviews...\n",
      "Calculating Yelp Star Rankings... \n",
      "Calculating Prediction Rankings...\n",
      "Performing sentiment analysis for each review... \n"
     ]
    },
    {
     "data": {
      "application/vnd.jupyter.widget-view+json": {
       "model_id": "6cc63037f30248faa409f45f13d3f8c1",
       "version_major": 2,
       "version_minor": 0
      },
      "text/plain": [
       "HBox(children=(IntProgress(value=0, max=642), HTML(value='')))"
      ]
     },
     "metadata": {},
     "output_type": "display_data"
    },
    {
     "name": "stdout",
     "output_type": "stream",
     "text": [
      "\n",
      "Rankings result: \n",
      "        entity  average_stars  predicted_score\n",
      "0         fish       3.931655         0.376030\n",
      "1         food       3.675159         0.461138\n",
      "2        place       3.890130         0.514821\n",
      "3      service       3.786982         0.513094\n",
      "4   atmosphere       4.022124         0.662481\n",
      "5        salsa       3.646497         0.478207\n",
      "6         taco       3.926329         0.339895\n",
      "7        staff       4.005714         0.563581\n",
      "8        lunch       3.926316         0.398653\n",
      "9      chicken       4.006494         0.322442\n",
      "10     burrito       3.813793         0.428450\n",
      "11        corn       4.023810         0.384538\n",
      "Spearman Correlation Score:  -0.18881118881118883\n",
      "Running on restaurant  5LNZ67Yw9RD6nf4_UhXOjw ...\n",
      "Number of Reviews left after subset length:  730\n",
      "Extracting entities from each review...\n"
     ]
    },
    {
     "data": {
      "application/vnd.jupyter.widget-view+json": {
       "model_id": "c3b565aea30e44f48cad70fff1ec7749",
       "version_major": 2,
       "version_minor": 0
      },
      "text/plain": [
       "HBox(children=(IntProgress(value=0, max=730), HTML(value='')))"
      ]
     },
     "metadata": {},
     "output_type": "display_data"
    },
    {
     "name": "stdout",
     "output_type": "stream",
     "text": [
      "\n",
      "Filtering entities to have enough reviews...\n",
      "Calculating Yelp Star Rankings... \n",
      "Calculating Prediction Rankings...\n",
      "Performing sentiment analysis for each review... \n"
     ]
    },
    {
     "data": {
      "application/vnd.jupyter.widget-view+json": {
       "model_id": "d99f9e931e154794ad3c00dd587d0ff1",
       "version_major": 2,
       "version_minor": 0
      },
      "text/plain": [
       "HBox(children=(IntProgress(value=0, max=730), HTML(value='')))"
      ]
     },
     "metadata": {},
     "output_type": "display_data"
    },
    {
     "name": "stdout",
     "output_type": "stream",
     "text": [
      "\n",
      "Rankings result: \n",
      "    entity  average_stars  predicted_score\n",
      "0    staff       3.724490         0.512072\n",
      "1  service       3.539623         0.376040\n",
      "2    place       3.856981         0.410521\n",
      "3     food       3.795337         0.539044\n",
      "Spearman Correlation Score:  0.39999999999999997\n",
      "Running on restaurant  G-5kEa6E6PD5fkBRuA7k9Q ...\n",
      "Number of Reviews left after subset length:  509\n",
      "Extracting entities from each review...\n"
     ]
    },
    {
     "data": {
      "application/vnd.jupyter.widget-view+json": {
       "model_id": "2c1e55e6123c4545a99afeb4240626f3",
       "version_major": 2,
       "version_minor": 0
      },
      "text/plain": [
       "HBox(children=(IntProgress(value=0, max=509), HTML(value='')))"
      ]
     },
     "metadata": {},
     "output_type": "display_data"
    },
    {
     "name": "stdout",
     "output_type": "stream",
     "text": [
      "\n",
      "Filtering entities to have enough reviews...\n",
      "Calculating Yelp Star Rankings... \n",
      "Calculating Prediction Rankings...\n",
      "Performing sentiment analysis for each review... \n"
     ]
    },
    {
     "data": {
      "application/vnd.jupyter.widget-view+json": {
       "model_id": "e46d65b8dc8b4b5d89d379d38e1bb450",
       "version_major": 2,
       "version_minor": 0
      },
      "text/plain": [
       "HBox(children=(IntProgress(value=0, max=509), HTML(value='')))"
      ]
     },
     "metadata": {},
     "output_type": "display_data"
    },
    {
     "name": "stdout",
     "output_type": "stream",
     "text": [
      "\n",
      "Rankings result: \n",
      "        entity  average_stars  predicted_score\n",
      "0         menu       3.518847         0.179185\n",
      "1        bread       3.578431         0.371779\n",
      "2         food       3.410433         0.371352\n",
      "3        place       3.363431         0.335795\n",
      "4      service       3.484646         0.437635\n",
      "5       dinner       3.521053         0.333576\n",
      "6         meal       3.472296         0.372974\n",
      "7        staff       3.403433         0.488690\n",
      "8        table       3.306818         0.240628\n",
      "9        lemon       3.889197         0.261982\n",
      "10  atmosphere       3.876033         0.591850\n",
      "11         bit       3.657692         0.150821\n",
      "12       pasta       3.481383         0.264395\n",
      "13       lunch       3.419811         0.278132\n",
      "Spearman Correlation Score:  -0.08131868131868132\n",
      "\n"
     ]
    }
   ],
   "source": [
    "from scipy.stats import spearmanr\n",
    "rules = ['rule_1', 'rule_2', 'rule_3', 'rule_4', 'rule_5', 'rule_6']\n",
    "\n",
    "rule = 'rule_1'\n",
    "\n",
    "correlation_scores = []\n",
    "\n",
    "print(\"RULE: \", rule)\n",
    "for bus_id in tqdm(business_ids_similar_stars):\n",
    "    print(\"Running on restaurant \", bus_id, \"...\")\n",
    "    subset = bus[bus.business_id == bus_id]\n",
    "    \n",
    "    # only get reviews with enough amount of text\n",
    "    reviews_subset = [review for review in subset.text if len(review) < 400]\n",
    "\n",
    "    print(\"Number of Reviews left after subset length: \", len(reviews_subset))\n",
    "    \n",
    "    # get set of entities for this particular restaurant,\n",
    "    # and count how many reviews each entity have\n",
    "    entities_with_count = defaultdict(int) \n",
    "    review_entities = [] # extract entities for each review\n",
    "    print(\"Extracting entities from each review...\")\n",
    "    for review in tqdm(reviews_subset):\n",
    "        entities = get_entities(nlp, review)\n",
    "\n",
    "        # add this review as a count to an entity\n",
    "        for ent in entities:\n",
    "            entities_with_count[ent.lower()] += 1\n",
    "\n",
    "        review_entities.append(entities)\n",
    "        \n",
    "    # only grab entities that have enough reviews\n",
    "    print(\"Filtering entities to have enough reviews...\")\n",
    "    entities_with_enough_reviews = []\n",
    "    threshold = 30\n",
    "    for key, value in entities_with_count.items():\n",
    "        if value >= threshold:\n",
    "            entities_with_enough_reviews.append(key)\n",
    "            \n",
    "    # TRUE RANKINGS CALCULATION\n",
    "    # for each entity, average ratings\n",
    "    true_rankings = defaultdict(list)\n",
    "\n",
    "    print(\"Calculating Yelp Star Rankings... \")\n",
    "    for entity in entities_with_enough_reviews:\n",
    "        true_rankings['entity'] += [entity]\n",
    "        entity_reviews = subset[subset.text.str.contains(entity, case=False)]\n",
    "        true_rankings['average_stars'] += [np.mean(entity_reviews.stars)]\n",
    "\n",
    "    true_rankings = pd.DataFrame(true_rankings)\n",
    "    \n",
    "    # PREDICTION RANKING CALCULATION\n",
    "    print(\"Calculating Prediction Rankings...\")\n",
    "    # Filter entities of each review to be from the entities_with_enough_review set\n",
    "    entity_filter = set(entities_with_enough_reviews)\n",
    "\n",
    "    filtered_entities = []\n",
    "\n",
    "    for entities in review_entities:\n",
    "        filtered = []\n",
    "        for ent in entities:\n",
    "            ent = ent.lower()\n",
    "            if ent in entity_filter:\n",
    "                filtered.append(ent)\n",
    "        filtered_entities.append(filtered)\n",
    "    \n",
    "#     # run validation for each rule\n",
    "#     for rule in rules:\n",
    "\n",
    "    # perform sentiment analysis for each review with filtered entities above\n",
    "    predicted_scores = defaultdict(list)\n",
    "\n",
    "    print(\"Performing sentiment analysis for each review... \")\n",
    "    for i, review in enumerate(tqdm(reviews_subset)):\n",
    "        entities = filtered_entities[i]\n",
    "\n",
    "    #     print(review)\n",
    "\n",
    "        scores = werk(review, entities, parser = parser, sentiment_package='vader', rule=rule)\n",
    "\n",
    "        # save results \n",
    "        for entity, score in scores:\n",
    "            predicted_scores[entity] += [score]\n",
    "\n",
    "    # create rankings from scores\n",
    "    predicted_rankings = defaultdict(list)\n",
    "    for entity, scores in predicted_scores.items():\n",
    "        predicted_rankings['entity'] += [entity]\n",
    "        predicted_rankings['predicted_score'] += [np.mean(scores)]\n",
    "\n",
    "    predicted_rankings = pd.DataFrame(predicted_rankings)\n",
    "\n",
    "    #### may not be necessary to do these castings\n",
    "    predicted_rankings['entity'] = predicted_rankings['entity'].astype(str)\n",
    "    true_rankings['entity'] = true_rankings['entity'].astype(str)\n",
    "    ####\n",
    "    \n",
    "    full_rankings = true_rankings.merge(predicted_rankings, how='left').fillna(0)\n",
    "\n",
    "    # spearman correlation metric\n",
    "    print(\"Rankings result: \")\n",
    "    print(full_rankings)\n",
    "    \n",
    "    corr, pvalue = spearmanr(full_rankings.average_stars, full_rankings.predicted_score)\n",
    "    print(\"Spearman Correlation Score: \", corr)\n",
    "    correlation_scores.append(corr)\n",
    "        #     print(werk(review, entities, parser = parser,sentiment_package='vader'))"
   ]
  },
  {
   "cell_type": "code",
   "execution_count": 27,
   "metadata": {},
   "outputs": [
    {
     "name": "stdout",
     "output_type": "stream",
     "text": [
      "Final Correlation Score:  0.22796135467188097\n"
     ]
    }
   ],
   "source": [
    "print(\"Final Correlation Score: \", np.mean(correlation_scores))"
   ]
  },
  {
   "cell_type": "code",
   "execution_count": null,
   "metadata": {},
   "outputs": [],
   "source": []
  }
 ],
 "metadata": {
  "kernelspec": {
   "display_name": "Python 3",
   "language": "python",
   "name": "python3"
  },
  "language_info": {
   "codemirror_mode": {
    "name": "ipython",
    "version": 3
   },
   "file_extension": ".py",
   "mimetype": "text/x-python",
   "name": "python",
   "nbconvert_exporter": "python",
   "pygments_lexer": "ipython3",
   "version": "3.7.4"
  }
 },
 "nbformat": 4,
 "nbformat_minor": 2
}
