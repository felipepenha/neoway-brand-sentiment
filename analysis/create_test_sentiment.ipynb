{
 "cells": [
  {
   "cell_type": "code",
   "execution_count": 2,
   "metadata": {},
   "outputs": [],
   "source": [
    "import pandas as pd\n",
    "import numpy as np\n",
    "import pyspark"
   ]
  },
  {
   "cell_type": "code",
   "execution_count": 200,
   "metadata": {},
   "outputs": [],
   "source": [
    "df_raw = pd.read_json(\"restaurant_reviews_1900k.json\", lines=True)"
   ]
  },
  {
   "cell_type": "code",
   "execution_count": 201,
   "metadata": {},
   "outputs": [
    {
     "data": {
      "text/plain": [
       "(248846, 9)"
      ]
     },
     "execution_count": 201,
     "metadata": {},
     "output_type": "execute_result"
    }
   ],
   "source": [
    "many_reviews = df_raw[['business_id','review_id']].groupby(\"business_id\")['review_id'].nunique()\n",
    "many_reviews = many_reviews[many_reviews > 1000].index\n",
    "df = df_raw[df_raw.business_id.isin(set(many_reviews))]\n",
    "df.shape"
   ]
  },
  {
   "cell_type": "code",
   "execution_count": 202,
   "metadata": {},
   "outputs": [
    {
     "data": {
      "text/plain": [
       "142"
      ]
     },
     "execution_count": 202,
     "metadata": {},
     "output_type": "execute_result"
    }
   ],
   "source": [
    "len(df.business_id.unique())"
   ]
  },
  {
   "cell_type": "code",
   "execution_count": 203,
   "metadata": {},
   "outputs": [],
   "source": [
    "subset = df.business_id.unique()[1:5]"
   ]
  },
  {
   "cell_type": "code",
   "execution_count": 204,
   "metadata": {},
   "outputs": [],
   "source": [
    "df_sub = df[df.business_id.isin(set(subset))]"
   ]
  },
  {
   "cell_type": "code",
   "execution_count": 208,
   "metadata": {},
   "outputs": [
    {
     "data": {
      "text/plain": [
       "array(['cHdJXLlKNWixBXpDwEGb_A', 'd_L-rfS1vT3JMzgCUGtiow',\n",
       "       'N0apJkxIem2E8irTBRKnHw', 'IMLrj2klosTFvPRLv56cng'], dtype=object)"
      ]
     },
     "execution_count": 208,
     "metadata": {},
     "output_type": "execute_result"
    }
   ],
   "source": [
    "df_sub.business_id.unique()"
   ]
  },
  {
   "cell_type": "code",
   "execution_count": 209,
   "metadata": {},
   "outputs": [],
   "source": [
    "temp = df_sub[df_sub.business_id == 'N0apJkxIem2E8irTBRKnHw']"
   ]
  },
  {
   "cell_type": "code",
   "execution_count": 210,
   "metadata": {},
   "outputs": [
    {
     "data": {
      "text/plain": [
       "'We visited last week.  Be Warned! My husband\\'s sister ordered a cheeseburger.  The waiter asked how she wanted it cooked and explained that \"Medium\" would be pink through-out.  She ordered the burger medium.  It took a very long time for our food to arrive and when it did, her burger was cooked very well done.  The waiter offered to have another burger made.  We had waited quite a while, and everyone was nearly done with their meals, all of us sharing with my sister-in-law whom still had no burger.  The waiter came by and my sister-in-law said to just cancel the order because we had already waited too long for it.  He said that he would take care of it.  A few minutes later, someone who appeared to be a manager came to the table delivering the burger we had already asked to be removed from the order.  My sister in law, frustrated at this point stated \"No, I don\\'t want it now\".  The manager walked away.  A few minutes later I noticed the manager with a waiter standing in the middle of the restaurant pointing at our table and mocking my sister-in-law like a school yard bully.  I very discreetly informed our waiter that I thought it was highly inappropriate for his manager to behave in such a way.  Moments later the manager stormed up to our table and began raising his voice at me and scolding me for my \"perception\" about what had taken place.  He then went on to blame the whole incident on the waiter, who had done nothing wrong.  I won\\'t be back.'"
      ]
     },
     "execution_count": 210,
     "metadata": {},
     "output_type": "execute_result"
    }
   ],
   "source": [
    "temp.text.iloc[4]"
   ]
  },
  {
   "cell_type": "code",
   "execution_count": 212,
   "metadata": {},
   "outputs": [
    {
     "name": "stdout",
     "output_type": "stream",
     "text": [
      "(53, 10)\n",
      "(10, 10)\n",
      "(5, 10)\n"
     ]
    },
    {
     "name": "stderr",
     "output_type": "stream",
     "text": [
      "/usr/local/lib/python3.7/site-packages/ipykernel_launcher.py:3: SettingWithCopyWarning: \n",
      "A value is trying to be set on a copy of a slice from a DataFrame.\n",
      "Try using .loc[row_indexer,col_indexer] = value instead\n",
      "\n",
      "See the caveats in the documentation: http://pandas.pydata.org/pandas-docs/stable/user_guide/indexing.html#returning-a-view-versus-a-copy\n",
      "  This is separate from the ipykernel package so we can avoid doing imports until\n"
     ]
    }
   ],
   "source": [
    "item = temp[temp.text.str.lower().replace('\\n','').str.contains('burger')]\n",
    "item.text.iloc[0]\n",
    "item[\"string_length\"] = item.text.str.len()\n",
    "\n",
    "short = item[item.string_length < 350]\n",
    "long = item[item.string_length >= 1000]\n",
    "\n",
    "short_good = short[short.stars > 3]\n",
    "short_neutral = short[short.stars == 3]\n",
    "short_bad = short[short.stars < 3]\n",
    "\n",
    "print(short_good.shape)\n",
    "print(short_neutral.shape)\n",
    "print(short_bad.shape)"
   ]
  },
  {
   "cell_type": "code",
   "execution_count": 217,
   "metadata": {},
   "outputs": [
    {
     "name": "stdout",
     "output_type": "stream",
     "text": [
      "(34, 10)\n",
      "(9, 10)\n",
      "(3, 10)\n"
     ]
    }
   ],
   "source": [
    "long_good = long[long.stars > 3]\n",
    "long_neutral = long[long.stars == 3]\n",
    "long_bad = long[long.stars < 3]\n",
    "\n",
    "print(long_good.shape)\n",
    "print(long_neutral.shape)\n",
    "print(long_bad.shape)"
   ]
  },
  {
   "cell_type": "code",
   "execution_count": 218,
   "metadata": {},
   "outputs": [],
   "source": [
    "short_good.to_csv(\"short_good_burger.csv\")\n",
    "short_neutral.to_csv(\"short_neutral_burger.csv\")\n",
    "short_bad.to_csv(\"short_bad_burger.csv\")\n"
   ]
  },
  {
   "cell_type": "code",
   "execution_count": 219,
   "metadata": {},
   "outputs": [],
   "source": [
    "long_good.to_csv(\"long_good_burger.csv\")\n",
    "long_neutral.to_csv(\"long_neutral_burger.csv\")\n",
    "long_bad.to_csv(\"long_bad_burger.csv\")"
   ]
  },
  {
   "cell_type": "code",
   "execution_count": 213,
   "metadata": {},
   "outputs": [
    {
     "name": "stdout",
     "output_type": "stream",
     "text": [
      "Index:  0\n",
      "We thought this place would have wonderful food! Wrong! Worst burger ever...\n",
      "If they spent more time on their food than the decor they might have decent food. Waitress was barely there...like in lala land there!\n",
      "Wont go back!\n",
      "\n",
      "STARS: 3\n",
      "\n",
      "=========================================\n",
      "\n",
      "Index:  1\n",
      "Ambience & service are great~food is okay. I got the burger, which at $17, was the cheapest option. It was dry & flavorless. The fries were limp shoestrings seasoned w/ too much salt. The salad was a joke. Two pickles and coleslaw, yes coleslaw, on two pieces of romaine.\n",
      "\n",
      "STARS: 3\n",
      "\n",
      "=========================================\n",
      "\n",
      "Index:  2\n",
      "Food was so so. My fries were cold when served. Burger was good quality beef, but broken in bun and very salty.  Small end piece of tomato and soggy, sauce -soaked lettuce. Husband had chicken - presentation was beautiful.  Not cooked through,  pink in the middle.  Would not choose again\n",
      "\n",
      "STARS: 3\n",
      "\n",
      "=========================================\n",
      "\n",
      "Index:  3\n",
      "First day in Vegas, up until WGP's wife and I have shared food. I had the chicken she got the prime burger, and caught ecoli from the meat..you would think being close to 100$ for the meal, they would be more cautious, welcome to Vegas!\n",
      "\n",
      "STARS: 3\n",
      "\n",
      "=========================================\n",
      "\n",
      "Index:  4\n",
      "Pretty bad experience. Food wasn't great at all. Steak came in cold twice (after heat) and the burgers were not tasty.\n",
      "\n",
      "STARS: 3\n",
      "\n",
      "=========================================\n",
      "\n"
     ]
    }
   ],
   "source": [
    "for i in range(5):\n",
    "    print(\"Index: \", i)\n",
    "    print(short_bad.text.iloc[i])\n",
    "    print(\"\\nSTARS:\", short_neutral.stars.iloc[i])\n",
    "    print('\\n=========================================\\n')"
   ]
  },
  {
   "cell_type": "code",
   "execution_count": 216,
   "metadata": {},
   "outputs": [
    {
     "name": "stdout",
     "output_type": "stream",
     "text": [
      "Index:  0\n",
      "on the whole was very good.  I like the variety of toppings for the burgers.  My first combo was grilled mushrooms, grilled onions, tomatoes, green peppers, with A-1and hot sauce.\n",
      "\n",
      "STARS: 3\n",
      "\n",
      "=========================================\n",
      "\n",
      "Index:  1\n",
      "A bit pricey for what it is. But the crab cakes where good . Burger ordered medium arrived well done still tasty but not worth the bill\n",
      "\n",
      "STARS: 3\n",
      "\n",
      "=========================================\n",
      "\n",
      "Index:  2\n",
      "The chinois salad was good. The burger that my boyfriend had was AMAZING!! The service is very good\n",
      "\n",
      "STARS: 3\n",
      "\n",
      "=========================================\n",
      "\n",
      "Index:  3\n",
      "I was not very impressed. I had the prime rib burger and it was overly greasy and the mayo or whatever sauce was on it was too much. The fries were tasty though.  \n",
      "\n",
      "Overall you can get a better meal elsewhere, but I will say the price is fairly reasonable for the location right in the middle of the casino.\n",
      "\n",
      "STARS: 3\n",
      "\n",
      "=========================================\n",
      "\n",
      "Index:  4\n",
      "Not bad, but like everything else in Vegas these days: over-priced. I had a pizza, many at my table had the burger. The burger looked quite good. The pizza was fine, but nothing special. Of all the restaurants we ate at in the MGM, we liked the atmosphere here best. It's great for people watching.\n",
      "\n",
      "STARS: 3\n",
      "\n",
      "=========================================\n",
      "\n",
      "Index:  5\n",
      "Low quality for high prices. Burger was only ok. Pasta was small and not really warm. Service is nice and friendly though...\n",
      "\n",
      "STARS: 3\n",
      "\n",
      "=========================================\n",
      "\n",
      "Index:  6\n",
      "The customer service was fantastic when my husband and I came for a late night dinner. I was supper disapointed with the food. The pasta I got was plain and bland and the burger my husband got was good but the fries were totally over salted. We just ate quickly and left. So sad even though our waiter was awesome.\n",
      "\n",
      "STARS: 3\n",
      "\n",
      "=========================================\n",
      "\n",
      "Index:  7\n",
      "Good food but a bit pricey for what you get at this kind of a restaurant. Had the prime burger and seafood pasta. The pasta was great, but not $30 great. Same for burger... not worth $20 in my humble opinion.\n",
      "\n",
      "STARS: 3\n",
      "\n",
      "=========================================\n",
      "\n",
      "Index:  8\n",
      "I had a dining credit with our room. Used it here. I thought the tuna tartar was interesting. The best part of the burger was the fries. linguini was okay and drinks were fine but expensive. Wouldn't go back because there is so many options in Las Vegas but it's not a bad choice to use your credit at MGM.\n",
      "\n",
      "STARS: 3\n",
      "\n",
      "=========================================\n",
      "\n",
      "Index:  9\n",
      "Not too shabby. Nice atmosphere and service. The food was solid, though nothing to write home about. Skimpy on the pasta serving size given the price, but the burger was large and served with a good amount of well seasoned fries. The pizza was also a hit.\n",
      "\n",
      "STARS: 3\n",
      "\n",
      "=========================================\n",
      "\n"
     ]
    }
   ],
   "source": [
    "for i in range(10):\n",
    "    print(\"Index: \", i)\n",
    "    print(short_neutral.text.iloc[i])\n",
    "    print(\"\\nSTARS:\", short_neutral.stars.iloc[i])\n",
    "    print('\\n=========================================\\n')"
   ]
  },
  {
   "cell_type": "code",
   "execution_count": 162,
   "metadata": {},
   "outputs": [
    {
     "name": "stdout",
     "output_type": "stream",
     "text": [
      "Index:  0\n",
      "Don't be fooled - this place is not a fusion of cuisines.  You get a combo plate of Chinese and Mexican.  I had the jade red chicken and fried rice (Chinese) with the black beans and quesadilla (Mexican).  The food was good but you can get better anywhere.\n",
      "\n",
      "STARS: 3\n",
      "\n",
      "=========================================\n",
      "\n",
      "Index:  1\n",
      "This was my fault since I hyped it up too much.  I ordered the carnitas burrito and jade red chicken with the jerk fried rice.  She ordered the bbq pork with jerk fried rice.  It was underwhelming.  But there were tons of cats so they are doing something right.\n",
      "\n",
      "STARS: 3\n",
      "\n",
      "=========================================\n",
      "\n",
      "Index:  2\n",
      "3.5 stars. \n",
      "\n",
      "Been here a few times, and the food is pretty good ..it would be awesome if they were open late nite.  \n",
      "\n",
      "The jerk fried rice, the jade red chicken, and the jen red pork are great and dont disappoint.  The pollo diablo has good kick, and the hengrenade chicken is pretty good too.  The machaca is kinda bland, but the hot sauce helps.\n",
      "\n",
      "STARS: 3\n",
      "\n",
      "=========================================\n",
      "\n",
      "Index:  3\n",
      "I been going to this restaurant for a few years now, I like the concept and the flavor of the Jade Red Chicken and there black beans but I'm just surprised that they still don't have white chicken meat as an option. The staff is always friendly and restaurant looks poor but clean\n",
      "\n",
      "STARS: 3\n",
      "\n",
      "=========================================\n",
      "\n",
      "Index:  4\n",
      "This place was good, but not as good as expected. I got the combo bowl with carnitas and jade red chicken, no rice, and a side of refried beans. Carnitas were decent, didn't care for the chicken, and refried beans were good. I would come back because it is a decent cheap option.\n",
      "\n",
      "STARS: 3\n",
      "\n",
      "=========================================\n",
      "\n"
     ]
    }
   ],
   "source": [
    "for i in range(5):\n",
    "    print(\"Index: \", i)\n",
    "    print(short_neutral.text.iloc[i])\n",
    "    print(\"\\nSTARS:\", short_neutral.stars.iloc[i])\n",
    "    print('\\n=========================================\\n')"
   ]
  },
  {
   "cell_type": "code",
   "execution_count": 117,
   "metadata": {},
   "outputs": [
    {
     "data": {
      "image/png": "[encoded data removed]",
      "text/plain": [
       "<Figure size 432x288 with 1 Axes>"
      ]
     },
     "metadata": {
      "needs_background": "light"
     },
     "output_type": "display_data"
    }
   ],
   "source": [
    "import matplotlib.pyplot as plt\n",
    "plt.hist(jade_chicken.string_length)\n",
    "plt.show()"
   ]
  },
  {
   "cell_type": "code",
   "execution_count": null,
   "metadata": {},
   "outputs": [],
   "source": [
    "index = [\n",
    "    \n",
    "]\n",
    "\n",
    "results = [\n",
    "    \n",
    "]"
   ]
  },
  {
   "cell_type": "code",
   "execution_count": null,
   "metadata": {},
   "outputs": [],
   "source": [
    "# goal: create "
   ]
  }
 ],
 "metadata": {
  "kernelspec": {
   "display_name": "Python 3",
   "language": "python",
   "name": "python3"
  },
  "language_info": {
   "codemirror_mode": {
    "name": "ipython",
    "version": 3
   },
   "file_extension": ".py",
   "mimetype": "text/x-python",
   "name": "python",
   "nbconvert_exporter": "python",
   "pygments_lexer": "ipython3",
   "version": "3.7.4"
  }
 },
 "nbformat": 4,
 "nbformat_minor": 2
}
